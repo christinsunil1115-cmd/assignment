{
  "nbformat": 4,
  "nbformat_minor": 0,
  "metadata": {
    "colab": {
      "provenance": [],
      "collapsed_sections": [
        "Rg0ug2Ii3qJQ",
        "LYa4-waYj3r0",
        "aHLf9tHRkUMq",
        "pSqZlFXBlHfG"
      ]
    },
    "kernelspec": {
      "name": "python3",
      "display_name": "Python 3"
    },
    "language_info": {
      "name": "python"
    }
  },
  "cells": [
    {
      "cell_type": "markdown",
      "source": [
        "# **List Exercises**"
      ],
      "metadata": {
        "id": "Rg0ug2Ii3qJQ"
      }
    },
    {
      "cell_type": "code",
      "source": [
        "# 1. Declare an empty list\n",
        "\n",
        "empty_list=[]\n",
        "print(empty_list)"
      ],
      "metadata": {
        "colab": {
          "base_uri": "https://localhost:8080/"
        },
        "id": "nbFPq7Hd3yII",
        "outputId": "04694461-7e67-485f-ff42-ef475184e978"
      },
      "execution_count": null,
      "outputs": [
        {
          "output_type": "stream",
          "name": "stdout",
          "text": [
            "[]\n"
          ]
        }
      ]
    },
    {
      "cell_type": "code",
      "source": [
        "# 2. Declare a list with more than 5 items\n",
        "\n",
        "item=['python',525,'lemon',2.3,3+4j]\n",
        "print(item)"
      ],
      "metadata": {
        "colab": {
          "base_uri": "https://localhost:8080/"
        },
        "id": "WsvrqBCH4KmD",
        "outputId": "615a22b0-8ea3-49eb-b03f-7455fa32fde4"
      },
      "execution_count": null,
      "outputs": [
        {
          "output_type": "stream",
          "name": "stdout",
          "text": [
            "['python', 525, 'lemon', 2.3, (3+4j)]\n"
          ]
        }
      ]
    },
    {
      "cell_type": "code",
      "source": [
        "# 3. Find the length of your list\n",
        "fruits = [\"Apple\", \"Banana\", \"Mango\", \"Orange\", \"Grapes\", \"Pineapple\", \"Cherry\"]\n",
        "print(len(fruits))"
      ],
      "metadata": {
        "colab": {
          "base_uri": "https://localhost:8080/"
        },
        "id": "Xfkcv9Mo4Kin",
        "outputId": "703a97d6-091d-4046-9b0b-329ac7920830"
      },
      "execution_count": null,
      "outputs": [
        {
          "output_type": "stream",
          "name": "stdout",
          "text": [
            "7\n"
          ]
        }
      ]
    },
    {
      "cell_type": "code",
      "source": [
        "# 4.Get the first item, the middle item and the last item of the list\n",
        "\n",
        "fruits = [\"Apple\", \"Banana\", \"Mango\",\"Grapes\", \"Pineapple\"]\n",
        "print(fruits[0])\n",
        "print(fruits[2])\n",
        "print(fruits[-1])"
      ],
      "metadata": {
        "colab": {
          "base_uri": "https://localhost:8080/"
        },
        "id": "KKhaFm3S4KgL",
        "outputId": "3bf0a432-77a6-4c70-80b6-2279b85863a7"
      },
      "execution_count": null,
      "outputs": [
        {
          "output_type": "stream",
          "name": "stdout",
          "text": [
            "Apple\n",
            "Mango\n",
            "Pineapple\n"
          ]
        }
      ]
    },
    {
      "cell_type": "code",
      "source": [
        "# 5.Declare a list called mixed_data_types, put your(name, age, height, marital status, address)\n",
        "\n",
        "mixed_data_types=[\"vaishnav\",20,5.95,'single',\"kollam ,kerala\"]\n",
        "print(mixed_data_types)"
      ],
      "metadata": {
        "colab": {
          "base_uri": "https://localhost:8080/"
        },
        "id": "Dja6vbMt4KeF",
        "outputId": "28e2ba85-9a7c-4a7d-8dbc-a6d18f6ce2ba"
      },
      "execution_count": null,
      "outputs": [
        {
          "output_type": "stream",
          "name": "stdout",
          "text": [
            "['vaishnav', 20, 5.95, 'single', 'kollam ,kerala']\n"
          ]
        }
      ]
    },
    {
      "cell_type": "code",
      "source": [
        "# 6. Declare a list variable named it_companies and assign initial values\n",
        "# Facebook, Google, Microsoft, Apple, IBM, Oracle and Amazon.\n",
        "\n",
        "it_companies=[\"Facebook\", \"Google\", \"Microsoft\", \"Apple\", \"IBM\", \"Oracle\",\"Amazon\"]\n",
        "print(it_companies)"
      ],
      "metadata": {
        "colab": {
          "base_uri": "https://localhost:8080/"
        },
        "id": "mjoT0-fT4Kbl",
        "outputId": "50c09013-065b-4be8-9b44-896f98851a48"
      },
      "execution_count": null,
      "outputs": [
        {
          "output_type": "stream",
          "name": "stdout",
          "text": [
            "['Facebook', 'Google', 'Microsoft', 'Apple', 'IBM', 'Oracle', 'Amazon']\n"
          ]
        }
      ]
    },
    {
      "cell_type": "code",
      "source": [
        "#7. Print the list using print()\n",
        "lis=[\"abc\",123,\"lime\",(3+4j)]\n",
        "print(lis)"
      ],
      "metadata": {
        "colab": {
          "base_uri": "https://localhost:8080/"
        },
        "id": "8zC3YTNy4KY9",
        "outputId": "e9dd22fc-38f4-4fd0-d613-3a455c9fc856"
      },
      "execution_count": null,
      "outputs": [
        {
          "output_type": "stream",
          "name": "stdout",
          "text": [
            "['abc', 123, 'lime', (3+4j)]\n"
          ]
        }
      ]
    },
    {
      "cell_type": "code",
      "source": [
        "# 8. Print the number of companies in the list\n",
        "\n",
        "companies=[\"Rolls-Royce\", \"Bentley\", \"Lamborgini\", \"BMW\", \"Toyota\", \"Mazda\",\"Pagani\"]\n",
        "print(\"Number of companies:\",len(companies))"
      ],
      "metadata": {
        "colab": {
          "base_uri": "https://localhost:8080/"
        },
        "id": "-uERqgxa4KWi",
        "outputId": "193eb79a-739e-4df0-aea7-c2b1229220d1"
      },
      "execution_count": null,
      "outputs": [
        {
          "output_type": "stream",
          "name": "stdout",
          "text": [
            "Number of companies: 7\n"
          ]
        }
      ]
    },
    {
      "cell_type": "code",
      "source": [
        "# 9. Print the first, middle and last company\n",
        "\n",
        "companies=[\"Rolls-Royce\", \"Bentley\", \"Lamborgini\", \"BMW\", \"Toyota\", \"Mazda\",\"Pagani\"]\n",
        "print(\"First companies:\",companies[0])\n",
        "print(\"Middle companies:\",companies[len(companies)//2])\n",
        "print(\"Last companies:\",companies[-1])"
      ],
      "metadata": {
        "colab": {
          "base_uri": "https://localhost:8080/"
        },
        "id": "_RCA3esP4KUJ",
        "outputId": "78782365-51af-4e91-825b-88194ea3c210"
      },
      "execution_count": null,
      "outputs": [
        {
          "output_type": "stream",
          "name": "stdout",
          "text": [
            "First companies: Rolls-Royce\n",
            "Middle companies: BMW\n",
            "Last companies: Pagani\n"
          ]
        }
      ]
    },
    {
      "cell_type": "code",
      "source": [
        "# 10. Print the list after modifying one of the companies\n",
        "companies=[\"Rolls-Royce\", \"Bentley\", \"Lamborgini\", \"BMW\", \"Toyota\", \"Mazda\",\"Pagani\"]\n",
        "print(companies)\n",
        "companies[5]=\"Google\"\n",
        "print(companies)"
      ],
      "metadata": {
        "colab": {
          "base_uri": "https://localhost:8080/"
        },
        "id": "0Lp2_TlN4KRi",
        "outputId": "488212a1-9c3a-4a1f-f4b1-d03b4f3b60fd"
      },
      "execution_count": null,
      "outputs": [
        {
          "output_type": "stream",
          "name": "stdout",
          "text": [
            "['Rolls-Royce', 'Bentley', 'Lamborgini', 'BMW', 'Toyota', 'Mazda', 'Pagani']\n",
            "['Rolls-Royce', 'Bentley', 'Lamborgini', 'BMW', 'Toyota', 'Google', 'Pagani']\n"
          ]
        }
      ]
    },
    {
      "cell_type": "code",
      "source": [
        "# 11. Add an IT company to it_companies\n",
        "\n",
        "it_companies=[\"Facebook\", \"Google\", \"Microsoft\", \"Apple\", \"IBM\", \"Oracle\",\"Amazon\"]\n",
        "print(it_companies)\n",
        "it_companies.append(\"Ebay\")\n",
        "print(it_companies)"
      ],
      "metadata": {
        "colab": {
          "base_uri": "https://localhost:8080/"
        },
        "id": "zAYlhJc44KO9",
        "outputId": "644cee31-dd42-4836-e044-9efd26b9c47a"
      },
      "execution_count": null,
      "outputs": [
        {
          "output_type": "stream",
          "name": "stdout",
          "text": [
            "['Facebook', 'Google', 'Microsoft', 'Apple', 'IBM', 'Oracle', 'Amazon']\n",
            "['Facebook', 'Google', 'Microsoft', 'Apple', 'IBM', 'Oracle', 'Amazon', 'Ebay']\n"
          ]
        }
      ]
    },
    {
      "cell_type": "code",
      "source": [
        "# 12. Insert an IT company in the middle of the companies list\n",
        "\n",
        "it_companies=[\"Facebook\", \"Google\", \"Microsoft\", \"Apple\", \"IBM\", \"Oracle\",\"Amazon\"]\n",
        "print(it_companies)\n",
        "it_companies.insert(len(it_companies)//2, \"Ebay\")\n",
        "print(it_companies)"
      ],
      "metadata": {
        "colab": {
          "base_uri": "https://localhost:8080/"
        },
        "id": "hl-qV38D4KMn",
        "outputId": "eaf4b659-663e-4d57-b4db-91dd0cb6de4b"
      },
      "execution_count": null,
      "outputs": [
        {
          "output_type": "stream",
          "name": "stdout",
          "text": [
            "['Facebook', 'Google', 'Microsoft', 'Apple', 'IBM', 'Oracle', 'Amazon']\n",
            "['Facebook', 'Google', 'Microsoft', 'Ebay', 'Apple', 'IBM', 'Oracle', 'Amazon']\n"
          ]
        }
      ]
    },
    {
      "cell_type": "code",
      "source": [
        "# 13. Change one of the it_companies names to uppercase (IBM excluded!)\n",
        "\n",
        "it_companies=[\"Facebook\", \"Google\", \"Microsoft\", \"Apple\", \"IBM\", \"Oracle\",\"Amazon\"]\n",
        "it_companies[0]=it_companies[0].upper()\n",
        "print(it_companies)"
      ],
      "metadata": {
        "colab": {
          "base_uri": "https://localhost:8080/"
        },
        "id": "ZjIMDTvj4KKY",
        "outputId": "36daeb29-82a3-498a-8c60-8e5d0919d24b"
      },
      "execution_count": null,
      "outputs": [
        {
          "output_type": "stream",
          "name": "stdout",
          "text": [
            "['FACEBOOK', 'Google', 'Microsoft', 'Apple', 'IBM', 'Oracle', 'Amazon']\n"
          ]
        }
      ]
    },
    {
      "cell_type": "code",
      "source": [
        "# 14. Join the it_companies with a string '#;  '\n",
        "\n",
        "it_companies=[\"Facebook\", \"Google\", \"Microsoft\"]\n",
        "string=\"#\"\n",
        "jo_company=string.join(it_companies)\n",
        "print(jo_company)\n",
        "\n",
        "#OR\n",
        "it_companies=[\"Facebook\", \"Google\", \"Microsoft\"]\n",
        "string=\"#\"\n",
        "company=it_companies+[string]\n",
        "print(company)"
      ],
      "metadata": {
        "colab": {
          "base_uri": "https://localhost:8080/"
        },
        "id": "xJdR5U8O4KHm",
        "outputId": "82b1a05c-4990-4a38-96a9-49ec942bd809"
      },
      "execution_count": null,
      "outputs": [
        {
          "output_type": "stream",
          "name": "stdout",
          "text": [
            "Facebook#Google#Microsoft\n",
            "['Facebook', 'Google', 'Microsoft', '#']\n"
          ]
        }
      ]
    },
    {
      "cell_type": "code",
      "source": [
        "# 15. Check if a certain company exists in the it_companies list.\n",
        "\n",
        "it_companies=[\"Facebook\", \"Google\", \"Microsoft\", \"Apple\", \"IBM\", \"Oracle\",\"Amazon\"]\n",
        "if \"IBM\" in  it_companies:\n",
        "  print(\"True\")\n",
        "else:\n",
        "  print(\"False\")"
      ],
      "metadata": {
        "colab": {
          "base_uri": "https://localhost:8080/"
        },
        "id": "KD4prsYo4KFL",
        "outputId": "5b0d8273-b487-4910-9e1d-c6123304750b"
      },
      "execution_count": null,
      "outputs": [
        {
          "output_type": "stream",
          "name": "stdout",
          "text": [
            "True\n"
          ]
        }
      ]
    },
    {
      "cell_type": "code",
      "source": [
        "# 16. Sort the list using sort() method\n",
        "it_companies=[\"Facebook\", \"Google\", \"Microsoft\", \"Apple\", \"IBM\", \"Oracle\",\"Amazon\"]\n",
        "it_companies.sort()\n",
        "print(it_companies)"
      ],
      "metadata": {
        "colab": {
          "base_uri": "https://localhost:8080/"
        },
        "id": "j7Rwp95T4KCe",
        "outputId": "99d4659d-e702-4988-95e1-eda3c228aef1"
      },
      "execution_count": null,
      "outputs": [
        {
          "output_type": "stream",
          "name": "stdout",
          "text": [
            "['Amazon', 'Apple', 'Facebook', 'Google', 'IBM', 'Microsoft', 'Oracle']\n"
          ]
        }
      ]
    },
    {
      "cell_type": "code",
      "source": [
        "# 17. Reverse the list in descending order using reverse() method\n",
        "\n",
        "fruit=['banana', 'orange', 'mango', 'lemon','cherry','kiwi']\n",
        "fruit.sort()\n",
        "print(fruit)\n",
        "fruit.reverse()\n",
        "print()\n",
        "print(fruit)"
      ],
      "metadata": {
        "colab": {
          "base_uri": "https://localhost:8080/"
        },
        "id": "t9aXuadU4KAJ",
        "outputId": "1b2c881b-f8e1-4191-aed0-e45c80eb32c0"
      },
      "execution_count": null,
      "outputs": [
        {
          "output_type": "stream",
          "name": "stdout",
          "text": [
            "['banana', 'cherry', 'kiwi', 'lemon', 'mango', 'orange']\n",
            "\n",
            "['orange', 'mango', 'lemon', 'kiwi', 'cherry', 'banana']\n"
          ]
        }
      ]
    },
    {
      "cell_type": "code",
      "source": [
        "# 18. Slice out the first 3 companies from the list\n",
        "it_companies=[\"Facebook\", \"Google\", \"Microsoft\", \"Apple\", \"IBM\", \"Oracle\",\"Amazon\"]\n",
        "print(\"Firts 3 companies are:\",it_companies[0:3])"
      ],
      "metadata": {
        "colab": {
          "base_uri": "https://localhost:8080/"
        },
        "id": "I2txf6py4J9m",
        "outputId": "b2be1417-c9d6-4861-9b55-20be3c0d3f85"
      },
      "execution_count": null,
      "outputs": [
        {
          "output_type": "stream",
          "name": "stdout",
          "text": [
            "Firts 3 companies are: ['Facebook', 'Google', 'Microsoft']\n"
          ]
        }
      ]
    },
    {
      "cell_type": "code",
      "source": [
        "# 19. Slice out the last 3 companies from the list\n",
        "it_companies=[\"Facebook\", \"Google\", \"Microsoft\", \"Apple\", \"IBM\", \"Oracle\",\"Amazon\"]\n",
        "print(\"last 3 companies are:\",it_companies[4:])"
      ],
      "metadata": {
        "colab": {
          "base_uri": "https://localhost:8080/"
        },
        "id": "Fy_IhPC54J7M",
        "outputId": "01e08fae-c631-4ecd-d6bb-cecd149661a2"
      },
      "execution_count": null,
      "outputs": [
        {
          "output_type": "stream",
          "name": "stdout",
          "text": [
            "last 3 companies are: ['IBM', 'Oracle', 'Amazon']\n"
          ]
        }
      ]
    },
    {
      "cell_type": "code",
      "source": [
        "# 20. Slice out the middle IT company or companies from the list\n",
        "it_companies=[\"Facebook\", \"Google\", \"Microsoft\", \"Apple\", \"IBM\", \"Oracle\",\"Amazon\"]\n",
        "print(\"Middle companies are:\",it_companies[len(it_companies)//2])"
      ],
      "metadata": {
        "colab": {
          "base_uri": "https://localhost:8080/"
        },
        "id": "e3SCtXlD4J4z",
        "outputId": "c558dd41-7e15-4b44-9cf2-eae94da8737e"
      },
      "execution_count": null,
      "outputs": [
        {
          "output_type": "stream",
          "name": "stdout",
          "text": [
            "Middle companies are: Apple\n"
          ]
        }
      ]
    },
    {
      "cell_type": "code",
      "source": [
        "# 21. Remove the first IT company from the list\n",
        "it_companies=[\"Facebook\", \"Google\", \"Microsoft\", \"Apple\", \"IBM\", \"Oracle\",\"Amazon\"]\n",
        "it_companies.pop(0)"
      ],
      "metadata": {
        "colab": {
          "base_uri": "https://localhost:8080/",
          "height": 36
        },
        "id": "od7y9Ls64J2c",
        "outputId": "f2b21d8d-24e0-4dea-dcf9-8d986b519f5e"
      },
      "execution_count": null,
      "outputs": [
        {
          "output_type": "execute_result",
          "data": {
            "text/plain": [
              "'Facebook'"
            ],
            "application/vnd.google.colaboratory.intrinsic+json": {
              "type": "string"
            }
          },
          "metadata": {},
          "execution_count": 21
        }
      ]
    },
    {
      "cell_type": "code",
      "source": [
        "# 22. Remove the middle IT company or companies from the list\n",
        "\n",
        "it_companies=[\"Facebook\", \"Google\", \"Microsoft\", \"Apple\", \"IBM\", \"Oracle\",\"Amazon\"]\n",
        "it_companies.pop(len(it_companies)//2)\n"
      ],
      "metadata": {
        "colab": {
          "base_uri": "https://localhost:8080/",
          "height": 36
        },
        "id": "quw4Izh64Jz2",
        "outputId": "2712966b-54f6-4726-95de-4a2f837e70b1"
      },
      "execution_count": null,
      "outputs": [
        {
          "output_type": "execute_result",
          "data": {
            "text/plain": [
              "'Apple'"
            ],
            "application/vnd.google.colaboratory.intrinsic+json": {
              "type": "string"
            }
          },
          "metadata": {},
          "execution_count": 22
        }
      ]
    },
    {
      "cell_type": "code",
      "source": [
        "# 23. Remove the last IT company from the list\n",
        "it_companies=[\"Facebook\", \"Google\", \"Microsoft\", \"Apple\", \"IBM\", \"Oracle\",\"Amazon\"]\n",
        "it_companies.pop(-1)\n"
      ],
      "metadata": {
        "colab": {
          "base_uri": "https://localhost:8080/",
          "height": 36
        },
        "id": "4EA2aAE14JxU",
        "outputId": "49ae81fc-517f-4100-c2ba-d8943ab17b50"
      },
      "execution_count": null,
      "outputs": [
        {
          "output_type": "execute_result",
          "data": {
            "text/plain": [
              "'Amazon'"
            ],
            "application/vnd.google.colaboratory.intrinsic+json": {
              "type": "string"
            }
          },
          "metadata": {},
          "execution_count": 23
        }
      ]
    },
    {
      "cell_type": "code",
      "source": [
        "# 24. Remove all IT companies from the list\n",
        "it_companies=[\"Facebook\", \"Google\", \"Microsoft\", \"Apple\", \"IBM\", \"Oracle\",\"Amazon\"]\n",
        "it_companies.clear()\n",
        "print(it_companies)"
      ],
      "metadata": {
        "colab": {
          "base_uri": "https://localhost:8080/"
        },
        "id": "W0IVCIW54JvQ",
        "outputId": "4ce76da0-f650-40df-e2ea-b0aae7a2f578"
      },
      "execution_count": null,
      "outputs": [
        {
          "output_type": "stream",
          "name": "stdout",
          "text": [
            "[]\n"
          ]
        }
      ]
    },
    {
      "cell_type": "code",
      "source": [
        "# 25. Destroy the IT companies list\n",
        "it_companies=[\"Facebook\", \"Google\", \"Microsoft\", \"Apple\", \"IBM\", \"Oracle\",\"Amazon\"]\n",
        "del it_companies"
      ],
      "metadata": {
        "id": "a3hKd45F4Jst"
      },
      "execution_count": null,
      "outputs": []
    },
    {
      "cell_type": "code",
      "source": [
        "# 26. Join the following lists:\n",
        "# front_end = ['HTML', 'CSS', 'JS', 'React', 'Redux']\n",
        "# back_end = ['Node','Express', 'MongoDB']\n",
        "\n",
        "front_end = ['HTML', 'CSS', 'JS', 'React', 'Redux']\n",
        "back_end = ['Node','Express', 'MongoDB']\n",
        "front_end.extend(back_end)\n",
        "print(front_end)\n",
        "\n",
        "#OR\n",
        "\n",
        "front_end = ['HTML', 'CSS', 'JS', 'React', 'Redux']\n",
        "back_end = ['Node','Express', 'MongoDB']\n",
        "i=front_end + back_end\n",
        "print(i)"
      ],
      "metadata": {
        "colab": {
          "base_uri": "https://localhost:8080/"
        },
        "id": "8xRLBxVD4JqD",
        "outputId": "a6d869b7-5fb3-4dc6-dc25-6dbada0669d5"
      },
      "execution_count": null,
      "outputs": [
        {
          "output_type": "stream",
          "name": "stdout",
          "text": [
            "['HTML', 'CSS', 'JS', 'React', 'Redux', 'Node', 'Express', 'MongoDB']\n"
          ]
        }
      ]
    },
    {
      "cell_type": "code",
      "source": [
        "# 27. After joining the lists in question 26. Copy the joined list and assign it to a\n",
        "# variable full_stack, then insert Python and SQL after Redux.\n",
        "\n",
        "full_stack=['HTML', 'CSS', 'JS', 'React', 'Redux','Node','Express', 'MongoDB']\n",
        "full_stack.insert(5,\"Python\")\n",
        "full_stack.insert(6,\"SQL\")\n",
        "print(full_stack)"
      ],
      "metadata": {
        "colab": {
          "base_uri": "https://localhost:8080/"
        },
        "id": "DuwopYP25VX9",
        "outputId": "420a1f40-d6c9-4976-f418-6cb24e845dab"
      },
      "execution_count": null,
      "outputs": [
        {
          "output_type": "stream",
          "name": "stdout",
          "text": [
            "['HTML', 'CSS', 'JS', 'React', 'Redux', 'Python', 'SQL', 'Node', 'Express', 'MongoDB']\n"
          ]
        }
      ]
    },
    {
      "cell_type": "code",
      "source": [
        "#28. Sort the list and find the min and max age\n",
        "ages = [19, 22, 19, 24, 20, 25, 26, 24, 25, 24]\n",
        "ages.sort()\n",
        "print(\"sorted list are \",ages)\n",
        "print(\"Max age\",max(ages))\n",
        "print(\"MIN age\",min(ages))\n"
      ],
      "metadata": {
        "colab": {
          "base_uri": "https://localhost:8080/"
        },
        "id": "vfrCzl0d5VUi",
        "outputId": "be558cc7-09c2-4eb5-c58a-d3c7c84e1da6"
      },
      "execution_count": null,
      "outputs": [
        {
          "output_type": "stream",
          "name": "stdout",
          "text": [
            "sorted list are  [19, 19, 20, 22, 24, 24, 24, 25, 25, 26]\n",
            "Max age 26\n",
            "MIN age 19\n"
          ]
        }
      ]
    },
    {
      "cell_type": "code",
      "source": [
        "#29. Add the min age and the max age again to the list\n",
        "ages.append(max(ages))\n",
        "ages.append(min(ages))\n",
        "print(ages)\n"
      ],
      "metadata": {
        "colab": {
          "base_uri": "https://localhost:8080/"
        },
        "id": "vq_4F7L85VSX",
        "outputId": "dccfa0ea-3040-468e-d44b-a8c397216f95"
      },
      "execution_count": null,
      "outputs": [
        {
          "output_type": "stream",
          "name": "stdout",
          "text": [
            "[19, 19, 20, 22, 24, 24, 24, 25, 25, 26, 26, 19]\n"
          ]
        }
      ]
    },
    {
      "cell_type": "code",
      "source": [
        "#30. Find the median age (one middle item or two middle items divided by two)\n",
        "ages = [19, 22, 19, 24, 20, 25, 26, 24, 25, 24]\n",
        "ages.sort()\n",
        "n=len(ages)\n",
        "mid=n//2\n",
        "if n%2==0:\n",
        "  median=(ages[mid-1]+ages[mid])/2\n",
        "else:\n",
        "  median=ages[mid]\n",
        "print(median)"
      ],
      "metadata": {
        "colab": {
          "base_uri": "https://localhost:8080/"
        },
        "id": "GnWj3jf25VQI",
        "outputId": "ce444acf-8da6-4f44-db59-15ba596a63af"
      },
      "execution_count": null,
      "outputs": [
        {
          "output_type": "stream",
          "name": "stdout",
          "text": [
            "24.0\n"
          ]
        }
      ]
    },
    {
      "cell_type": "code",
      "source": [
        "#31. Find the average age (sum of all items divided by their number )\n",
        "\n",
        "ages = [19, 22, 19, 24, 20, 25, 26, 24, 25, 24]\n",
        "ages.sort()\n",
        "average_age=sum(ages)/len(ages)\n",
        "print(average_age)"
      ],
      "metadata": {
        "colab": {
          "base_uri": "https://localhost:8080/"
        },
        "id": "624eZs7c5VOZ",
        "outputId": "44058db9-3b1e-4747-b9de-3d5c18303641"
      },
      "execution_count": null,
      "outputs": [
        {
          "output_type": "stream",
          "name": "stdout",
          "text": [
            "22.8\n"
          ]
        }
      ]
    },
    {
      "cell_type": "code",
      "source": [
        "#32. Find the range of the ages (max minus min)\n",
        "ages = [19, 22, 19, 24, 20, 25, 26, 24, 25, 24]\n",
        "ages.sort()\n",
        "range=max(ages)-min(ages)\n",
        "print(range)"
      ],
      "metadata": {
        "colab": {
          "base_uri": "https://localhost:8080/"
        },
        "id": "X1vUPIPL5VKr",
        "outputId": "08f334a3-6a31-4e57-ac9b-d942aefff108"
      },
      "execution_count": null,
      "outputs": [
        {
          "output_type": "stream",
          "name": "stdout",
          "text": [
            "7\n"
          ]
        }
      ]
    },
    {
      "cell_type": "code",
      "source": [
        "#33. Compare the value of (min - average) and (max - average), use abs() method\n",
        "ages = [19, 22, 19, 24, 20, 25, 26, 24, 25, 24]\n",
        "ages.sort()\n"
      ],
      "metadata": {
        "id": "cyuxX6kt5VIV"
      },
      "execution_count": null,
      "outputs": []
    },
    {
      "cell_type": "code",
      "source": [
        "#34. Find the middle country(ies) in the countries list\n",
        "countries=['China', 'Russia', 'USA', 'Finland', 'Sweden', 'Norway', 'Denmark']\n",
        "n=len(countries)\n",
        "mid = n//2\n",
        "if n % 2 == 0:\n",
        "    middle = countries[mid - 1: mid + 1]\n",
        "else:\n",
        "    middle = [countries[mid]]\n",
        "print(\"Middle country(ies):\", middle)\n"
      ],
      "metadata": {
        "colab": {
          "base_uri": "https://localhost:8080/"
        },
        "id": "p0Z6zQS85VF3",
        "outputId": "b6c50d01-0b78-4ebf-d715-116e713408d4"
      },
      "execution_count": null,
      "outputs": [
        {
          "output_type": "stream",
          "name": "stdout",
          "text": [
            "Middle country(ies): ['Finland']\n"
          ]
        }
      ]
    },
    {
      "cell_type": "code",
      "source": [
        "#35. Divide the countries list into two equal lists if it is even if not one more country for the first half.\n",
        "countries=['China', 'Russia', 'USA', 'Finland', 'Sweden', 'Norway', 'Denmark']\n",
        "n=len(countries)\n",
        "if n % 2 == 0:\n",
        "    midpoint = n // 2\n",
        "else:\n",
        "    midpoint= (n // 2) + 1\n",
        "first_half=countries[:midpoint]\n",
        "second_half=countries[midpoint:]\n",
        "print(\"orginal list:\",countries)\n",
        "print(\"First half:\",first_half)\n",
        "print(\"Second half:\",second_half)"
      ],
      "metadata": {
        "colab": {
          "base_uri": "https://localhost:8080/"
        },
        "id": "7taa4IWU5VDM",
        "outputId": "6d15d6c5-ea37-45f8-b4e9-fa3949dc6ef2"
      },
      "execution_count": null,
      "outputs": [
        {
          "output_type": "stream",
          "name": "stdout",
          "text": [
            "orginal list: ['China', 'Russia', 'USA', 'Finland', 'Sweden', 'Norway', 'Denmark']\n",
            "First half: ['China', 'Russia', 'USA', 'Finland']\n",
            "Second half: ['Sweden', 'Norway', 'Denmark']\n"
          ]
        }
      ]
    },
    {
      "cell_type": "code",
      "source": [
        "#36. ['China', 'Russia', 'USA', 'Finland', 'Sweden', 'Norway', 'Denmark']. Unpack the\n",
        "# first three countries and the rest as scandic countries.\n",
        "\n",
        "countries=['China', 'Russia', 'USA', 'Finland', 'Sweden', 'Norway', 'Denmark']\n",
        "print(\"First country:\",countries[0])\n",
        "print(\"Second country:\",countries[1])\n",
        "print(\"Third country:\",countries[2])\n",
        "print(\"Scandic country:\",countries[3:])\n",
        "\n"
      ],
      "metadata": {
        "colab": {
          "base_uri": "https://localhost:8080/"
        },
        "id": "t0bL80UV5VBC",
        "outputId": "7165bd0c-40ec-4dc8-a89e-a4c160de01e2"
      },
      "execution_count": null,
      "outputs": [
        {
          "output_type": "stream",
          "name": "stdout",
          "text": [
            "First country: China\n",
            "Second country: Russia\n",
            "Third country: USA\n",
            "Scandic country: ['Finland', 'Sweden', 'Norway', 'Denmark']\n"
          ]
        }
      ]
    },
    {
      "cell_type": "markdown",
      "source": [
        "# **Tuple Assigment**"
      ],
      "metadata": {
        "id": "LYa4-waYj3r0"
      }
    },
    {
      "cell_type": "code",
      "source": [
        "# 1. Create an empty tuple\n",
        "A=()"
      ],
      "metadata": {
        "id": "QIz1b4x4j683"
      },
      "execution_count": null,
      "outputs": []
    },
    {
      "cell_type": "code",
      "source": [
        "# 2. Create a tuple containing names of your sisters and your brothers (imaginary siblings are fine)\n",
        "\n",
        "sibling=('Luffy','Zoro','Usopp','Nami','Robin')\n",
        "print(sibling)"
      ],
      "metadata": {
        "colab": {
          "base_uri": "https://localhost:8080/"
        },
        "id": "mHWqSCU-j8iS",
        "outputId": "4e92c51c-19e2-476c-a112-e9d873557f05"
      },
      "execution_count": null,
      "outputs": [
        {
          "output_type": "stream",
          "name": "stdout",
          "text": [
            "('Luffy', 'Zoro', 'Usopp', 'Nami', 'Robin')\n"
          ]
        }
      ]
    },
    {
      "cell_type": "code",
      "source": [
        "# 3. Join brothers and sisters tuples and assign it to siblings\n",
        "brothers=('Luffy','Zoro','Usopp')\n",
        "sisters=('Nami', 'Robin','Shirahosi')\n",
        "siblings=brothers+sisters\n",
        "print(siblings)"
      ],
      "metadata": {
        "colab": {
          "base_uri": "https://localhost:8080/"
        },
        "id": "7OwXxNeWj-bu",
        "outputId": "52b6c19a-08eb-4c4a-b4b6-8a50256a9ac1"
      },
      "execution_count": null,
      "outputs": [
        {
          "output_type": "stream",
          "name": "stdout",
          "text": [
            "('Luffy', 'Zoro', 'Usopp', 'Nami', 'Robin', 'Shirahosi')\n"
          ]
        }
      ]
    },
    {
      "cell_type": "code",
      "source": [
        "# 4. How many siblings do you have?\n",
        "len(siblings)"
      ],
      "metadata": {
        "colab": {
          "base_uri": "https://localhost:8080/"
        },
        "id": "ugM9ytdnkASq",
        "outputId": "ec556108-9144-4582-9cb6-9232ed2cd12d"
      },
      "execution_count": null,
      "outputs": [
        {
          "output_type": "execute_result",
          "data": {
            "text/plain": [
              "6"
            ]
          },
          "metadata": {},
          "execution_count": 74
        }
      ]
    },
    {
      "cell_type": "code",
      "source": [
        "# 5. Modify the siblings tuple and add the name of your father and mother and assign it to family_members\n",
        "\n",
        "siblings = (\"Anna\", \"Abhi\", \"Mia\", \"George\")\n",
        "parents = (\"Michael\", \"Emma\")\n",
        "family_members = siblings + parents\n",
        "print(family_members)\n"
      ],
      "metadata": {
        "colab": {
          "base_uri": "https://localhost:8080/"
        },
        "id": "p5Cs9rXOkB5A",
        "outputId": "fd0a3050-abf9-40b9-f8d4-a9d91217c790"
      },
      "execution_count": null,
      "outputs": [
        {
          "output_type": "stream",
          "name": "stdout",
          "text": [
            "('Anna', 'Abhi', 'Mia', 'George', 'Michael', 'Emma')\n"
          ]
        }
      ]
    },
    {
      "cell_type": "code",
      "source": [
        "# 6. Unpack siblings and parents from family_members\n",
        "\n",
        "(a,b,c,d,p1,p2)=family_members\n",
        "print(\"Siblings:\",a,b,c,d)\n",
        "print(\"Parents:\",p1,p2)"
      ],
      "metadata": {
        "colab": {
          "base_uri": "https://localhost:8080/"
        },
        "id": "3spoL2pGkDi-",
        "outputId": "6ef8b769-db3c-4c8f-9570-66651af7a624"
      },
      "execution_count": null,
      "outputs": [
        {
          "output_type": "stream",
          "name": "stdout",
          "text": [
            "Siblings: Anna Abhi Mia George\n",
            "Parents: Michael Emma\n"
          ]
        }
      ]
    },
    {
      "cell_type": "code",
      "source": [
        "# 7. Create fruits, vegetables and animal products tuples. Join the three tuples and\n",
        "# assign it to a variable called food_stuff_tp.\n",
        "\n",
        "fruits=('Apple', 'Banana', 'Orange', 'Mango')\n",
        "vegetables=('Carrot', 'Potato', 'Onion', 'Tomato')\n",
        "animal_products=('milk','eggs','meat','honey')\n",
        "food_stuff_tp=fruits + vegetables + animal_products\n",
        "print(food_stuff_tp)"
      ],
      "metadata": {
        "colab": {
          "base_uri": "https://localhost:8080/"
        },
        "id": "vZP4jel5kFcH",
        "outputId": "53773c79-c79d-4c13-eefd-08eeafa6f9d9"
      },
      "execution_count": null,
      "outputs": [
        {
          "output_type": "stream",
          "name": "stdout",
          "text": [
            "('Apple', 'Banana', 'Orange', 'Mango', 'Carrot', 'Potato', 'Onion', 'Tomato', 'milk', 'eggs', 'meat', 'honey')\n"
          ]
        }
      ]
    },
    {
      "cell_type": "code",
      "source": [
        "# 8. Change the about food_stuff_tp tuple to a food_stuff_lt list\n",
        "\n",
        "food_stuff_lt=list(food_stuff_tp)\n",
        "print(food_stuff_lt)"
      ],
      "metadata": {
        "colab": {
          "base_uri": "https://localhost:8080/"
        },
        "id": "95jn7HiikGuj",
        "outputId": "ed47a74c-fa6f-482b-9c21-cb8140d2e1d2"
      },
      "execution_count": null,
      "outputs": [
        {
          "output_type": "stream",
          "name": "stdout",
          "text": [
            "['Apple', 'Banana', 'Orange', 'Mango', 'Carrot', 'Potato', 'Onion', 'Tomato', 'milk', 'eggs', 'meat', 'honey']\n"
          ]
        }
      ]
    },
    {
      "cell_type": "code",
      "source": [
        "# 9. Slice out the middle item or items from the food_stuff_tp tuple or food_stuff_lt list.\n",
        "food_stuff_lt=['Apple', 'Banana', 'Orange', 'Mango', 'Carrot', 'Potato', 'Onion', 'Tomato', 'milk', 'eggs', 'meat', 'honey']\n",
        "middle_item= food_stuff_lt[len(food_stuff_lt)//2 - 1 : len(food_stuff_lt)//2 + 1]\n",
        "print(\"Middle item :\", middle_item)\n"
      ],
      "metadata": {
        "colab": {
          "base_uri": "https://localhost:8080/"
        },
        "id": "d7OQrRoTkIY2",
        "outputId": "c37bfa87-0da9-421c-8c61-8fec73aece50"
      },
      "execution_count": null,
      "outputs": [
        {
          "output_type": "stream",
          "name": "stdout",
          "text": [
            "Middle item : ['Potato', 'Onion']\n"
          ]
        }
      ]
    },
    {
      "cell_type": "code",
      "source": [
        "# 10.  Slice out the first three items and the last three items from food_staff_lt list\n",
        "\n",
        "food_stuff_lt=['Apple', 'Banana', 'Orange', 'Mango', 'Carrot', 'Potato', 'Onion', 'Tomato', 'milk', 'eggs', 'meat', 'honey']\n",
        "print(\"First 3 items :\",food_stuff_lt[0:3])\n",
        "print(\"last 3 items :\",food_stuff_lt[-3: ])"
      ],
      "metadata": {
        "colab": {
          "base_uri": "https://localhost:8080/"
        },
        "id": "fsHO-oGekJm6",
        "outputId": "75808956-4de8-4716-89fc-da1eb4471a03"
      },
      "execution_count": null,
      "outputs": [
        {
          "output_type": "stream",
          "name": "stdout",
          "text": [
            "First 3 items : ['Apple', 'Banana', 'Orange']\n",
            "last 3 items : ['eggs', 'meat', 'honey']\n"
          ]
        }
      ]
    },
    {
      "cell_type": "code",
      "source": [
        "# 11. Delete the food_staff_tp tuple completely\n",
        "food_stuff_tp=('Apple', 'Banana', 'Orange', 'Mango', 'Carrot', 'Potato', 'Onion', 'Tomato', 'milk', 'eggs', 'meat', 'honey')\n",
        "del food_stuff_tp\n"
      ],
      "metadata": {
        "id": "Suj4r5KkkM2J"
      },
      "execution_count": null,
      "outputs": []
    },
    {
      "cell_type": "code",
      "source": [
        "# 12. Check if an item exists in tuple:\n",
        "# Check if 'Estonia' is a nordic country\n",
        "# Check if 'Iceland' is a nordic country\n",
        "# nordic_countries = ('Denmark', 'Finland','Iceland', 'Norway', 'Sweden')\n",
        "nordic_countries = ('Denmark', 'Finland','Iceland', 'Norway', 'Sweden')\n",
        "print(\"Estonia is a nordic country:\",'Estonia'  in nordic_countries)\n",
        "print(\"Iceland is a nordic country:\",'Iceland' in nordic_countries)\n",
        "\n",
        "#OR\n",
        "for country in ['Estonia', 'Iceland']:\n",
        "  if country in nordic_countries:\n",
        "    print(country,\"is in nordic country\")\n",
        "  else:\n",
        "    print(country, \"is not  in nordic country\")"
      ],
      "metadata": {
        "colab": {
          "base_uri": "https://localhost:8080/"
        },
        "id": "CElHxvSRkPDN",
        "outputId": "787269b6-ea54-47e2-aabf-82e18ab27665"
      },
      "execution_count": null,
      "outputs": [
        {
          "output_type": "stream",
          "name": "stdout",
          "text": [
            "Estonia is a nordic country: False\n",
            "Iceland is a nordic country: True\n",
            "Estonia is not  in nordic country\n",
            "Iceland is in nordic country\n"
          ]
        }
      ]
    },
    {
      "cell_type": "markdown",
      "source": [
        "# **Set Assigment**"
      ],
      "metadata": {
        "id": "aHLf9tHRkUMq"
      }
    },
    {
      "cell_type": "code",
      "source": [
        "it_companies = {'Facebook', 'Google', 'Microsoft', 'Apple', 'IBM', 'Oracle', 'Amazon'}\n",
        "A = {19, 22, 24, 20, 25, 26}\n",
        "B = {19, 22, 20, 25, 26, 24, 28, 27}\n",
        "age = [22, 19, 24, 25, 26, 24, 25, 24]"
      ],
      "metadata": {
        "id": "lqqNh2CEkQ5y"
      },
      "execution_count": null,
      "outputs": []
    },
    {
      "cell_type": "code",
      "source": [
        "# 1. Find the length of the set it_companies\n",
        "len(it_companies)"
      ],
      "metadata": {
        "colab": {
          "base_uri": "https://localhost:8080/"
        },
        "id": "iAIFUoKvkZXW",
        "outputId": "fc06d1c4-90d0-4110-e699-9a3a896f0a8a"
      },
      "execution_count": null,
      "outputs": [
        {
          "output_type": "execute_result",
          "data": {
            "text/plain": [
              "7"
            ]
          },
          "metadata": {},
          "execution_count": 123
        }
      ]
    },
    {
      "cell_type": "code",
      "source": [
        "# 2.Add 'Twitter' to it_companies\n",
        "it_companies = {'Facebook', 'Google', 'Microsoft', 'Apple', 'IBM', 'Oracle', 'Amazon'}\n",
        "it_companies.add('Twitter')\n",
        "print(it_companies)"
      ],
      "metadata": {
        "colab": {
          "base_uri": "https://localhost:8080/"
        },
        "id": "c9VbkDuNkaE-",
        "outputId": "6ad38cee-2e28-49a9-9a6f-300eca490968"
      },
      "execution_count": null,
      "outputs": [
        {
          "output_type": "stream",
          "name": "stdout",
          "text": [
            "{'Oracle', 'Microsoft', 'IBM', 'Google', 'Twitter', 'Apple', 'Amazon', 'Facebook'}\n"
          ]
        }
      ]
    },
    {
      "cell_type": "code",
      "source": [
        "# 3. Insert multiple IT companies at once to the set it_companies\n",
        "it_companies.update(['Black Rock','Nvidia','MSI'])\n",
        "print(it_companies)"
      ],
      "metadata": {
        "colab": {
          "base_uri": "https://localhost:8080/"
        },
        "id": "rBiVKkpFkc95",
        "outputId": "c7dac4c3-1225-4d60-d147-95a1e568d8ee"
      },
      "execution_count": null,
      "outputs": [
        {
          "output_type": "stream",
          "name": "stdout",
          "text": [
            "{'Google', 'Oracle', 'IBM', 'Twitter', 'Apple', 'Nvidia', 'Amazon', 'Facebook', 'Microsoft', 'Black Rock', 'MSI'}\n"
          ]
        }
      ]
    },
    {
      "cell_type": "code",
      "source": [
        "# 4. Remove one of the companies from the set it_companies\n",
        "it_companies.remove('Apple')\n",
        "print(it_companies)"
      ],
      "metadata": {
        "colab": {
          "base_uri": "https://localhost:8080/"
        },
        "id": "q2FSynZokeyi",
        "outputId": "faea69e3-e6fb-4c1f-c3b5-b4b83572ecfc"
      },
      "execution_count": null,
      "outputs": [
        {
          "output_type": "stream",
          "name": "stdout",
          "text": [
            "{'Google', 'Oracle', 'IBM', 'Twitter', 'Nvidia', 'Amazon', 'Facebook', 'Microsoft', 'Black Rock', 'MSI'}\n"
          ]
        }
      ]
    },
    {
      "cell_type": "code",
      "source": [
        "# 5. What is the difference between remove and discard\n",
        "it_companies.remove('Apple')\n",
        "print(it_companies)"
      ],
      "metadata": {
        "colab": {
          "base_uri": "https://localhost:8080/",
          "height": 176
        },
        "id": "oazbP1Pbkgx2",
        "outputId": "9d2e16fa-d237-4a2c-9124-86eb6f76126d"
      },
      "execution_count": null,
      "outputs": [
        {
          "output_type": "error",
          "ename": "KeyError",
          "evalue": "'Apple'",
          "traceback": [
            "\u001b[0;31m---------------------------------------------------------------------------\u001b[0m",
            "\u001b[0;31mKeyError\u001b[0m                                  Traceback (most recent call last)",
            "\u001b[0;32m/tmp/ipython-input-4250535177.py\u001b[0m in \u001b[0;36m<cell line: 0>\u001b[0;34m()\u001b[0m\n\u001b[1;32m      1\u001b[0m \u001b[0;31m# 5. What is the difference between remove and discard\u001b[0m\u001b[0;34m\u001b[0m\u001b[0;34m\u001b[0m\u001b[0m\n\u001b[0;32m----> 2\u001b[0;31m \u001b[0mit_companies\u001b[0m\u001b[0;34m.\u001b[0m\u001b[0mremove\u001b[0m\u001b[0;34m(\u001b[0m\u001b[0;34m'Apple'\u001b[0m\u001b[0;34m)\u001b[0m\u001b[0;34m\u001b[0m\u001b[0;34m\u001b[0m\u001b[0m\n\u001b[0m\u001b[1;32m      3\u001b[0m \u001b[0mprint\u001b[0m\u001b[0;34m(\u001b[0m\u001b[0mit_companies\u001b[0m\u001b[0;34m)\u001b[0m\u001b[0;34m\u001b[0m\u001b[0;34m\u001b[0m\u001b[0m\n",
            "\u001b[0;31mKeyError\u001b[0m: 'Apple'"
          ]
        }
      ]
    },
    {
      "cell_type": "code",
      "source": [
        "it_companies.discard('Apple')\n",
        "print(it_companies)"
      ],
      "metadata": {
        "colab": {
          "base_uri": "https://localhost:8080/"
        },
        "id": "w1DYud7SkiEs",
        "outputId": "8e570a9d-4d01-4ad4-e0a4-eee6392865aa"
      },
      "execution_count": null,
      "outputs": [
        {
          "output_type": "stream",
          "name": "stdout",
          "text": [
            "{'Google', 'Oracle', 'IBM', 'Twitter', 'Nvidia', 'Amazon', 'Facebook', 'Microsoft', 'Black Rock', 'MSI'}\n"
          ]
        }
      ]
    },
    {
      "cell_type": "code",
      "source": [
        "# 6. Join A and B\n",
        "A = {19, 22, 24, 20, 25, 26}\n",
        "B = {19, 22, 20, 25, 26, 24, 28, 27}\n",
        "C=A | B\n",
        "print(C)"
      ],
      "metadata": {
        "colab": {
          "base_uri": "https://localhost:8080/"
        },
        "id": "9cAwZNVjksGn",
        "outputId": "b16da31d-6736-4bb4-b801-d48687c42704"
      },
      "execution_count": null,
      "outputs": [
        {
          "output_type": "stream",
          "name": "stdout",
          "text": [
            "{19, 20, 22, 24, 25, 26, 27, 28}\n"
          ]
        }
      ]
    },
    {
      "cell_type": "code",
      "source": [
        "# 7. Find A intersection B\n",
        "A & B"
      ],
      "metadata": {
        "colab": {
          "base_uri": "https://localhost:8080/"
        },
        "id": "W13A0T1Kkv0A",
        "outputId": "6b1470e9-e2d8-4fac-947c-7e2c34218474"
      },
      "execution_count": null,
      "outputs": [
        {
          "output_type": "execute_result",
          "data": {
            "text/plain": [
              "{19, 20, 22, 24, 25, 26}"
            ]
          },
          "metadata": {},
          "execution_count": 131
        }
      ]
    },
    {
      "cell_type": "code",
      "source": [
        "# 8. Is A subset of B\n",
        "print(A.issubset(B))\n"
      ],
      "metadata": {
        "colab": {
          "base_uri": "https://localhost:8080/"
        },
        "id": "kNKgWdB0kxS6",
        "outputId": "fdae68cd-a70d-4509-c9ad-aee30f03f4a7"
      },
      "execution_count": null,
      "outputs": [
        {
          "output_type": "stream",
          "name": "stdout",
          "text": [
            "True\n"
          ]
        }
      ]
    },
    {
      "cell_type": "code",
      "source": [
        "# 9. Are A and B disjoint sets\n",
        "print(A.isdisjoint(B))"
      ],
      "metadata": {
        "colab": {
          "base_uri": "https://localhost:8080/"
        },
        "id": "POSiuC5rkzQy",
        "outputId": "72a80520-070a-4ebb-c1ea-0c5f1af857df"
      },
      "execution_count": null,
      "outputs": [
        {
          "output_type": "stream",
          "name": "stdout",
          "text": [
            "False\n"
          ]
        }
      ]
    },
    {
      "cell_type": "code",
      "source": [
        "# 10. Join A with B and B with A\n",
        "A = {19, 22, 24, 20, 25, 26}\n",
        "B = {19, 22, 20, 25, 26, 24, 28, 27}\n",
        "C=A | B\n",
        "D=(B.union(A))\n",
        "print(C)\n",
        "print(D)"
      ],
      "metadata": {
        "colab": {
          "base_uri": "https://localhost:8080/"
        },
        "id": "zOIrE-O7k1J4",
        "outputId": "02e5de0e-ec62-4dbb-a137-4ff7302ba6f3"
      },
      "execution_count": null,
      "outputs": [
        {
          "output_type": "stream",
          "name": "stdout",
          "text": [
            "{19, 20, 22, 24, 25, 26, 27, 28}\n",
            "{19, 20, 22, 24, 25, 26, 27, 28}\n"
          ]
        }
      ]
    },
    {
      "cell_type": "code",
      "source": [
        "# 11. What is the symmetric difference between A and B\n",
        "print(A.symmetric_difference(B))"
      ],
      "metadata": {
        "colab": {
          "base_uri": "https://localhost:8080/"
        },
        "id": "uLPRvQe-k28m",
        "outputId": "57c71259-5916-4773-c8bd-803ba2d41c89"
      },
      "execution_count": null,
      "outputs": [
        {
          "output_type": "stream",
          "name": "stdout",
          "text": [
            "{27, 28}\n"
          ]
        }
      ]
    },
    {
      "cell_type": "code",
      "source": [
        " # 12. Delete the sets completely\n",
        " del A\n",
        " del B"
      ],
      "metadata": {
        "id": "cFoJmHQzk5On"
      },
      "execution_count": null,
      "outputs": []
    },
    {
      "cell_type": "code",
      "source": [
        "# 13. Convert the ages to a set and compare the length of the list and the set, which one is bigger?\n",
        "ages = [22, 19, 24, 25, 26, 24, 25, 24]\n",
        "age = set(ages)\n",
        "print(age)\n",
        "length_list=len(ages)\n",
        "length_set=len(age)\n",
        "if length_list > length_set:\n",
        "  print(\"List is bigger\",length_list)\n",
        "elif length_list < length_set:\n",
        "  print(\"Set is bigger:\",length_set)\n",
        "else:\n",
        "  print(\"both are equal\",length_list)\n"
      ],
      "metadata": {
        "colab": {
          "base_uri": "https://localhost:8080/"
        },
        "id": "ree7zquAk7f-",
        "outputId": "ba38efc5-a2cf-4175-c0fc-826e41691674"
      },
      "execution_count": null,
      "outputs": [
        {
          "output_type": "stream",
          "name": "stdout",
          "text": [
            "{19, 22, 24, 25, 26}\n",
            "List is bigger 8\n"
          ]
        }
      ]
    },
    {
      "cell_type": "code",
      "source": [
        "# 14. \"I am a teacher and I love to inspire and teach people.\"\n",
        "# How many unique words have been used in the sentence? Use the split methods and set to get the unique words.\n",
        "sentences=\"I am a teacher and I love to inspire and teach people.\"\n",
        "words=sentences.split()\n",
        "length=len(words)\n",
        "unique=set(words)\n",
        "print(unique)\n",
        "print(words)\n"
      ],
      "metadata": {
        "colab": {
          "base_uri": "https://localhost:8080/"
        },
        "id": "Ydmq_5y8k-sM",
        "outputId": "a7cf9af4-1c80-4d20-af1f-81e58cfb9872"
      },
      "execution_count": null,
      "outputs": [
        {
          "output_type": "stream",
          "name": "stdout",
          "text": [
            "{'a', 'am', 'teacher', 'people.', 'and', 'inspire', 'I', 'to', 'love', 'teach'}\n",
            "['I', 'am', 'a', 'teacher', 'and', 'I', 'love', 'to', 'inspire', 'and', 'teach', 'people.']\n"
          ]
        }
      ]
    },
    {
      "cell_type": "code",
      "source": [
        "# 15. Explain the difference between the following data types: string, list, tuple and set\n",
        "\n",
        "# String :- are immutable,can't change a character after creation\n",
        "s = \"Hello\"\n",
        "print(s)\n",
        "print(s[1])\n",
        "\n",
        "# List :-are mutable ,we can modify, append, and delete elements.\n",
        "l = [1, 2, 3]\n",
        "l.append(4)\n",
        "print(l)\n",
        "\n",
        "# Tuple :- are immutable ,once created, we can't change them\n",
        "t = (1, 2, 3)\n",
        "print(t[0])\n",
        "\n",
        "# Set :- only unique elements and  unordered ,duplicates are removed\n",
        "set_companies = {\"Google\", \"Apple\", \"Microsoft\"}\n",
        "set_companies.add(\"Amazon\")\n",
        "print(set_companies)\n"
      ],
      "metadata": {
        "colab": {
          "base_uri": "https://localhost:8080/"
        },
        "id": "V9dYF_LylEec",
        "outputId": "f6cad2cc-bc07-4a8c-a7be-428b633921e1"
      },
      "execution_count": null,
      "outputs": [
        {
          "output_type": "stream",
          "name": "stdout",
          "text": [
            "Hello\n",
            "e\n",
            "[1, 2, 3, 4]\n",
            "1\n",
            "{'Apple', 'Microsoft', 'Amazon', 'Google'}\n"
          ]
        }
      ]
    },
    {
      "cell_type": "markdown",
      "source": [
        "#**Dictionaries - Exercises**"
      ],
      "metadata": {
        "id": "pSqZlFXBlHfG"
      }
    },
    {
      "cell_type": "code",
      "source": [
        "# 1. Create an empty dictionary called dogs\n",
        "dogs={}"
      ],
      "metadata": {
        "id": "h83L0FUZlLNN"
      },
      "execution_count": null,
      "outputs": []
    },
    {
      "cell_type": "code",
      "source": [
        "# 2. Add name, color, breed, legs, age to the dog dictionary\n",
        "dogs={\n",
        "    \"name\": \"Buddy\",\n",
        "    \"age\": 5,\n",
        "    \"breed\": \"Siberian Husky\",\n",
        "    \"color\": \"Golden\",\n",
        "    \"legs\": 4\n",
        "}\n",
        "print(dogs)"
      ],
      "metadata": {
        "colab": {
          "base_uri": "https://localhost:8080/"
        },
        "id": "EjZgP3ZFlNOw",
        "outputId": "75c98bfa-4d7d-431b-bb05-3f49b01be38e"
      },
      "execution_count": null,
      "outputs": [
        {
          "output_type": "stream",
          "name": "stdout",
          "text": [
            "{'name': 'Buddy', 'age': 5, 'breed': 'Siberian Husky', 'color': 'Golden', 'legs': 4}\n"
          ]
        }
      ]
    },
    {
      "cell_type": "code",
      "source": [
        "# 3. Create a student dictionary and add first_name, last_name, gender, age,\n",
        "    # marital status, skills, country, city and address as keys for the dictionary\n",
        "\n",
        "student=dict(first_name = 'Zenistu',\n",
        "              last_name = 'Agatsuma',\n",
        "              gender = 'Male',\n",
        "              age = '16',\n",
        "              marital_status = 'Single',\n",
        "              skills = ['Problem solving'],\n",
        "              country = 'Japan',\n",
        "              city = 'Kyoto',\n",
        "              address = \"123, MG Road\")\n",
        "print(student)"
      ],
      "metadata": {
        "colab": {
          "base_uri": "https://localhost:8080/"
        },
        "id": "UP_hBQaSlO5O",
        "outputId": "1d926bbe-6223-4e07-e513-bb2ba97f2b15"
      },
      "execution_count": null,
      "outputs": [
        {
          "output_type": "stream",
          "name": "stdout",
          "text": [
            "{'first_name': 'Zenistu', 'last_name': 'Agatsuma', 'gender': 'Male', 'age': '16', 'marital_status': 'Single', 'skills': ['Problem solving'], 'country': 'Japan', 'city': 'Kyoto', 'address': '123, MG Road'}\n"
          ]
        }
      ]
    },
    {
      "cell_type": "code",
      "source": [
        "# 4. Get the length of the student dictionary\n",
        "len(student)"
      ],
      "metadata": {
        "colab": {
          "base_uri": "https://localhost:8080/"
        },
        "id": "iQYPsLs6lQOx",
        "outputId": "ec6cb677-66db-41da-c8b3-6f6376f003e2"
      },
      "execution_count": null,
      "outputs": [
        {
          "output_type": "execute_result",
          "data": {
            "text/plain": [
              "9"
            ]
          },
          "metadata": {},
          "execution_count": 114
        }
      ]
    },
    {
      "cell_type": "code",
      "source": [
        "# 5. Get the value of skills and check the data type, it should be a list\n",
        "print(student.get(\"skills\"))\n",
        "print(type(student['skills']))"
      ],
      "metadata": {
        "colab": {
          "base_uri": "https://localhost:8080/"
        },
        "id": "70vI9dWFlSWO",
        "outputId": "83c17125-9dd7-426b-b1a0-daa52d26fb1d"
      },
      "execution_count": null,
      "outputs": [
        {
          "output_type": "stream",
          "name": "stdout",
          "text": [
            "['Problem solving']\n",
            "<class 'list'>\n"
          ]
        }
      ]
    },
    {
      "cell_type": "code",
      "source": [
        "# 6. Modify the skills values by adding one or two skills\n",
        "student.get(\"skills\")\n",
        "student['skills'].extend([\"Time management\",\"Communication\"])\n",
        "print(student)"
      ],
      "metadata": {
        "colab": {
          "base_uri": "https://localhost:8080/"
        },
        "id": "MWfkXDQ4lTpf",
        "outputId": "d8c1a1ba-1fe4-4ae0-f2f1-d70f1bb2dc72"
      },
      "execution_count": null,
      "outputs": [
        {
          "output_type": "stream",
          "name": "stdout",
          "text": [
            "{'first_name': 'Zenistu', 'last_name': 'Agatsuma', 'gender': 'Male', 'age': '16', 'marital_status': 'Single', 'skills': ['Problem solving', 'Time management', 'Communication'], 'country': 'Japan', 'city': 'Kyoto', 'address': '123, MG Road'}\n"
          ]
        }
      ]
    },
    {
      "cell_type": "code",
      "source": [
        "# 7. Get the dictionary keys as a list\n",
        "keys_list = list(student.keys())\n",
        "print(keys_list)"
      ],
      "metadata": {
        "colab": {
          "base_uri": "https://localhost:8080/"
        },
        "id": "ySX6aaQFlVWk",
        "outputId": "3ca1a95a-2940-4fec-ffef-0b84a23bc873"
      },
      "execution_count": null,
      "outputs": [
        {
          "output_type": "stream",
          "name": "stdout",
          "text": [
            "['first_name', 'last_name', 'gender', 'age', 'marital_status', 'skills', 'country', 'city', 'address']\n"
          ]
        }
      ]
    },
    {
      "cell_type": "code",
      "source": [
        "# 8. Get the dictionary values as a list\n",
        "print(list(student.values()))"
      ],
      "metadata": {
        "colab": {
          "base_uri": "https://localhost:8080/"
        },
        "id": "F_yKAJTOltfh",
        "outputId": "d4d6829b-92d1-4b75-e79f-4776037ec880"
      },
      "execution_count": null,
      "outputs": [
        {
          "output_type": "stream",
          "name": "stdout",
          "text": [
            "['Zenistu', 'Agatsuma', 'Male', '16', 'Single', ['Problem solving', 'Time management', 'Communication'], 'Japan', 'Kyoto', '123, MG Road']\n"
          ]
        }
      ]
    },
    {
      "cell_type": "code",
      "source": [
        "# 9. Change the dictionary to a list of tuples using items() method\n",
        "students=list(student.items())\n",
        "print(students)"
      ],
      "metadata": {
        "colab": {
          "base_uri": "https://localhost:8080/"
        },
        "id": "P7IQrLDGlvCR",
        "outputId": "1b3f602f-c32e-457b-978c-211acd767101"
      },
      "execution_count": null,
      "outputs": [
        {
          "output_type": "stream",
          "name": "stdout",
          "text": [
            "[('first_name', 'Zenistu'), ('last_name', 'Agatsuma'), ('gender', 'Male'), ('age', '16'), ('marital_status', 'Single'), ('skills', ['Problem solving', 'Time management', 'Communication']), ('country', 'Japan'), ('city', 'Kyoto'), ('address', '123, MG Road')]\n"
          ]
        }
      ]
    },
    {
      "cell_type": "code",
      "source": [
        "# 10. Delete one of the items in the dictionary\n",
        "student.pop('age')\n",
        "print(student)"
      ],
      "metadata": {
        "colab": {
          "base_uri": "https://localhost:8080/"
        },
        "id": "-cfQbwX7lwW8",
        "outputId": "af1292e3-1bac-44f8-ac45-25fc8f016e7f"
      },
      "execution_count": null,
      "outputs": [
        {
          "output_type": "stream",
          "name": "stdout",
          "text": [
            "{'first_name': 'Zenistu', 'last_name': 'Agatsuma', 'gender': 'Male', 'marital_status': 'Single', 'skills': ['Problem solving', 'Time management', 'Communication'], 'country': 'Japan', 'city': 'Kyoto', 'address': '123, MG Road'}\n"
          ]
        }
      ]
    },
    {
      "cell_type": "code",
      "source": [
        "# 11. Delete one of the dictionaries\n",
        "del student['marital_status']\n",
        "print(student)"
      ],
      "metadata": {
        "colab": {
          "base_uri": "https://localhost:8080/"
        },
        "id": "hc_8ckuqlyOG",
        "outputId": "892f7d26-50f0-4c8f-fe0e-e3266282368f"
      },
      "execution_count": null,
      "outputs": [
        {
          "output_type": "stream",
          "name": "stdout",
          "text": [
            "{'first_name': 'Zenistu', 'last_name': 'Agatsuma', 'gender': 'Male', 'skills': ['Problem solving', 'Time management', 'Communication'], 'country': 'Japan', 'city': 'Kyoto', 'address': '123, MG Road'}\n"
          ]
        }
      ]
    }
  ]
}