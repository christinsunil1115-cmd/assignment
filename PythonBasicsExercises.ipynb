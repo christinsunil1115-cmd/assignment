{
  "cells": [
    {
      "cell_type": "markdown",
      "metadata": {
        "id": "view-in-github",
        "colab_type": "text"
      },
      "source": [
        "<a href=\"https://colab.research.google.com/github/christinsunil1115-cmd/assignment/blob/main/PythonBasicsExercises.ipynb\" target=\"_parent\"><img src=\"https://colab.research.google.com/assets/colab-badge.svg\" alt=\"Open In Colab\"/></a>"
      ]
    },
    {
      "cell_type": "code",
      "execution_count": null,
      "id": "ef20e164-a3d4-473d-9f6b-c00c09ce093b",
      "metadata": {
        "colab": {
          "base_uri": "https://localhost:8080/"
        },
        "id": "ef20e164-a3d4-473d-9f6b-c00c09ce093b",
        "outputId": "a5629ffc-7c1a-4e5b-d90b-1e6b72dc9da3"
      },
      "outputs": [
        {
          "output_type": "stream",
          "name": "stdout",
          "text": [
            "5\n"
          ]
        }
      ],
      "source": [
        "print(2 + 3)"
      ]
    },
    {
      "cell_type": "code",
      "execution_count": null,
      "id": "8b39526f-7e84-4cd1-a55e-9333ed8009c4",
      "metadata": {
        "colab": {
          "base_uri": "https://localhost:8080/"
        },
        "id": "8b39526f-7e84-4cd1-a55e-9333ed8009c4",
        "outputId": "fe9720b2-0780-4828-a383-753aae2541c5"
      },
      "outputs": [
        {
          "output_type": "stream",
          "name": "stdout",
          "text": [
            "2\n"
          ]
        }
      ],
      "source": [
        "print(3 - 1)"
      ]
    },
    {
      "cell_type": "code",
      "execution_count": null,
      "id": "e8aa6c62-9ae0-4f6e-b3b2-7996752cf722",
      "metadata": {
        "colab": {
          "base_uri": "https://localhost:8080/"
        },
        "id": "e8aa6c62-9ae0-4f6e-b3b2-7996752cf722",
        "outputId": "01b3040a-71ec-414b-db94-ac785719e2e5"
      },
      "outputs": [
        {
          "output_type": "stream",
          "name": "stdout",
          "text": [
            "6\n"
          ]
        }
      ],
      "source": [
        "print(2 * 3)"
      ]
    },
    {
      "cell_type": "code",
      "execution_count": null,
      "id": "9ae4f620-85d6-42b1-a934-62dd284e72e7",
      "metadata": {
        "colab": {
          "base_uri": "https://localhost:8080/"
        },
        "id": "9ae4f620-85d6-42b1-a934-62dd284e72e7",
        "outputId": "1492c756-3214-424f-89e8-825a6d637e8a"
      },
      "outputs": [
        {
          "output_type": "stream",
          "name": "stdout",
          "text": [
            "1.5\n"
          ]
        }
      ],
      "source": [
        "print(3 / 2)"
      ]
    },
    {
      "cell_type": "code",
      "execution_count": null,
      "id": "5b3de554-1350-4f04-9a20-8edafa6f942e",
      "metadata": {
        "colab": {
          "base_uri": "https://localhost:8080/"
        },
        "id": "5b3de554-1350-4f04-9a20-8edafa6f942e",
        "outputId": "81571c7e-dff4-4285-d6a9-f1aca5864045"
      },
      "outputs": [
        {
          "output_type": "stream",
          "name": "stdout",
          "text": [
            "9\n"
          ]
        }
      ],
      "source": [
        "print(3 ** 2)"
      ]
    },
    {
      "cell_type": "code",
      "execution_count": null,
      "id": "58a1bcd1-5dea-40be-bc2f-b1965854c2ad",
      "metadata": {
        "colab": {
          "base_uri": "https://localhost:8080/"
        },
        "id": "58a1bcd1-5dea-40be-bc2f-b1965854c2ad",
        "outputId": "8fce8a17-c571-4542-f1fe-762c03977009"
      },
      "outputs": [
        {
          "output_type": "stream",
          "name": "stdout",
          "text": [
            "1\n"
          ]
        }
      ],
      "source": [
        "print(3 % 2)"
      ]
    },
    {
      "cell_type": "code",
      "execution_count": null,
      "id": "bbac69e0-6405-4c36-aeed-e9e9de7a36df",
      "metadata": {
        "colab": {
          "base_uri": "https://localhost:8080/"
        },
        "id": "bbac69e0-6405-4c36-aeed-e9e9de7a36df",
        "outputId": "258f2109-5c07-4e0e-906e-a0e95c8693d5"
      },
      "outputs": [
        {
          "output_type": "stream",
          "name": "stdout",
          "text": [
            "1\n"
          ]
        }
      ],
      "source": [
        "print(3 // 2)"
      ]
    },
    {
      "cell_type": "code",
      "execution_count": null,
      "id": "df9b5e76-8216-4baa-9a5b-11b14b729e24",
      "metadata": {
        "colab": {
          "base_uri": "https://localhost:8080/"
        },
        "id": "df9b5e76-8216-4baa-9a5b-11b14b729e24",
        "outputId": "4a01da28-ecdd-42de-c6d3-5013700bb27f"
      },
      "outputs": [
        {
          "output_type": "stream",
          "name": "stdout",
          "text": [
            "<class 'int'>\n"
          ]
        }
      ],
      "source": [
        "print(type(10))"
      ]
    },
    {
      "cell_type": "code",
      "execution_count": null,
      "id": "1bfa3396-bed8-4ecd-82e0-523165df83b3",
      "metadata": {
        "colab": {
          "base_uri": "https://localhost:8080/"
        },
        "id": "1bfa3396-bed8-4ecd-82e0-523165df83b3",
        "outputId": "0b55ff7b-e165-420d-ba4b-d6d8b126378c"
      },
      "outputs": [
        {
          "output_type": "stream",
          "name": "stdout",
          "text": [
            "<class 'float'>\n"
          ]
        }
      ],
      "source": [
        "print(type(3.14))"
      ]
    },
    {
      "cell_type": "code",
      "execution_count": null,
      "id": "d69da328-bc17-4404-a15d-bd0a3a762eb2",
      "metadata": {
        "colab": {
          "base_uri": "https://localhost:8080/"
        },
        "id": "d69da328-bc17-4404-a15d-bd0a3a762eb2",
        "outputId": "05ec03d9-22d1-400e-9b9c-cef3e5dfd12d"
      },
      "outputs": [
        {
          "output_type": "stream",
          "name": "stdout",
          "text": [
            "<class 'complex'>\n"
          ]
        }
      ],
      "source": [
        "print(type(1 + 3j))"
      ]
    },
    {
      "cell_type": "code",
      "execution_count": null,
      "id": "ecf92007-e179-4034-b794-51cfb8c05932",
      "metadata": {
        "colab": {
          "base_uri": "https://localhost:8080/"
        },
        "id": "ecf92007-e179-4034-b794-51cfb8c05932",
        "outputId": "6f66c27a-2f19-4bd7-93b1-6401601109fe"
      },
      "outputs": [
        {
          "output_type": "stream",
          "name": "stdout",
          "text": [
            "<class 'str'>\n"
          ]
        }
      ],
      "source": [
        "print(type('Rounded Professional Program'))"
      ]
    },
    {
      "cell_type": "code",
      "execution_count": null,
      "id": "7598e79b-3478-4a44-92da-f74c9d773d46",
      "metadata": {
        "colab": {
          "base_uri": "https://localhost:8080/"
        },
        "id": "7598e79b-3478-4a44-92da-f74c9d773d46",
        "outputId": "5657c192-a1ce-45d9-c643-34cb6a14ef30"
      },
      "outputs": [
        {
          "output_type": "stream",
          "name": "stdout",
          "text": [
            "<class 'list'>\n"
          ]
        }
      ],
      "source": [
        "print(type([1, 2, 3]))"
      ]
    },
    {
      "cell_type": "code",
      "execution_count": null,
      "id": "441e246a-c898-499d-ae22-9b1e77fedc55",
      "metadata": {
        "id": "441e246a-c898-499d-ae22-9b1e77fedc55"
      },
      "outputs": [],
      "source": [
        "# Check the python version you are using"
      ]
    },
    {
      "cell_type": "code",
      "source": [
        "!python --version"
      ],
      "metadata": {
        "colab": {
          "base_uri": "https://localhost:8080/"
        },
        "id": "Ew-g3A-vnaHY",
        "outputId": "0b060af3-23a1-408f-b245-a81a9314ac65"
      },
      "id": "Ew-g3A-vnaHY",
      "execution_count": null,
      "outputs": [
        {
          "output_type": "stream",
          "name": "stdout",
          "text": [
            "Python 3.12.11\n"
          ]
        }
      ]
    },
    {
      "cell_type": "code",
      "execution_count": null,
      "id": "a0ec8186-6fe6-4377-8f93-eeb5306c78e9",
      "metadata": {
        "id": "a0ec8186-6fe6-4377-8f93-eeb5306c78e9"
      },
      "outputs": [],
      "source": [
        "# Check the data type of 4 - 4j"
      ]
    },
    {
      "cell_type": "code",
      "source": [
        "print(type(4 - 4j))"
      ],
      "metadata": {
        "colab": {
          "base_uri": "https://localhost:8080/"
        },
        "id": "O7iJs3JSnptt",
        "outputId": "6123fc25-fcf6-4af4-889a-25d2408fd9ae"
      },
      "id": "O7iJs3JSnptt",
      "execution_count": null,
      "outputs": [
        {
          "output_type": "stream",
          "name": "stdout",
          "text": [
            "<class 'complex'>\n"
          ]
        }
      ]
    },
    {
      "cell_type": "code",
      "execution_count": null,
      "id": "a3c1eab2-2f89-41ab-aeff-c69a21bf388a",
      "metadata": {
        "id": "a3c1eab2-2f89-41ab-aeff-c69a21bf388a"
      },
      "outputs": [],
      "source": [
        "#  Find an Euclidian distance between (2, 3) and (10, 8)"
      ]
    },
    {
      "cell_type": "code",
      "source": [
        "x1 =float(input(\"Enter the vlue : \"))\n",
        "y1 = float(input(\"Enter the value :\"))\n",
        "x2 =float(input(\"Enter the value :\"))\n",
        "y2 =float(input(\"Enter the value :\"))\n",
        "ecluddistance = ((x2 - x1)**2+(y2- y1)**2)\n",
        "print(round(ecluddistance,2))"
      ],
      "metadata": {
        "colab": {
          "base_uri": "https://localhost:8080/"
        },
        "id": "BVF34Mb45fIW",
        "outputId": "c8d61e2b-bd5a-43fc-b748-2ebc71b24513"
      },
      "id": "BVF34Mb45fIW",
      "execution_count": null,
      "outputs": [
        {
          "output_type": "stream",
          "name": "stdout",
          "text": [
            "Enter the vlue : 3.2\n",
            "Enter the value :6.4\n",
            "Enter the value :5.2\n",
            "Enter the value :9.6\n",
            "14.24\n"
          ]
        }
      ]
    },
    {
      "cell_type": "code",
      "source": [
        "import math\n",
        "x1 = 2\n",
        "y1 = 3\n",
        "x2 = 10\n",
        "y2 = 8\n",
        "ecluddistance = math.sqrt((x2 - x1)**2+(y2 - y1)**2)\n",
        "print(round(ecluddistance,2))"
      ],
      "metadata": {
        "colab": {
          "base_uri": "https://localhost:8080/"
        },
        "id": "h808oeuo4jrA",
        "outputId": "90e413b0-ecb1-4a78-c271-2d2116132d89"
      },
      "id": "h808oeuo4jrA",
      "execution_count": null,
      "outputs": [
        {
          "output_type": "stream",
          "name": "stdout",
          "text": [
            "9.43\n"
          ]
        }
      ]
    },
    {
      "cell_type": "code",
      "execution_count": null,
      "id": "4a18e4fd-4e03-4e32-bcdb-7dec40375dba",
      "metadata": {
        "id": "4a18e4fd-4e03-4e32-bcdb-7dec40375dba"
      },
      "outputs": [],
      "source": [
        "#Input the name and age from a user and store the values in variables"
      ]
    },
    {
      "cell_type": "code",
      "source": [
        "user_name = input(\"Enter your name :\")\n",
        "user_age = int(input(\"Enter your age :\"))\n",
        "print(\"The Name of Person  \",user_name,  \"is age is  \",user_age)"
      ],
      "metadata": {
        "colab": {
          "base_uri": "https://localhost:8080/"
        },
        "id": "hzfShPbn6U2_",
        "outputId": "637ebdfd-86b9-45e3-9987-bb639a4a7f60"
      },
      "id": "hzfShPbn6U2_",
      "execution_count": null,
      "outputs": [
        {
          "output_type": "stream",
          "name": "stdout",
          "text": [
            "Enter your name :christin\n",
            "Enter your age :21\n",
            "The Name of Person   christin is age is   21\n"
          ]
        }
      ]
    },
    {
      "cell_type": "code",
      "source": [
        "#Type conversions\n",
        "# Float to int\n",
        "gravity = 9.88\n",
        "print((gravity))"
      ],
      "metadata": {
        "colab": {
          "base_uri": "https://localhost:8080/"
        },
        "id": "ESNy-jco8RBa",
        "outputId": "a435fbf7-e8be-4c6d-dfb9-313e6941ba23"
      },
      "id": "ESNy-jco8RBa",
      "execution_count": null,
      "outputs": [
        {
          "output_type": "stream",
          "name": "stdout",
          "text": [
            "9.88\n"
          ]
        }
      ]
    },
    {
      "cell_type": "code",
      "execution_count": null,
      "id": "f1225b98-aeb1-4a8a-9917-b91b4f6558fe",
      "metadata": {
        "colab": {
          "base_uri": "https://localhost:8080/"
        },
        "id": "f1225b98-aeb1-4a8a-9917-b91b4f6558fe",
        "outputId": "d6d65ddd-929d-4df5-8ef2-a35d90cc99da"
      },
      "outputs": [
        {
          "output_type": "stream",
          "name": "stdout",
          "text": [
            "10\n",
            "10\n"
          ]
        }
      ],
      "source": [
        "# int to str\n",
        "num_int = 10\n",
        "print(num_int)                  # 10\n",
        "num_str = str(num_int)\n",
        "print(num_str)\n",
        "# '10'"
      ]
    },
    {
      "cell_type": "code",
      "source": [
        "#int to str\n",
        "num_int = 10\n",
        "num_str = str(num_int)\n",
        "print(num_str)"
      ],
      "metadata": {
        "colab": {
          "base_uri": "https://localhost:8080/"
        },
        "id": "om9NnW6H7VZ7",
        "outputId": "f9075954-4772-4b1a-df4a-ac02893b4d27"
      },
      "id": "om9NnW6H7VZ7",
      "execution_count": null,
      "outputs": [
        {
          "output_type": "stream",
          "name": "stdout",
          "text": [
            "10\n"
          ]
        }
      ]
    },
    {
      "cell_type": "code",
      "source": [
        "# int to str\n",
        "num_int =10\n",
        "print(num_int)\n",
        "num_str =str(num_int)\n",
        "print(num_str)"
      ],
      "metadata": {
        "colab": {
          "base_uri": "https://localhost:8080/"
        },
        "id": "0lPseEul8odI",
        "outputId": "74521612-cfc4-4bcd-bb37-7637f535baee"
      },
      "id": "0lPseEul8odI",
      "execution_count": null,
      "outputs": [
        {
          "output_type": "stream",
          "name": "stdout",
          "text": [
            "10\n",
            "10\n"
          ]
        }
      ]
    },
    {
      "cell_type": "code",
      "source": [
        "# int to str\n",
        "num_int =10\n",
        "print(num_int)\n",
        "num_str =str(num_str)\n",
        "print(num_str)"
      ],
      "metadata": {
        "colab": {
          "base_uri": "https://localhost:8080/"
        },
        "id": "Y5d2nLRC9CDS",
        "outputId": "7c0b027b-49e5-4a4c-c46b-bd6a7b447a3a"
      },
      "id": "Y5d2nLRC9CDS",
      "execution_count": null,
      "outputs": [
        {
          "output_type": "stream",
          "name": "stdout",
          "text": [
            "10\n",
            "10\n"
          ]
        }
      ]
    },
    {
      "cell_type": "code",
      "source": [
        "# str to int to float\n",
        "num_str ='10'\n",
        "num_float =float(num_str)\n",
        "print('num_float',num_float)\n",
        "num_int =int(num_float)\n",
        "print('num_int',num_int)"
      ],
      "metadata": {
        "colab": {
          "base_uri": "https://localhost:8080/"
        },
        "id": "iE8p4Nxf-uQ3",
        "outputId": "255f83b9-f422-4bd4-8b5e-eaea2fe8f613"
      },
      "id": "iE8p4Nxf-uQ3",
      "execution_count": null,
      "outputs": [
        {
          "output_type": "stream",
          "name": "stdout",
          "text": [
            "num_float 10.0\n",
            "num_int 10\n"
          ]
        }
      ]
    },
    {
      "cell_type": "code",
      "execution_count": null,
      "id": "560df4d7-1fc5-4a95-b278-a83fc5a2c8eb",
      "metadata": {
        "id": "560df4d7-1fc5-4a95-b278-a83fc5a2c8eb",
        "colab": {
          "base_uri": "https://localhost:8080/"
        },
        "outputId": "09b778df-8b7e-4d68-b500-675e64f866cf"
      },
      "outputs": [
        {
          "output_type": "stream",
          "name": "stdout",
          "text": [
            "RP2\n",
            "['R', 'P', '2']\n"
          ]
        }
      ],
      "source": [
        "# str to list\n",
        "first_name = 'RP2'\n",
        "print(first_name)\n",
        "first_name_to_list = list(first_name)\n",
        "print(first_name_to_list)            # ['R', 'P', '2']"
      ]
    },
    {
      "cell_type": "code",
      "source": [
        "first = 'RP2'\n",
        "first_name_to_list =list(first)\n",
        "print(first_name_to_list)"
      ],
      "metadata": {
        "colab": {
          "base_uri": "https://localhost:8080/"
        },
        "id": "BvIRWvZ27wzV",
        "outputId": "c4d9cff5-c716-4651-a3da-646da2b9957f"
      },
      "id": "BvIRWvZ27wzV",
      "execution_count": null,
      "outputs": [
        {
          "output_type": "stream",
          "name": "stdout",
          "text": [
            "['R', 'P', '2']\n"
          ]
        }
      ]
    },
    {
      "cell_type": "code",
      "source": [
        "first_person_name = 'christin'\n",
        "first_name_to_list = list(first_person_name)\n",
        "print(first_name_to_list)"
      ],
      "metadata": {
        "colab": {
          "base_uri": "https://localhost:8080/"
        },
        "id": "3vEciOGq8DYP",
        "outputId": "f4bc1b81-f5a9-4bc3-df5f-01e9e72d62a8"
      },
      "id": "3vEciOGq8DYP",
      "execution_count": null,
      "outputs": [
        {
          "output_type": "stream",
          "name": "stdout",
          "text": [
            "['c', 'h', 'r', 'i', 's', 't', 'i', 'n']\n"
          ]
        }
      ]
    },
    {
      "cell_type": "code",
      "execution_count": null,
      "id": "70c0b5ab-2c41-4423-82a1-ba26e80dc544",
      "metadata": {
        "id": "70c0b5ab-2c41-4423-82a1-ba26e80dc544"
      },
      "outputs": [],
      "source": [
        "# Declare a variable is_married and assign a value to it"
      ]
    },
    {
      "cell_type": "code",
      "source": [
        "is_married = True\n",
        "print(is_married)"
      ],
      "metadata": {
        "colab": {
          "base_uri": "https://localhost:8080/"
        },
        "id": "bO_CRfdZs0Gi",
        "outputId": "8e4fd796-062b-439e-f2fc-b177ecd68444"
      },
      "id": "bO_CRfdZs0Gi",
      "execution_count": null,
      "outputs": [
        {
          "output_type": "stream",
          "name": "stdout",
          "text": [
            "True\n"
          ]
        }
      ]
    },
    {
      "cell_type": "code",
      "execution_count": null,
      "id": "9f8952f2-554d-4c25-986d-227ee0bd2f3c",
      "metadata": {
        "id": "9f8952f2-554d-4c25-986d-227ee0bd2f3c"
      },
      "outputs": [],
      "source": [
        "# Declare a variable is_true and assign a value to it"
      ]
    },
    {
      "cell_type": "code",
      "source": [
        "is_true = False\n",
        "print(is_true)"
      ],
      "metadata": {
        "colab": {
          "base_uri": "https://localhost:8080/"
        },
        "id": "mjWZyQTj9Ngk",
        "outputId": "5c0ed25a-8471-4382-8857-b3111caaaf6b"
      },
      "id": "mjWZyQTj9Ngk",
      "execution_count": null,
      "outputs": [
        {
          "output_type": "stream",
          "name": "stdout",
          "text": [
            "False\n"
          ]
        }
      ]
    },
    {
      "cell_type": "code",
      "execution_count": null,
      "id": "0ab3a4e3-66cd-4d07-93a3-168ec1b35d6e",
      "metadata": {
        "id": "0ab3a4e3-66cd-4d07-93a3-168ec1b35d6e"
      },
      "outputs": [],
      "source": [
        "# Declare a variable is_light_on and assign a value to it"
      ]
    },
    {
      "cell_type": "code",
      "source": [
        "is_light_on = True\n",
        "print(is_light_on)"
      ],
      "metadata": {
        "colab": {
          "base_uri": "https://localhost:8080/"
        },
        "id": "DAKv4p8QvHBg",
        "outputId": "b5164175-877f-4727-e38d-cd2c47dca6d7"
      },
      "id": "DAKv4p8QvHBg",
      "execution_count": null,
      "outputs": [
        {
          "output_type": "stream",
          "name": "stdout",
          "text": [
            "True\n"
          ]
        }
      ]
    },
    {
      "cell_type": "code",
      "execution_count": null,
      "id": "2926f657-35d1-4860-b26e-0869aa4fde11",
      "metadata": {
        "id": "2926f657-35d1-4860-b26e-0869aa4fde11"
      },
      "outputs": [],
      "source": [
        "#Declare a variable first_name and store your name in it\n",
        "#Using the len() built-in function, find the length of your first name"
      ]
    },
    {
      "cell_type": "code",
      "source": [
        "first_name = 'rps'\n",
        "print(len(first_name))"
      ],
      "metadata": {
        "colab": {
          "base_uri": "https://localhost:8080/"
        },
        "id": "zjMeUTCNvm2S",
        "outputId": "8a27441b-442c-4840-d769-08bdfd19bf97"
      },
      "id": "zjMeUTCNvm2S",
      "execution_count": null,
      "outputs": [
        {
          "output_type": "stream",
          "name": "stdout",
          "text": [
            "3\n"
          ]
        }
      ]
    },
    {
      "cell_type": "code",
      "source": [
        "user_name =input(\"Enter User name : \")\n",
        "print(len(user_name))"
      ],
      "metadata": {
        "colab": {
          "base_uri": "https://localhost:8080/"
        },
        "id": "8UMb5jrc9niV",
        "outputId": "aa7fee8b-43d3-43e8-8d57-d744d628dae3"
      },
      "id": "8UMb5jrc9niV",
      "execution_count": null,
      "outputs": [
        {
          "output_type": "stream",
          "name": "stdout",
          "text": [
            "Enter User name : christin sunil\n",
            "14\n"
          ]
        }
      ]
    },
    {
      "cell_type": "code",
      "execution_count": null,
      "id": "b3bc2233-ccb9-42df-b802-60d76c98b027",
      "metadata": {
        "id": "b3bc2233-ccb9-42df-b802-60d76c98b027"
      },
      "outputs": [],
      "source": [
        "# the length of your Comparefirst name and your last name"
      ]
    },
    {
      "cell_type": "code",
      "source": [
        "first_name =input(\"Enter your First name: \")\n",
        "last_name =input(\"Enter your last name: \")\n",
        "if len(first_name)==len(last_name):\n",
        "  print(\"The length of your fisrt name and your last name are equal\")\n",
        "else:\n",
        "    print(\"not equal!\")"
      ],
      "metadata": {
        "colab": {
          "base_uri": "https://localhost:8080/"
        },
        "id": "7a6MmfYcCQ2F",
        "outputId": "c9ff627e-b383-452d-eadf-369e9d39c53f"
      },
      "id": "7a6MmfYcCQ2F",
      "execution_count": null,
      "outputs": [
        {
          "output_type": "stream",
          "name": "stdout",
          "text": [
            "Enter your First name: christin\n",
            "Enter your last name: sunil\n",
            "not equal!\n"
          ]
        }
      ]
    },
    {
      "cell_type": "code",
      "execution_count": null,
      "id": "682ac8aa-8543-4f15-980c-c622a3398cc5",
      "metadata": {
        "id": "682ac8aa-8543-4f15-980c-c622a3398cc5"
      },
      "outputs": [],
      "source": [
        "#Declare 5 as num_one and 4 as num_two"
      ]
    },
    {
      "cell_type": "code",
      "source": [
        "num_one =5\n",
        "num_two =4\n",
        "print(num_one)\n",
        "print(num_two)"
      ],
      "metadata": {
        "colab": {
          "base_uri": "https://localhost:8080/"
        },
        "id": "bCv7QAWU58fK",
        "outputId": "b4ab38b0-518e-43e1-f485-448d47f27727"
      },
      "id": "bCv7QAWU58fK",
      "execution_count": null,
      "outputs": [
        {
          "output_type": "stream",
          "name": "stdout",
          "text": [
            "5\n",
            "4\n"
          ]
        }
      ]
    },
    {
      "cell_type": "code",
      "execution_count": null,
      "id": "17d6e5ba-4def-4887-9882-b1f049fa0437",
      "metadata": {
        "id": "17d6e5ba-4def-4887-9882-b1f049fa0437"
      },
      "outputs": [],
      "source": [
        "#Add num_one and num_two and assign the value to a variable total"
      ]
    },
    {
      "cell_type": "code",
      "source": [
        "print(num_one + num_two)"
      ],
      "metadata": {
        "colab": {
          "base_uri": "https://localhost:8080/"
        },
        "id": "SA19X45u6J_M",
        "outputId": "93c0afb7-e528-4c80-8f1b-3426318b869d"
      },
      "id": "SA19X45u6J_M",
      "execution_count": null,
      "outputs": [
        {
          "output_type": "stream",
          "name": "stdout",
          "text": [
            "9\n"
          ]
        }
      ]
    },
    {
      "cell_type": "code",
      "execution_count": null,
      "id": "49b95a9d-e448-43c7-8dd5-aad9120306bc",
      "metadata": {
        "id": "49b95a9d-e448-43c7-8dd5-aad9120306bc"
      },
      "outputs": [],
      "source": [
        "#Subtract num_two from num_one and assign the value to a variable diff"
      ]
    },
    {
      "cell_type": "code",
      "source": [
        "print(num_one - num_two)"
      ],
      "metadata": {
        "colab": {
          "base_uri": "https://localhost:8080/"
        },
        "id": "6U7T7VDQ6U-Q",
        "outputId": "a34249fa-364e-44af-c28a-c39c82d40cfa"
      },
      "id": "6U7T7VDQ6U-Q",
      "execution_count": null,
      "outputs": [
        {
          "output_type": "stream",
          "name": "stdout",
          "text": [
            "1\n"
          ]
        }
      ]
    },
    {
      "cell_type": "code",
      "execution_count": null,
      "id": "c8f9c89d-bf3b-48b9-91c9-d0774cad54ee",
      "metadata": {
        "id": "c8f9c89d-bf3b-48b9-91c9-d0774cad54ee"
      },
      "outputs": [],
      "source": [
        "#Multiply num_two and num_one and assign the value to a variable product"
      ]
    },
    {
      "cell_type": "code",
      "source": [
        "print(num_one * num_two)"
      ],
      "metadata": {
        "colab": {
          "base_uri": "https://localhost:8080/"
        },
        "id": "YiLlNSme6k4h",
        "outputId": "d8a605e2-c916-4439-9cae-031bbe4b76fd"
      },
      "id": "YiLlNSme6k4h",
      "execution_count": null,
      "outputs": [
        {
          "output_type": "stream",
          "name": "stdout",
          "text": [
            "20\n"
          ]
        }
      ]
    },
    {
      "cell_type": "code",
      "execution_count": null,
      "id": "d2d69e04-1880-4859-9e2b-be5db461d7c3",
      "metadata": {
        "id": "d2d69e04-1880-4859-9e2b-be5db461d7c3"
      },
      "outputs": [],
      "source": [
        "#Divide num_one by num_two and assign the value to a variable division"
      ]
    },
    {
      "cell_type": "code",
      "source": [
        "print(num_one / num_two)"
      ],
      "metadata": {
        "colab": {
          "base_uri": "https://localhost:8080/"
        },
        "id": "eTsea6S67Ii3",
        "outputId": "2b0611ca-7fd4-41c0-834f-50b6424b4eca"
      },
      "id": "eTsea6S67Ii3",
      "execution_count": null,
      "outputs": [
        {
          "output_type": "stream",
          "name": "stdout",
          "text": [
            "1.25\n"
          ]
        }
      ]
    },
    {
      "cell_type": "code",
      "execution_count": null,
      "id": "66e533f5-1c96-47de-a401-85f0d05c2f1c",
      "metadata": {
        "id": "66e533f5-1c96-47de-a401-85f0d05c2f1c"
      },
      "outputs": [],
      "source": [
        "# Use modulus division to find num_two divided by num_one and assign the value\n",
        "# to a variable remainder"
      ]
    },
    {
      "cell_type": "code",
      "source": [
        "print(num_one % num_two)"
      ],
      "metadata": {
        "colab": {
          "base_uri": "https://localhost:8080/"
        },
        "id": "RVpBG8xs7Nfp",
        "outputId": "2e90c1b0-7328-4ca9-eadf-073d3dee6360"
      },
      "id": "RVpBG8xs7Nfp",
      "execution_count": null,
      "outputs": [
        {
          "output_type": "stream",
          "name": "stdout",
          "text": [
            "1\n"
          ]
        }
      ]
    },
    {
      "cell_type": "code",
      "execution_count": null,
      "id": "3253f947-a4cd-4293-9820-70b07babafcd",
      "metadata": {
        "id": "3253f947-a4cd-4293-9820-70b07babafcd"
      },
      "outputs": [],
      "source": [
        "# Calculate num_one to the power of num_two and assign the value to a variable exp"
      ]
    },
    {
      "cell_type": "code",
      "source": [
        "print(num_one ** num_two)"
      ],
      "metadata": {
        "colab": {
          "base_uri": "https://localhost:8080/"
        },
        "id": "Xn7ri6ZC7nOC",
        "outputId": "3552c3e6-4e02-40cf-e4a8-b6d20c9f057b"
      },
      "id": "Xn7ri6ZC7nOC",
      "execution_count": null,
      "outputs": [
        {
          "output_type": "stream",
          "name": "stdout",
          "text": [
            "625\n"
          ]
        }
      ]
    },
    {
      "cell_type": "code",
      "execution_count": null,
      "id": "e3e75145-8fc6-469f-b1f9-2f4bc0b8f5f9",
      "metadata": {
        "colab": {
          "base_uri": "https://localhost:8080/"
        },
        "id": "e3e75145-8fc6-469f-b1f9-2f4bc0b8f5f9",
        "outputId": "b3b36938-ad2a-404a-b1cd-e1a8c59c8f37"
      },
      "outputs": [
        {
          "output_type": "stream",
          "name": "stdout",
          "text": [
            "1\n"
          ]
        }
      ],
      "source": [
        "#  Find floor division of num_one by num_two and assign the value to a variable\n",
        "floor_division=(num_one // num_two)\n",
        "print(floor_division)"
      ]
    },
    {
      "cell_type": "code",
      "execution_count": null,
      "id": "7c2f00a2-3e96-4f5f-b661-a3e844874186",
      "metadata": {
        "colab": {
          "base_uri": "https://localhost:8080/"
        },
        "id": "7c2f00a2-3e96-4f5f-b661-a3e844874186",
        "outputId": "916eeea4-5f40-4943-ec58-190f208f03ac"
      },
      "outputs": [
        {
          "output_type": "stream",
          "name": "stdout",
          "text": [
            "10\n",
            "6.5\n",
            "(2+3j)\n"
          ]
        }
      ],
      "source": [
        "#1. Declare your age as integer variable\n",
        "#2. Declare your height as a float variable\n",
        "#3. Declare a variable that store a complex number\n",
        "age =10\n",
        "hieght =6.5\n",
        "complex = 2+3j\n",
        "print(age)\n",
        "print(hieght)\n",
        "print(complex)\n"
      ]
    },
    {
      "cell_type": "code",
      "execution_count": null,
      "id": "eb600d51-b389-440d-b791-2c7326c8ea7f",
      "metadata": {
        "colab": {
          "base_uri": "https://localhost:8080/"
        },
        "id": "eb600d51-b389-440d-b791-2c7326c8ea7f",
        "outputId": "b2a94a04-69a4-4987-f3d2-054e94733a5c"
      },
      "outputs": [
        {
          "output_type": "stream",
          "name": "stdout",
          "text": [
            "enter side a23\n",
            "enter side b33\n",
            "enter side c44\n",
            "100\n"
          ]
        }
      ],
      "source": [
        "#Write a script that prompts the user to enter\n",
        "#side a, side b, and side c of the triangle.\n",
        "#Calculate the perimeter of the triangle (perimeter = a + b + c).\n",
        "side_a = int(input(\"enter side a\"))\n",
        "side_b = int(input(\"enter side b\"))\n",
        "side_c = int(input(\"enter side c\"))\n",
        "perimeter = side_a + side_b + side_c\n",
        "print(perimeter)"
      ]
    },
    {
      "cell_type": "code",
      "execution_count": null,
      "id": "d19c3f66-502b-463f-a269-2047860364d3",
      "metadata": {
        "id": "d19c3f66-502b-463f-a269-2047860364d3"
      },
      "outputs": [],
      "source": [
        "#Get length and width of a rectangle using prompt.\n",
        "#Calculate its area (area = length x width) and perimeter (perimeter = 2 x (length + width))"
      ]
    },
    {
      "cell_type": "code",
      "source": [
        "Length =int(input(\"Enter the Length : \"))\n",
        "Width =int(input(\"Enter the Width : \"))\n",
        "area = Length * Width\n",
        "perimetre = 2 *(Length + Width)\n",
        "print(area)\n",
        "print(perimetre)"
      ],
      "metadata": {
        "colab": {
          "base_uri": "https://localhost:8080/"
        },
        "id": "ZyIeNoxNGSXC",
        "outputId": "2a5baf0e-270e-48c5-d26a-0133b4660629"
      },
      "id": "ZyIeNoxNGSXC",
      "execution_count": null,
      "outputs": [
        {
          "output_type": "stream",
          "name": "stdout",
          "text": [
            "Enter the Length : 21\n",
            "Enter the Width : 21\n",
            "441\n",
            "84\n"
          ]
        }
      ]
    },
    {
      "cell_type": "code",
      "execution_count": null,
      "id": "95c2e62e-e6dd-4a70-bbea-9dffe9c59e23",
      "metadata": {
        "id": "95c2e62e-e6dd-4a70-bbea-9dffe9c59e23"
      },
      "outputs": [],
      "source": [
        "# Slope is (m = y2-y1/x2-x1).\n",
        "#Find the slope and Euclidean distance between\n",
        "#point (2, 2) and point (6,10)"
      ]
    },
    {
      "cell_type": "code",
      "source": [
        "import math\n",
        "x1 = 2\n",
        "y1 = 2\n",
        "x2 = 6\n",
        "y2 = 10\n",
        "m = (y2 - y1) /(x2 - x1)\n",
        "ecluddistance = math.sqrt((x2 - x1)**2 +(y2 - y1)**2)\n",
        "print(round(ecluddistance,2))\n",
        "print(\"slop\",m)"
      ],
      "metadata": {
        "colab": {
          "base_uri": "https://localhost:8080/"
        },
        "id": "axpCN6Co_-bL",
        "outputId": "ed428cda-2982-4fe5-e9ad-a4c106387140"
      },
      "id": "axpCN6Co_-bL",
      "execution_count": 2,
      "outputs": [
        {
          "output_type": "stream",
          "name": "stdout",
          "text": [
            "8.94\n",
            "slop 2.0\n"
          ]
        }
      ]
    },
    {
      "cell_type": "code",
      "execution_count": null,
      "id": "87fb02da-1ca0-4317-9fbc-424efad6d21e",
      "metadata": {
        "id": "87fb02da-1ca0-4317-9fbc-424efad6d21e"
      },
      "outputs": [],
      "source": [
        "#Compare the slopes in previous tasks"
      ]
    },
    {
      "cell_type": "code",
      "source": [
        "x = int(input(\"Enter the value : \"))\n",
        "y = x**2 + 6*x + 9\n",
        "print(y)"
      ],
      "metadata": {
        "colab": {
          "base_uri": "https://localhost:8080/"
        },
        "id": "GGpD6u44A4vB",
        "outputId": "70a94739-6d0a-4fa6-97f8-6c508f4e5145"
      },
      "id": "GGpD6u44A4vB",
      "execution_count": null,
      "outputs": [
        {
          "output_type": "stream",
          "name": "stdout",
          "text": [
            "Enter the value : -3\n",
            "0\n"
          ]
        }
      ]
    },
    {
      "cell_type": "code",
      "execution_count": null,
      "id": "2a715e27-b1a1-4125-aabb-824136d96346",
      "metadata": {
        "id": "2a715e27-b1a1-4125-aabb-824136d96346"
      },
      "outputs": [],
      "source": [
        "# Use and operator to check if 'on' is found in both 'python' and 'dragon'"
      ]
    },
    {
      "cell_type": "code",
      "source": [
        "a=\"python\"\n",
        "b=\"dragon\"\n",
        "if \"on\" in \"python\" and \"dragon\":\n",
        "  print(\"on in both\")\n",
        "else:\n",
        "  print(\"not found\")\n"
      ],
      "metadata": {
        "colab": {
          "base_uri": "https://localhost:8080/"
        },
        "id": "aC4iqC1uIdDD",
        "outputId": "8d39424f-5ce4-4977-cb26-2ae3ec103447"
      },
      "id": "aC4iqC1uIdDD",
      "execution_count": null,
      "outputs": [
        {
          "output_type": "stream",
          "name": "stdout",
          "text": [
            "on in both\n"
          ]
        }
      ]
    },
    {
      "cell_type": "code",
      "source": [
        "a ='christin'\n",
        "b ='sunil'\n",
        "if \"on\" in \"christin\" and \"sunil\":\n",
        "  print(\"on in both\")\n",
        "else:\n",
        "  print(\"not found\")"
      ],
      "metadata": {
        "colab": {
          "base_uri": "https://localhost:8080/"
        },
        "id": "dri9mZcwN_tz",
        "outputId": "f7428794-b1dc-49bd-c6c7-999c74a2607d"
      },
      "id": "dri9mZcwN_tz",
      "execution_count": null,
      "outputs": [
        {
          "output_type": "stream",
          "name": "stdout",
          "text": [
            "not found\n"
          ]
        }
      ]
    },
    {
      "cell_type": "code",
      "execution_count": null,
      "id": "70318926-6f5e-4587-be48-89e051579fce",
      "metadata": {
        "id": "70318926-6f5e-4587-be48-89e051579fce"
      },
      "outputs": [],
      "source": [
        "# I hope this course is not full of jargon.\n",
        "#Use in operator to check if jargon is in the sentence."
      ]
    },
    {
      "cell_type": "code",
      "source": [
        "a= \"I hope this course is not full of jargon.\"\n",
        "b=\"jargon\"\n",
        "if b in a:\n",
        "  print(\"jargon is in the sentence\")\n",
        "else:\n",
        "  print(\"not found\")"
      ],
      "metadata": {
        "colab": {
          "base_uri": "https://localhost:8080/"
        },
        "id": "QDzGnzX3JBiz",
        "outputId": "413aa7fb-4919-452b-c4e5-6ad07da5a254"
      },
      "id": "QDzGnzX3JBiz",
      "execution_count": null,
      "outputs": [
        {
          "output_type": "stream",
          "name": "stdout",
          "text": [
            "jargon is in the sentence\n"
          ]
        }
      ]
    },
    {
      "cell_type": "code",
      "execution_count": null,
      "id": "c66bf3dc-a0a0-496a-81a9-6c32097bf4b1",
      "metadata": {
        "id": "c66bf3dc-a0a0-496a-81a9-6c32097bf4b1"
      },
      "outputs": [],
      "source": [
        "# Find the length of the text python and convert the value to float and\n",
        "#convert it to string"
      ]
    },
    {
      "cell_type": "code",
      "source": [
        "length=\"python\"\n",
        "print(len(length))\n",
        "print(float(len(length)))\n",
        "print(str(length))"
      ],
      "metadata": {
        "colab": {
          "base_uri": "https://localhost:8080/"
        },
        "id": "15IR8j5xJerA",
        "outputId": "58549d12-9a6a-4d61-c82f-57288ea974b2"
      },
      "id": "15IR8j5xJerA",
      "execution_count": null,
      "outputs": [
        {
          "output_type": "stream",
          "name": "stdout",
          "text": [
            "6\n",
            "6.0\n",
            "python\n"
          ]
        }
      ]
    },
    {
      "cell_type": "code",
      "execution_count": null,
      "id": "3a7268d0-cb8e-454e-8d37-67037bab69c9",
      "metadata": {
        "id": "3a7268d0-cb8e-454e-8d37-67037bab69c9"
      },
      "outputs": [],
      "source": [
        " #Even numbers are divisible by 2 and the remainder is zero.\n",
        "#How do you check if a number is even or not using python?"
      ]
    },
    {
      "cell_type": "code",
      "source": [
        "num =3\n",
        "if num % 2 == 0:\n",
        "  print(\"the number is divisible by 2\")\n",
        "else:\n",
        "  print(\"the number is  not divisible by 2\")"
      ],
      "metadata": {
        "colab": {
          "base_uri": "https://localhost:8080/"
        },
        "id": "HRnx3uuNE2qa",
        "outputId": "1cc24976-1683-4323-b9b3-d60ebb3305e2"
      },
      "id": "HRnx3uuNE2qa",
      "execution_count": null,
      "outputs": [
        {
          "output_type": "stream",
          "name": "stdout",
          "text": [
            "the number is  not divisible by 2\n"
          ]
        }
      ]
    },
    {
      "cell_type": "code",
      "execution_count": null,
      "id": "e1d9c6f5-0da0-481c-bfa4-0d4f6b1adb5e",
      "metadata": {
        "id": "e1d9c6f5-0da0-481c-bfa4-0d4f6b1adb5e"
      },
      "outputs": [],
      "source": [
        "# Check if the floor division of 7 by 3 is equal to the int converted value of 2.7."
      ]
    },
    {
      "cell_type": "code",
      "source": [
        "fd=(7//3)\n",
        "a=int(2.7)\n",
        "if fd==a:\n",
        "  print(\"equal\")\n",
        "else:\n",
        "  print(\"not equal\")"
      ],
      "metadata": {
        "colab": {
          "base_uri": "https://localhost:8080/"
        },
        "id": "pRv_NtSKMkmT",
        "outputId": "3e600b4b-f7f6-4f88-e333-8d904e0b89b7"
      },
      "id": "pRv_NtSKMkmT",
      "execution_count": null,
      "outputs": [
        {
          "output_type": "stream",
          "name": "stdout",
          "text": [
            "equal\n"
          ]
        }
      ]
    },
    {
      "cell_type": "code",
      "source": [
        "print(7//3)"
      ],
      "metadata": {
        "colab": {
          "base_uri": "https://localhost:8080/"
        },
        "id": "KXXQToAEdbNi",
        "outputId": "c2007d0b-5c20-49d5-8b4d-c82456e8889b"
      },
      "id": "KXXQToAEdbNi",
      "execution_count": null,
      "outputs": [
        {
          "output_type": "stream",
          "name": "stdout",
          "text": [
            "2\n"
          ]
        }
      ]
    },
    {
      "cell_type": "code",
      "execution_count": null,
      "id": "30be5129-0398-4f6a-906a-282f5e6632b0",
      "metadata": {
        "id": "30be5129-0398-4f6a-906a-282f5e6632b0"
      },
      "outputs": [],
      "source": [
        "# Check if type of '10' is equal to type of 10"
      ]
    },
    {
      "cell_type": "code",
      "source": [
        "if type('10') == type(10):\n",
        "  print(\"equal\")\n",
        "else:\n",
        "  print(\"not equal\")\n",
        "\n"
      ],
      "metadata": {
        "colab": {
          "base_uri": "https://localhost:8080/"
        },
        "id": "C0dSV4nIxSfE",
        "outputId": "e32c959a-f90d-4c33-9f2f-8ecd90e8a0f6"
      },
      "id": "C0dSV4nIxSfE",
      "execution_count": null,
      "outputs": [
        {
          "output_type": "stream",
          "name": "stdout",
          "text": [
            "not equal\n"
          ]
        }
      ]
    },
    {
      "cell_type": "code",
      "execution_count": null,
      "id": "28a34c5d-c80c-4829-9d70-f0525026bb73",
      "metadata": {
        "id": "28a34c5d-c80c-4829-9d70-f0525026bb73"
      },
      "outputs": [],
      "source": [
        "#. Check if int('9.8') is equal to 10"
      ]
    },
    {
      "cell_type": "code",
      "execution_count": null,
      "id": "5376f7b5-799c-4787-a487-1f1820bd2b09",
      "metadata": {
        "id": "5376f7b5-799c-4787-a487-1f1820bd2b09"
      },
      "outputs": [],
      "source": [
        "# Write a Python script that displays the following table\n",
        "1 1 1 1 1\n",
        "2 1 2 4 8\n",
        "3 1 3 9 27\n",
        "4 1 4 16 64\n",
        "5 1 5 25 125"
      ]
    },
    {
      "cell_type": "code",
      "source": [
        "for i in range(1,6):\n",
        "  print(i,1,i**1,i**2,i**3)"
      ],
      "metadata": {
        "colab": {
          "base_uri": "https://localhost:8080/"
        },
        "id": "53StpAyKGc9q",
        "outputId": "039d5e1a-f866-403d-d87f-c64d90a948a0"
      },
      "id": "53StpAyKGc9q",
      "execution_count": null,
      "outputs": [
        {
          "output_type": "stream",
          "name": "stdout",
          "text": [
            "1 1 1 1 1\n",
            "2 1 2 4 8\n",
            "3 1 3 9 27\n",
            "4 1 4 16 64\n",
            "5 1 5 25 125\n"
          ]
        }
      ]
    },
    {
      "cell_type": "code",
      "execution_count": null,
      "id": "02033b0f-74ac-4f2b-a7cc-f37e023cea9c",
      "metadata": {
        "id": "02033b0f-74ac-4f2b-a7cc-f37e023cea9c",
        "colab": {
          "base_uri": "https://localhost:8080/"
        },
        "outputId": "6ca95fb8-3b3c-471b-c0df-ce0e5c3f39bf"
      },
      "outputs": [
        {
          "output_type": "stream",
          "name": "stdout",
          "text": [
            "A is positive\n"
          ]
        }
      ],
      "source": [
        "a = 3\n",
        "if a > 0:\n",
        "  print('A is positive')\n",
        "else:\n",
        "  print('A is negative')\n",
        "# first condition met, 'A is positive' will be printed"
      ]
    },
    {
      "cell_type": "markdown",
      "id": "46bebe90-b008-43ca-928a-378477bbd44d",
      "metadata": {
        "id": "46bebe90-b008-43ca-928a-378477bbd44d"
      },
      "source": [
        "Get user input using input(“Enter your age: ”). If user is 18 or older, give\n",
        "feedback: You are old enough to drive. If below 18 give feedback to wait for\n",
        "the missing amount of years. <br>\n",
        "Output: <br>\n",
        "Enter your age: 30 <br>\n",
        "You are old enough to learn to drive. <br>\n",
        "Output: <br>\n",
        "Enter your age: 15 <br>\n",
        "You need 3 more years to learn to drive."
      ]
    },
    {
      "cell_type": "markdown",
      "id": "77a9d52d-7705-4cbe-88b6-ed73b3afe119",
      "metadata": {
        "id": "77a9d52d-7705-4cbe-88b6-ed73b3afe119"
      },
      "source": [
        "Compare the values of my_age and your_age using if … else. <br>Who is older\n",
        "(me or you)? Use input(“Enter your age: ”) to get the age as input. <br>You can\n",
        "use a nested condition to print 'year' for 1 year difference in age, 'years' for\n",
        "bigger differences, and a custom text if my_age = your_age.<br> Output:\n",
        "Enter your age: 30 <br>\n",
        "You are 5 years older than me."
      ]
    },
    {
      "cell_type": "code",
      "source": [
        "'''input(“Enter your age: ”). If user is 18 or older,\n",
        " give feedback: You are old enough to drive.\n",
        "If below 18 give feedback to wait for the missing amount of years.'''\n",
        "\n",
        "#Ask the user to enter their age\n",
        "age_of_user = int(input(\"Enter your age : \"))\n",
        "\n",
        "#check if the user is 18 years or older\n",
        "if age_of_user >= 18:\n",
        "  print(\"you are old enough to drive\")\n",
        "\n",
        "  #If the user is more then 1 year younger\n",
        "elif age_of_user < 18:\n",
        "  if age_of_user - 18 == 1:\n",
        "    print(\"you are\",18-age_of_user,\"year older then me .\")\n",
        "\n",
        "  # print messsage for multiple years remaining\n",
        "  else:\n",
        "    print(\"Wait for the missing amount of years\",18-age_of_user)"
      ],
      "metadata": {
        "id": "qJo_XeRiX5oP"
      },
      "id": "qJo_XeRiX5oP",
      "execution_count": null,
      "outputs": []
    },
    {
      "cell_type": "code",
      "source": [
        "'''Compare the values of my_age and your_age using if … else.\n",
        "Who is older (me or you)? Use input to get the age as input.\n",
        "You can use a nested condition to print 'year' for 1 year difference in age, 'years' for bigger differences, and a custom text if my_age = your_age.'''\n",
        "# ask for both ages\n",
        "my_age = int(input(\"Enter my Age : \"))\n",
        "your_age = int(input(\"Enter your Age : \"))\n",
        "\n",
        "#check if both ages are the same\n",
        "if your_age == my_age:\n",
        "  print(\"We are same age.\")\n",
        "\n",
        "  #check if the user is young\n",
        "elif your_age < my_age:\n",
        "  print(\"your are younger then me .\")\n",
        "\n",
        "  #calculate the age difference and check if the difference is exactly 1 year\n",
        "elif your_age > my_age :\n",
        "  if your_age - my_age ==1:\n",
        "    print(\"You are\",your_age-my_age,\"Year older then me.\")\n",
        "  else:\n",
        "    print(\"You are\",your_age - my_age,\"Years older then me.\")\n"
      ],
      "metadata": {
        "id": "WtvlYfvMYCB5"
      },
      "id": "WtvlYfvMYCB5",
      "execution_count": null,
      "outputs": []
    },
    {
      "cell_type": "code",
      "source": [
        "#Write a code which gives grade to students according to theirs scores:\n",
        "80-100, A\n",
        "70-89, B\n",
        "60-69, C\n",
        "50-59, D\n",
        "0-49, F\n",
        "\n",
        "#Ask the user to input their marks\n",
        "mark1 =int(input(\"Enter your mark:  \"))\n",
        "\n",
        "#check if the mark is between 80 and 100\n",
        "if mark1>=80 and mark1 <=100:\n",
        "  print(\"The grade :A\")\n",
        "#check if the mark is between 70 and 79\n",
        "elif mark1 >= 70 and mark1<= 79:\n",
        "  print(\"The grade :B\")\n",
        "\n",
        "  #check if the mark is betwen 60 and 69\n",
        "elif mark1>=60  and mark1<= 69:\n",
        "  print(\"The grade :C\")\n",
        "\n",
        "  #check if the mark is between 50 and 59\n",
        "elif mark1 >= 50 and mark1 <=59:\n",
        "  print(\"The grade :D\")\n",
        "\n",
        "  # If the mark is below 50,assign grade F\n",
        "else:\n",
        "  print(\"F\")\n",
        "\n"
      ],
      "metadata": {
        "colab": {
          "base_uri": "https://localhost:8080/"
        },
        "id": "DPlRdaDJ4QM9",
        "outputId": "e0ad468b-3ea3-4e51-a6dd-eaa24cb67542"
      },
      "id": "DPlRdaDJ4QM9",
      "execution_count": null,
      "outputs": [
        {
          "output_type": "stream",
          "name": "stdout",
          "text": [
            "Enter your mark:  40\n",
            "F\n"
          ]
        }
      ]
    },
    {
      "cell_type": "code",
      "execution_count": null,
      "id": "44db2bd2-e191-43b1-a002-bdfcf7c4ef21",
      "metadata": {
        "id": "44db2bd2-e191-43b1-a002-bdfcf7c4ef21"
      },
      "outputs": [],
      "source": [
        "Check if the season is Autumn, Winter, Spring or Summer. If the user input is:\n",
        "September, October or November, the season is Autumn. December, January\n",
        "or February, the season is Winter. March, April or May, the season is Spring\n",
        "June, July or August, the season is Summer"
      ]
    },
    {
      "cell_type": "code",
      "execution_count": 5,
      "id": "ed89e8a6-a997-452e-8466-bb8bb1ae162b",
      "metadata": {
        "id": "ed89e8a6-a997-452e-8466-bb8bb1ae162b",
        "colab": {
          "base_uri": "https://localhost:8080/"
        },
        "outputId": "8c7476dd-1ff9-40fa-dba4-ecbaffeca174"
      },
      "outputs": [
        {
          "output_type": "stream",
          "name": "stdout",
          "text": [
            " Enter The Season :april\n",
            "It's Spring\n"
          ]
        }
      ],
      "source": [
        "# Ask the user to enter the month\n",
        "user =input(\" Enter The Season :\")\n",
        "\n",
        "# Check if the month is in the Autumn months\n",
        "if user == 'september' or user == 'october' or user == 'november' :\n",
        "  print(\"It's Autumn\")\n",
        "\n",
        "  # Check if the month is in the Winter months\n",
        "elif user == 'December' or user == 'january' or user == 'february':\n",
        "  print(\"It's Winter\")\n",
        "\n",
        "  #Check if the month is in the spring months\n",
        "elif user == 'march' or user == 'april' or user == 'may':\n",
        "  print(\"It's Spring\")\n",
        "\n",
        "  #Check if the month is in the Summer months\n",
        "elif user == 'june' or user == 'july' or user == 'august':\n",
        "  print(\"IT's Summer\")\n",
        "\n",
        "  # If none of the above conditions are met, the input is invalid\n",
        "else:\n",
        "  print(\"wrong\")\n",
        "\n",
        "\n"
      ]
    }
  ],
  "metadata": {
    "kernelspec": {
      "display_name": "Python 3 (ipykernel)",
      "language": "python",
      "name": "python3"
    },
    "language_info": {
      "codemirror_mode": {
        "name": "ipython",
        "version": 3
      },
      "file_extension": ".py",
      "mimetype": "text/x-python",
      "name": "python",
      "nbconvert_exporter": "python",
      "pygments_lexer": "ipython3",
      "version": "3.12.7"
    },
    "colab": {
      "provenance": [],
      "include_colab_link": true
    }
  },
  "nbformat": 4,
  "nbformat_minor": 5
}