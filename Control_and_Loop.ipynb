{
  "nbformat": 4,
  "nbformat_minor": 0,
  "metadata": {
    "colab": {
      "provenance": []
    },
    "kernelspec": {
      "name": "python3",
      "display_name": "Python 3"
    },
    "language_info": {
      "name": "python"
    }
  },
  "cells": [
    {
      "cell_type": "markdown",
      "source": [
        "# **Control and Loop**"
      ],
      "metadata": {
        "id": "Zx6W5tbB7Na2"
      }
    },
    {
      "cell_type": "code",
      "execution_count": null,
      "metadata": {
        "id": "9VtCqKEi7GhO"
      },
      "outputs": [],
      "source": [
        "#1. Iterate 10 to 0 using for loop, do the same using while loop\n",
        "for i in range(10,-1,-1):\n",
        "  print(i)\n"
      ]
    },
    {
      "cell_type": "code",
      "source": [
        "#2.Write a loop that makes seven calls to print(), so we get on the output the following triangle:\n",
        "  #\n",
        "  ##\n",
        "  ###\n",
        "  ####\n",
        "  #####\n",
        "  ######\n",
        "  #######\n",
        "for i in range(1,8):\n",
        "  print(\"#\"*i)"
      ],
      "metadata": {
        "id": "un5L56P87Q85"
      },
      "execution_count": null,
      "outputs": []
    },
    {
      "cell_type": "code",
      "source": [
        "#3.Print the following pattern:\n",
        "#0 x 0 = 0\n",
        "#1 x 1 = 1\n",
        "#2 x 2 = 4\n",
        "#3 x 3 = 9\n",
        "#4 x 4 = 16\n",
        "#5 x 5 = 25\n",
        "#6 x 6 = 36\n",
        "#7 x 7 = 49\n",
        "#8 x 8 = 64\n",
        "#9 x 9 = 81\n",
        "#10 x 10 = 100\n",
        "for i in range(11):\n",
        "  result=i*i\n",
        "  print(i,\"x\",i,\"=\",result)"
      ],
      "metadata": {
        "id": "sERgTkp07Qwk"
      },
      "execution_count": null,
      "outputs": []
    },
    {
      "cell_type": "code",
      "source": [
        "#4. Use for loop to iterate from 0 to 100 and print only even numbers\n",
        "for i in range(0,100):\n",
        "  if i %2==0:\n",
        "    print(i)\n",
        "    i+=1"
      ],
      "metadata": {
        "id": "UTxQh9eV7QkH"
      },
      "execution_count": null,
      "outputs": []
    },
    {
      "cell_type": "code",
      "source": [
        "#5. Use for loop to iterate from 0 to 100 and print only odd numbers\n",
        "for i in range(0,101):\n",
        "  if i % 2==1:\n",
        "    print(i)\n",
        "    i+=1"
      ],
      "metadata": {
        "id": "qzDo0Fan7QYa"
      },
      "execution_count": null,
      "outputs": []
    },
    {
      "cell_type": "code",
      "source": [
        "#6. Use for loop to iterate from 0 to 100 and print the sum of all numbers.\n",
        "# The sum of all numbers is 5050.\n",
        "\n",
        "sum=0\n",
        "for i in range(101):\n",
        "  sum+=i\n",
        "print(\"The sum of all number is \",sum)"
      ],
      "metadata": {
        "id": "DoA0GoTX7QMq"
      },
      "execution_count": null,
      "outputs": []
    },
    {
      "cell_type": "code",
      "source": [
        "#7.Use for loop to iterate from 0 to 100 and print the sum of all evens and the\n",
        "#sum of all odds.\n",
        "\n",
        "even=0\n",
        "odd=0\n",
        "for i in range(101):\n",
        "  if i % 2==0:\n",
        "    even +=i\n",
        "  else:\n",
        "    odd +=i\n",
        "print(\"sum of even\",even)\n",
        "print(\"sum of odd\",odd)"
      ],
      "metadata": {
        "id": "vt3RoRV07QBH"
      },
      "execution_count": null,
      "outputs": []
    },
    {
      "cell_type": "code",
      "source": [
        "#8. This is a fruit list, ['banana', 'orange', 'mango', 'lemon'] reverse the order using loop\n",
        "\n",
        "fruit=['banana', 'orange', 'mango', 'lemon']\n",
        "reversed_list=[]\n",
        "for i in range(len(fruit) - 1, -1, -1):\n",
        "  reversed_list.append(fruit[i])\n",
        "print(reversed_list)\n"
      ],
      "metadata": {
        "id": "raMOUu427PwI"
      },
      "execution_count": null,
      "outputs": []
    },
    {
      "cell_type": "code",
      "source": [
        "#9.Iterate through the list, ['Python', 'Numpy','Pandas','Django', 'Flask'] using a for\n",
        "#loop and print out the items.\n",
        "\n",
        "li=['Python', 'Numpy','Pandas','Django', 'Flask']\n",
        "for i in li:\n",
        "  print(i)\n"
      ],
      "metadata": {
        "id": "jsQbU6c77Pe7"
      },
      "execution_count": null,
      "outputs": []
    }
  ]
}