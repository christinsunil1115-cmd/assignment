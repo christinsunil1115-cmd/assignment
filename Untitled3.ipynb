{
  "nbformat": 4,
  "nbformat_minor": 0,
  "metadata": {
    "colab": {
      "provenance": [],
      "authorship_tag": "ABX9TyOitJD49EPx+OaVvRiq1y8b",
      "include_colab_link": true
    },
    "kernelspec": {
      "name": "python3",
      "display_name": "Python 3"
    },
    "language_info": {
      "name": "python"
    }
  },
  "cells": [
    {
      "cell_type": "markdown",
      "metadata": {
        "id": "view-in-github",
        "colab_type": "text"
      },
      "source": [
        "<a href=\"https://colab.research.google.com/github/christinsunil1115-cmd/assignment/blob/main/Untitled3.ipynb\" target=\"_parent\"><img src=\"https://colab.research.google.com/assets/colab-badge.svg\" alt=\"Open In Colab\"/></a>"
      ]
    },
    {
      "cell_type": "markdown",
      "source": [
        "Python Match"
      ],
      "metadata": {
        "id": "zaTlD8PsX15p"
      }
    },
    {
      "cell_type": "markdown",
      "source": [
        "The match statement is used to perform different actions based on different conditions"
      ],
      "metadata": {
        "id": "MFo6PJtgX7OU"
      }
    },
    {
      "cell_type": "markdown",
      "source": [
        "The Python Match **Statement**"
      ],
      "metadata": {
        "id": "T4eay2p6YVLs"
      }
    },
    {
      "cell_type": "markdown",
      "source": [
        "insstead of writing many if...else statements you can use the match statement.\n",
        "The match statement select one of many code blocks to be executed."
      ],
      "metadata": {
        "id": "JPTWka6MYbwu"
      }
    },
    {
      "cell_type": "markdown",
      "source": [
        "Syntax"
      ],
      "metadata": {
        "id": "vLBPx9Z3Y1Ih"
      }
    },
    {
      "cell_type": "code",
      "source": [
        "''' match expression:\n",
        "  case x:\n",
        "    code block\n",
        "  case y:\n",
        "    code block\n",
        "  case z:\n",
        "    code block'''"
      ],
      "metadata": {
        "id": "T4C3kUHdZeJG"
      },
      "execution_count": null,
      "outputs": []
    },
    {
      "cell_type": "code",
      "source": [
        "day = int(input(\"Enter The Date\"))\n",
        "match day:\n",
        "  case 1:\n",
        "    print(\"Monday\")\n",
        "  case 2:\n",
        "    print(\"Tuesday\")\n",
        "  case 3:\n",
        "    print(\"Wednesday\")\n",
        "  case 4:\n",
        "    print(\"Thursday\")\n",
        "  case 5:\n",
        "    print(\"Friday\")\n",
        "  case 6:\n",
        "    print(\"Saturday\")\n",
        "  case 7:\n",
        "    print(\"Sunday\")\n"
      ],
      "metadata": {
        "colab": {
          "base_uri": "https://localhost:8080/"
        },
        "id": "OAJlQyhHZsXK",
        "outputId": "ebadfa48-c513-4b75-d835-ba6ff5fa7f43"
      },
      "execution_count": 1,
      "outputs": [
        {
          "output_type": "stream",
          "name": "stdout",
          "text": [
            "Enter The Date2\n",
            "Tuesday\n"
          ]
        }
      ]
    },
    {
      "cell_type": "markdown",
      "source": [
        "Default Value"
      ],
      "metadata": {
        "id": "FGwejOg5bQKW"
      }
    },
    {
      "cell_type": "markdown",
      "source": [
        "use the underscord character_ as the last case value if you want a code block to execute when there are not other matches:"
      ],
      "metadata": {
        "id": "oZAhe58RbUxW"
      }
    },
    {
      "cell_type": "code",
      "source": [
        "day = 4\n",
        "match day:\n",
        "  case 6:\n",
        "    print(\"Today is Saturday\")\n",
        "  case 7:\n",
        "    print(\"Today is Sunday\")\n",
        "  case _:\n",
        "    print(\"Looking forward to the weekend\")"
      ],
      "metadata": {
        "colab": {
          "base_uri": "https://localhost:8080/"
        },
        "id": "8H9htm8QaQzq",
        "outputId": "fd2ea9dc-277d-4254-8919-9c35802b0b21"
      },
      "execution_count": 2,
      "outputs": [
        {
          "output_type": "stream",
          "name": "stdout",
          "text": [
            "Looking forward to the weekend\n"
          ]
        }
      ]
    },
    {
      "cell_type": "markdown",
      "source": [
        "Combine Value"
      ],
      "metadata": {
        "id": "AEJYUjVZcNAv"
      }
    },
    {
      "cell_type": "markdown",
      "source": [
        "Use the pipe character | as an or operator in the case evaluation to check for more then one value match in one case:"
      ],
      "metadata": {
        "id": "8YdjBcZ2cUgO"
      }
    },
    {
      "cell_type": "code",
      "source": [
        "day = 4\n",
        "match day:\n",
        "  case 1|2|3|4|5:\n",
        "    print(\"Weekend\")\n",
        "  case 6|7:\n",
        "    print(\"I love weeends\")"
      ],
      "metadata": {
        "colab": {
          "base_uri": "https://localhost:8080/"
        },
        "id": "JjM1N1lkcr5V",
        "outputId": "5f31495e-1921-471c-8f0f-b68012f84659"
      },
      "execution_count": 4,
      "outputs": [
        {
          "output_type": "stream",
          "name": "stdout",
          "text": [
            "Weekend\n"
          ]
        }
      ]
    },
    {
      "cell_type": "markdown",
      "source": [
        "If Statements as Guards"
      ],
      "metadata": {
        "id": "FhYuSZbGdQs7"
      }
    },
    {
      "cell_type": "markdown",
      "source": [
        "you can add if statement in the case evaluation as an extra condition-check"
      ],
      "metadata": {
        "id": "EIjU_VWgdXne"
      }
    },
    {
      "cell_type": "code",
      "source": [
        "month = 5\n",
        "day = 4\n",
        "match day:\n",
        "    case 1 | 2| 3| 4| 5 if month == 4:\n",
        "      print(\"A weekday in April\")\n",
        "    case 1 | 2 | 3 | 4 | 5 if month == 5:\n",
        "      print(\"A weekday in may\")\n",
        "    case _:\n",
        "      print(\"No match\")"
      ],
      "metadata": {
        "colab": {
          "base_uri": "https://localhost:8080/"
        },
        "id": "-TKbyNO3dkhA",
        "outputId": "2a9e9d77-4395-4b3c-8c27-f015dd069152"
      },
      "execution_count": 6,
      "outputs": [
        {
          "output_type": "stream",
          "name": "stdout",
          "text": [
            "A weekday in may\n"
          ]
        }
      ]
    }
  ]
}