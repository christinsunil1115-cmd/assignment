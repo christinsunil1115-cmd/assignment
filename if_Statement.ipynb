{
  "nbformat": 4,
  "nbformat_minor": 0,
  "metadata": {
    "colab": {
      "provenance": [],
      "authorship_tag": "ABX9TyMIFC11tcAidDgUHQo3t+bs",
      "include_colab_link": true
    },
    "kernelspec": {
      "name": "python3",
      "display_name": "Python 3"
    },
    "language_info": {
      "name": "python"
    }
  },
  "cells": [
    {
      "cell_type": "markdown",
      "metadata": {
        "id": "view-in-github",
        "colab_type": "text"
      },
      "source": [
        "<a href=\"https://colab.research.google.com/github/christinsunil1115-cmd/assignment/blob/main/if_Statement.ipynb\" target=\"_parent\"><img src=\"https://colab.research.google.com/assets/colab-badge.svg\" alt=\"Open In Colab\"/></a>"
      ]
    },
    {
      "cell_type": "markdown",
      "source": [
        "If staments"
      ],
      "metadata": {
        "id": "DDsIGtq9GBhz"
      }
    },
    {
      "cell_type": "code",
      "execution_count": null,
      "metadata": {
        "id": "fdqpVFzAB9Qo"
      },
      "outputs": [],
      "source": [
        "# Assign value 33 to variable a\n",
        "a = 33\n",
        "\n",
        "# Assign value 200 to variable b\n",
        "b = 200\n",
        "\n",
        "# Check if b is greater then a\n",
        "if b > a:\n",
        "\n",
        "  # If the condition is true, print the message\n",
        "  print(\"b is greater than a \")"
      ]
    },
    {
      "cell_type": "code",
      "source": [
        "# assign value 15 to variable number\n",
        "number = 15\n",
        "\n",
        "# check if number is greater then 0\n",
        "if number > 0:\n",
        "\n",
        "  #If the condition is true, print the masssage\n",
        "  print(\"The number is positive \")\n"
      ],
      "metadata": {
        "id": "WIEH2SLmDnF9"
      },
      "execution_count": null,
      "outputs": []
    },
    {
      "cell_type": "markdown",
      "source": [
        "Multiple Statements in If Block\n"
      ],
      "metadata": {
        "id": "6znKbQ1CEknI"
      }
    },
    {
      "cell_type": "code",
      "source": [
        "# Assign value 20 to variable age\n",
        "age = 20\n",
        "\n",
        "#Check if age  18 is qeual to or greater\n",
        "if age >= 18:\n",
        "\n",
        "  #If the condition is true, print the massage\n",
        "  print(\"you are an adult\")\n",
        "  print(\"you can vote\")\n",
        "  print(\"you have full legal rights\")"
      ],
      "metadata": {
        "id": "fIueaWZJErli"
      },
      "execution_count": null,
      "outputs": []
    },
    {
      "cell_type": "markdown",
      "source": [
        "Boolean variable can be used directly in if statements without comparison operators"
      ],
      "metadata": {
        "id": "s8kvwznSHIAb"
      }
    },
    {
      "cell_type": "code",
      "source": [
        "# assigning login status\n",
        "is_logged_in = True\n",
        "\n",
        "#Checking if the user is logged in\n",
        "if is_logged_in:\n",
        "\n",
        "  # If is_logged_in is True, this line will run\n",
        "  print(\"Welcome back\")"
      ],
      "metadata": {
        "id": "ndYYVUaTGJqL"
      },
      "execution_count": null,
      "outputs": []
    },
    {
      "cell_type": "markdown",
      "source": [
        "The Elif KeyWord"
      ],
      "metadata": {
        "id": "csSD6T8HLFO1"
      }
    },
    {
      "cell_type": "code",
      "source": [
        "# Assign value 33 to variable a\n",
        "a = 33\n",
        "\n",
        "# Assign value 33 to variable b\n",
        "b = 33\n",
        "\n",
        "# Check if b greater then a\n",
        "if b > a:\n",
        "\n",
        "  #If condition is true, print the message\n",
        "  print(\"b is greater than a \")\n",
        "\n",
        "  #check a equal to b\n",
        "elif a == b:\n",
        "\n",
        "  #if condition is true , print the massage\n",
        "  print(\"a and b are equal\")"
      ],
      "metadata": {
        "id": "oDM8Rpk9LJjf"
      },
      "execution_count": null,
      "outputs": []
    },
    {
      "cell_type": "markdown",
      "source": [
        "Multiple Elif Statements\n"
      ],
      "metadata": {
        "id": "-Eq9aapKSg_c"
      }
    },
    {
      "cell_type": "code",
      "source": [
        "# Asking the user to enter their score and converting it to an interger\n",
        "score =int(input(\"Enter your score: \"))\n",
        "\n",
        "#Checking the score and printing the corresponding grade\n",
        "if score >= 90:\n",
        "  print(\"Grade : A\")  # Score 90 and above\n",
        "elif score >= 80:\n",
        "  print(\"Grade : B\") # Score 80 to 89\n",
        "elif score >= 70:\n",
        "  print(\"Grade : C\") # score 70 to 79\n",
        "elif score >= 60:\n",
        "  print(\"Grade : D \") # Score 60 to 69\n",
        "elif score >= 50:\n",
        "  print(\"Grade : E\") # score 50 to 59\n",
        "elif score >= 40:\n",
        "  print(\"Grade : F\")   # score 40 to 49\n",
        "\n"
      ],
      "metadata": {
        "id": "XrQNJQ3gSsK1"
      },
      "execution_count": null,
      "outputs": []
    },
    {
      "cell_type": "markdown",
      "source": [
        "Categorizing age Groups"
      ],
      "metadata": {
        "id": "CmPv0WO8VWBA"
      }
    },
    {
      "cell_type": "code",
      "source": [
        "# Ask the user to enter thier age and convert input into an integer\n",
        "Age = int(input(\"Enter your age : \"))\n",
        "\n",
        "# Check if age is less then 13\n",
        "if age < 13:\n",
        "  # if true, user is a child\n",
        "  print(\"You are a child \")\n",
        "\n",
        "  #check if age is between 13 and 19\n",
        "elif age < 20:\n",
        "  print(\"You are a teenager\")\n",
        "\n",
        "  #check if age is between 20 and 64\n",
        "elif age < 65:\n",
        "  print(\"You are an adult \")\n",
        "\n",
        "  #If none of the above conditions are true\n",
        "elif age >= 65:\n",
        "  print(\"You are a senior\")\n"
      ],
      "metadata": {
        "id": "YTVx8w0pVba-"
      },
      "execution_count": null,
      "outputs": []
    },
    {
      "cell_type": "markdown",
      "source": [
        "Day of the week Checker"
      ],
      "metadata": {
        "id": "dEeC3OnUATqY"
      }
    },
    {
      "cell_type": "code",
      "source": [
        "# Store the day number in variable 'day'\n",
        "day =3\n",
        "\n",
        "# check the value of 'day' and print the corresponding weekday\n",
        "if day == 1:\n",
        "  print(\"Monday\")\n",
        "elif day == 2:\n",
        "  print(\"Tuesday\")\n",
        "elif day == 3:\n",
        "  print(\"Wednesday\")\n",
        "elif day == 4:\n",
        "  print(\"Thurday\")\n",
        "elif day == 5:\n",
        "  print(\"Friday\")\n",
        "elif day == 6:\n",
        "  print(\"Saturday\")\n",
        "elif day == 7:\n",
        "  print(\"Sunday\")\n"
      ],
      "metadata": {
        "id": "QupInI5IANsw"
      },
      "execution_count": null,
      "outputs": []
    },
    {
      "cell_type": "markdown",
      "source": [
        "The Else Keyword"
      ],
      "metadata": {
        "id": "M1_CxbU3DffD"
      }
    },
    {
      "cell_type": "code",
      "source": [
        "#Assign value  200 to variable a\n",
        "a = 200\n",
        "\n",
        "# Assign value 33 to variable b\n",
        "b= 33\n",
        "\n",
        "#check if b greater then a\n",
        "if b > a:\n",
        "  print(\"b is greater then a\")\n",
        "\n",
        "  #check if a equal to b\n",
        "elif a == b:\n",
        "  print(\"a and b are equal\")\n",
        "\n",
        "  #if the if,elif condition are false print else\n",
        "else:\n",
        "  print(\"a is graeter then b\")"
      ],
      "metadata": {
        "id": "VhkzjRogDjsv"
      },
      "execution_count": null,
      "outputs": []
    },
    {
      "cell_type": "markdown",
      "source": [
        "Else Without Elif"
      ],
      "metadata": {
        "id": "uxf3iidBF_Eu"
      }
    },
    {
      "cell_type": "code",
      "source": [
        "# Assign value 200 to variable a\n",
        "a = 200\n",
        "\n",
        "#Assign value 33 to variable b\n",
        "b = 33\n",
        "\n",
        "#Check if b greater then a\n",
        "if b > a:\n",
        "  print(\"b is greater then a\")\n",
        "\n",
        "  #if the if condition are false print else\n",
        "else:\n",
        "  print(\"b is not graeter then a \")\n"
      ],
      "metadata": {
        "id": "XFtIU1HeGDEU"
      },
      "execution_count": null,
      "outputs": []
    },
    {
      "cell_type": "markdown",
      "source": [
        "Checking even or odd numbers"
      ],
      "metadata": {
        "id": "RjKbdwE-J72X"
      }
    },
    {
      "cell_type": "code",
      "source": [
        "# Ask to user Enter thier number and convert intput into integer\n",
        "number = int(input(\"Enter Number : \"))\n",
        "\n",
        "#Check if the number is divisible by 2\n",
        "if number % 2 == 0:\n",
        "  print(\"The number is even :\",number) # If remainder is 0 even number\n",
        "else:\n",
        "  print(\"The number is odd : \",number)  # otherwise odd number"
      ],
      "metadata": {
        "id": "kqFFVH8-KF3b"
      },
      "execution_count": null,
      "outputs": []
    },
    {
      "cell_type": "markdown",
      "source": [
        "Complete if,Elif,else chain"
      ],
      "metadata": {
        "id": "cG932ZxcMblc"
      }
    },
    {
      "cell_type": "code",
      "source": [
        "# if,elif,else to create a comprehensive decision making structure\n",
        "\n",
        "#Assign value 22 to variable temperture\n",
        "temperture =22\n",
        "\n",
        "#Check if the temperture is greater then 30\n",
        "if temperture > 30:\n",
        "  print(\"It's hot outside\")\n",
        "\n",
        "  #Check if the temperture is greater then 20\n",
        "elif temperture > 20:\n",
        "  print(\"It's Warm outside\")\n",
        "\n",
        "  #Check if the temperture is greater then 10\n",
        "elif temperture > 10:\n",
        "  print(\"It's cool outside\")\n",
        "else:\n",
        "  print(\"It's cold outside\")  #otherwise print else statement"
      ],
      "metadata": {
        "id": "w5WXRXyyMi34"
      },
      "execution_count": null,
      "outputs": []
    },
    {
      "cell_type": "markdown",
      "source": [
        "Else as Fallback"
      ],
      "metadata": {
        "id": "0-G4jitHPPIk"
      }
    },
    {
      "cell_type": "code",
      "source": [
        "# Validating user input\n",
        "\n",
        "# Assiging a username\n",
        "username = \"Emil\"\n",
        "\n",
        "#Checking if the username is not empty\n",
        "if len(username) > 0:\n",
        "  print(f\"Welcome, {username}!\")\n",
        "else:\n",
        "  print(\"Error : Username cannot be empty\")"
      ],
      "metadata": {
        "id": "LxlwKNY3PSTi"
      },
      "execution_count": null,
      "outputs": []
    },
    {
      "cell_type": "markdown",
      "source": [
        "Python shorthand If"
      ],
      "metadata": {
        "id": "DUp423AhQXPo"
      }
    },
    {
      "cell_type": "code",
      "source": [
        "# if you have only one statement to execute, you can put it on the same line as the if statement\n",
        "\n",
        "#one line if statement\n",
        "a = 5\n",
        "b = 2\n",
        "if a > b: print(\"a is greater then b\")\n",
        "\n",
        "# you still need the colon : after the condition"
      ],
      "metadata": {
        "id": "VODZdkLcPwM9"
      },
      "execution_count": null,
      "outputs": []
    },
    {
      "cell_type": "markdown",
      "source": [
        "short hand if..else"
      ],
      "metadata": {
        "id": "ZOEkxtAzRaKe"
      }
    },
    {
      "cell_type": "code",
      "source": [
        "# one line if/else that prints a value\n",
        "\n",
        "a = 2\n",
        "b = 330\n",
        "print(\"A\") if a > b else print(\"B\")\n",
        "\n",
        "#This is called a conditional expression (sometimes known as a \"ternary operator\")"
      ],
      "metadata": {
        "id": "KPncVmt5Rel2"
      },
      "execution_count": null,
      "outputs": []
    },
    {
      "cell_type": "markdown",
      "source": [
        "Assign a value with if..else"
      ],
      "metadata": {
        "id": "qBtJX4TGSjRq"
      }
    },
    {
      "cell_type": "code",
      "source": [
        "# you can also use a one line if/else to choose a value and assign it to a variable\n",
        "\n",
        "a = 10\n",
        "b = 20\n",
        "bigger = a if a > b else b\n",
        "print(\"Bigger is\",bigger)\n",
        "\n",
        "# variable = value_if_true if condition else value_if_false"
      ],
      "metadata": {
        "id": "oxZaoQggSqOj",
        "colab": {
          "base_uri": "https://localhost:8080/"
        },
        "outputId": "3e9efe57-67b7-4631-f71a-41ec971d4ade"
      },
      "execution_count": 1,
      "outputs": [
        {
          "output_type": "stream",
          "name": "stdout",
          "text": [
            "Bigger is 20\n"
          ]
        }
      ]
    },
    {
      "cell_type": "markdown",
      "source": [
        "Multiple Condition on One Line"
      ],
      "metadata": {
        "id": "0dP3l2oJUTEs"
      }
    },
    {
      "cell_type": "code",
      "source": [
        "# You can chain condition expressions, but keep it short so it stays readable\n",
        "#one line three outcomes\n",
        "\n",
        "a = 330\n",
        "b = 330\n",
        "print(\"A\") if a > b else print(\"=\") if a == b else print(\"B\")"
      ],
      "metadata": {
        "id": "wR7Pupb_UhBz",
        "colab": {
          "base_uri": "https://localhost:8080/"
        },
        "outputId": "11868f94-f30b-4b05-bccc-37e4d2133924"
      },
      "execution_count": 2,
      "outputs": [
        {
          "output_type": "stream",
          "name": "stdout",
          "text": [
            "=\n"
          ]
        }
      ]
    },
    {
      "cell_type": "code",
      "source": [
        "#Finding the maximum of two numbers\n",
        "x = 15\n",
        "y = 20\n",
        "max_value = x if x > y else y\n",
        "print(\"Maximum value : \", max_value)"
      ],
      "metadata": {
        "id": "E3kJMwl5VrW-",
        "colab": {
          "base_uri": "https://localhost:8080/"
        },
        "outputId": "93eceb31-583b-4a02-a559-bc7a95d9cd9c"
      },
      "execution_count": 3,
      "outputs": [
        {
          "output_type": "stream",
          "name": "stdout",
          "text": [
            "Maximum value :  20\n"
          ]
        }
      ]
    },
    {
      "cell_type": "code",
      "source": [
        "# setting a default value\n",
        "username =\"\"\n",
        "\n",
        "display_name = username if username else \"Guest\"\n",
        "print(\"Welcome\", display_name)"
      ],
      "metadata": {
        "id": "s2fBxVyTW2VP",
        "colab": {
          "base_uri": "https://localhost:8080/"
        },
        "outputId": "2873cc4c-a925-47d4-bd31-e41d31a853c6"
      },
      "execution_count": 4,
      "outputs": [
        {
          "output_type": "stream",
          "name": "stdout",
          "text": [
            "Welcome Guest\n"
          ]
        }
      ]
    },
    {
      "cell_type": "markdown",
      "source": [
        "if Statement and Operator"
      ],
      "metadata": {
        "id": "KMc6wZVClTHU"
      }
    },
    {
      "cell_type": "code",
      "source": [
        "#operator(and)\n",
        "\n",
        "\n",
        "# Assign value 200 to variable a\n",
        "a = 200\n",
        "\n",
        "#Assign value 33 to variable b\n",
        "b = 33\n",
        "\n",
        "#assign value 500 to variable c\n",
        "c = 500\n",
        "\n",
        "#Check if both conditions are true\n",
        "if a > b and c > a:\n",
        "  #This will run only if both condition are True\n",
        "  print(\"Both conditions are True\")\n",
        "\n",
        "  #nBoth condition must be true for the entire expression to be true"
      ],
      "metadata": {
        "id": "482doH1GlguA",
        "colab": {
          "base_uri": "https://localhost:8080/"
        },
        "outputId": "340566bc-8ffb-42d9-8b2a-646be79b5996"
      },
      "execution_count": 5,
      "outputs": [
        {
          "output_type": "stream",
          "name": "stdout",
          "text": [
            "Both conditions are True\n"
          ]
        }
      ]
    },
    {
      "cell_type": "code",
      "source": [
        "# Operator(or)\n",
        "#Test if a is greater then b , OR if a is greater then c\n",
        "\n",
        "#Assign value 200 to variable a\n",
        "a = 200\n",
        "\n",
        "#Assign value 33 to variable b\n",
        "b = 33\n",
        "\n",
        "#Assign value 500 to variable c\n",
        "c = 500\n",
        "\n",
        "#Check if at least one condition must be true\n",
        "if a > b or a > c:\n",
        "  #This will run only if one condition must be true\n",
        "  print(\"At least one of the condition is True\")\n",
        "\n",
        "\n",
        "  #At least one condition must be true for the entire expression to be true"
      ],
      "metadata": {
        "id": "qQjdqCn_nAek",
        "colab": {
          "base_uri": "https://localhost:8080/"
        },
        "outputId": "a87b81a6-0966-417d-da94-29208c9d1601"
      },
      "execution_count": 6,
      "outputs": [
        {
          "output_type": "stream",
          "name": "stdout",
          "text": [
            "At least one of the condition is True\n"
          ]
        }
      ]
    },
    {
      "cell_type": "code",
      "source": [
        "#Operator(not)\n",
        "#not is used to reverse the result of the conditional statement\n",
        "\n",
        "#Assign value 33 to variable a\n",
        "a= 33\n",
        "\n",
        "#Assign value 200 to variable b\n",
        "b = 200\n",
        "\n",
        "#This will run reverse the result\n",
        "if not a > b:\n",
        "  print(\"A is Not greater then b \")\n"
      ],
      "metadata": {
        "id": "2GC09MBromXm",
        "colab": {
          "base_uri": "https://localhost:8080/"
        },
        "outputId": "4a3b33d5-a490-4a3d-8769-ca3d9cab43a9"
      },
      "execution_count": 7,
      "outputs": [
        {
          "output_type": "stream",
          "name": "stdout",
          "text": [
            "A is Not greater then b \n"
          ]
        }
      ]
    },
    {
      "cell_type": "markdown",
      "source": [
        "Combining multiple operators"
      ],
      "metadata": {
        "id": "As9JELggqP3f"
      }
    },
    {
      "cell_type": "code",
      "source": [
        "''' you can combine multiple logical operators in a single expression. python evaluates not\n",
        " first then,and ,then or '''\n",
        "\n",
        "age = 25\n",
        "is_student = False\n",
        "has_discount_code = True\n",
        "\n",
        "if (age < 18 or age > 65) and not is_student or has_discount_code:\n",
        "    print(\"Discount applies\")"
      ],
      "metadata": {
        "id": "XuvdQs2xqX2F",
        "colab": {
          "base_uri": "https://localhost:8080/"
        },
        "outputId": "9b98db4c-8da7-4514-df4e-9bd5d542e059"
      },
      "execution_count": 10,
      "outputs": [
        {
          "output_type": "stream",
          "name": "stdout",
          "text": [
            "Discount applies\n"
          ]
        }
      ]
    },
    {
      "cell_type": "markdown",
      "source": [
        "Using Parentheses For Clarity"
      ],
      "metadata": {
        "id": "Cjf8MJeBiIOK"
      }
    },
    {
      "cell_type": "code",
      "source": [
        "temperature = 25\n",
        "is_raining = False\n",
        "is_weekend = True\n",
        "\n",
        "if (temperature > 20 and not is_raining) or is_weekend:\n",
        "  print(\"Great day for outdoor activities\")\n"
      ],
      "metadata": {
        "id": "2Eh9sE0aiAeQ",
        "colab": {
          "base_uri": "https://localhost:8080/"
        },
        "outputId": "4d5564c5-ee74-49b9-938e-656d231f94f9"
      },
      "execution_count": 11,
      "outputs": [
        {
          "output_type": "stream",
          "name": "stdout",
          "text": [
            "Great day for outdoor activities\n"
          ]
        }
      ]
    },
    {
      "cell_type": "code",
      "source": [
        "username = \"christin\"\n",
        "password = \"secret123\"\n",
        "is_verified = True\n",
        "\n",
        "if username and password and is_verified:\n",
        "  print(\"Login Successful\")\n",
        "else:\n",
        "  print(\"Login failed\")"
      ],
      "metadata": {
        "id": "tR873DyKmN4q",
        "colab": {
          "base_uri": "https://localhost:8080/"
        },
        "outputId": "9cf6bdf4-7b1f-4fec-ffbe-df60b73e550f"
      },
      "execution_count": 12,
      "outputs": [
        {
          "output_type": "stream",
          "name": "stdout",
          "text": [
            "Login Successful\n"
          ]
        }
      ]
    },
    {
      "cell_type": "markdown",
      "source": [
        "Nested if Statements"
      ],
      "metadata": {
        "id": "MlGF4enWogIl"
      }
    },
    {
      "cell_type": "code",
      "source": [
        "x = 41\n",
        "\n",
        "if x > 10:\n",
        "  print(\"Above ten,\")\n",
        "  if x > 20:\n",
        "    print(\"and also above 20\")\n",
        "  else:\n",
        "    print(\"but not above 20\")\n",
        "\n",
        "# In this example the inner if statement only runs if the outer condition (x > 10) is true\n",
        "\n",
        "\n"
      ],
      "metadata": {
        "id": "kz_euA7tnLlF",
        "colab": {
          "base_uri": "https://localhost:8080/"
        },
        "outputId": "d50e4e69-8997-4293-fa91-f2d68fa9648d"
      },
      "execution_count": 13,
      "outputs": [
        {
          "output_type": "stream",
          "name": "stdout",
          "text": [
            "Above ten,\n",
            "and also above 20\n"
          ]
        }
      ]
    },
    {
      "cell_type": "code",
      "source": [
        "# checking multiple condition with nesting\n",
        "\n",
        "age = 25\n",
        "has_license = True\n",
        "\n",
        "if age >= 18:\n",
        "  if has_license:\n",
        "    print(\"You can drive \")\n",
        "else:\n",
        "    print(\"You need a license\")\n"
      ],
      "metadata": {
        "id": "0Sfw0LBWpTH9",
        "colab": {
          "base_uri": "https://localhost:8080/"
        },
        "outputId": "df5647bf-1145-4e39-b50e-c570bf848b08"
      },
      "execution_count": 17,
      "outputs": [
        {
          "output_type": "stream",
          "name": "stdout",
          "text": [
            "You can drive \n"
          ]
        }
      ]
    },
    {
      "cell_type": "markdown",
      "source": [
        "Nested If vs Logical Operators"
      ],
      "metadata": {
        "id": "sDY2I8lCrI8F"
      }
    },
    {
      "cell_type": "code",
      "source": [
        "# Sometimes nested if statement can be simplified using logical operators like and .the choice depends on your logic\n",
        "\n",
        "temperature = 25\n",
        "is_sunny = True\n",
        "\n",
        "if temperature > 20:\n",
        "  if is_sunny:\n",
        "    print(\"perfect beach weather\")"
      ],
      "metadata": {
        "id": "0YZzqIddrF_3",
        "colab": {
          "base_uri": "https://localhost:8080/"
        },
        "outputId": "c9cacb67-502a-45f8-d0a0-2e1989a7ffab"
      },
      "execution_count": 22,
      "outputs": [
        {
          "output_type": "stream",
          "name": "stdout",
          "text": [
            "perfect beach weather\n"
          ]
        }
      ]
    },
    {
      "cell_type": "code",
      "source": [
        "# could also be written with and:\n",
        "temperature = 25\n",
        "is_sunny = True\n",
        "\n",
        "if temperature > 20 and is_sunny:\n",
        "  print(\"Perfect beach weather\")"
      ],
      "metadata": {
        "id": "4MDY6UANr7ai",
        "colab": {
          "base_uri": "https://localhost:8080/"
        },
        "outputId": "b4d95d77-5789-4c29-d75e-1337dd1e15ad"
      },
      "execution_count": 23,
      "outputs": [
        {
          "output_type": "stream",
          "name": "stdout",
          "text": [
            "Perfect beach weather\n"
          ]
        }
      ]
    },
    {
      "cell_type": "code",
      "source": [
        "# Login Validation with nested check\n",
        "\n",
        "username = 'emil'\n",
        "password = 'python123'\n",
        "is_active = True\n",
        "\n",
        "\n",
        "if username:\n",
        "  if password:\n",
        "    if is_active:\n",
        "      print(\"Login Successful\")\n",
        "    else:\n",
        "      print(\"Account is not active\")\n",
        "  else:\n",
        "    print(\"Password required\")\n",
        "else:\n",
        "  print(\"username required\")"
      ],
      "metadata": {
        "id": "cpsCAYz1sK9U",
        "colab": {
          "base_uri": "https://localhost:8080/"
        },
        "outputId": "e6034ee3-82c7-46f4-8429-33d8cd23e844"
      },
      "execution_count": 24,
      "outputs": [
        {
          "output_type": "stream",
          "name": "stdout",
          "text": [
            "Login Successful\n"
          ]
        }
      ]
    },
    {
      "cell_type": "code",
      "source": [
        "#Grade calculation with nested logic:\n",
        "\n",
        "score = 92\n",
        "extra_credit = 5\n",
        "\n",
        "if score >= 90:\n",
        "  if extra_credit > 0:\n",
        "    print(\"A+ grade\")\n",
        "  else:\n",
        "    print(\"A grade\")\n",
        "elif score >= 80:\n",
        "  print(\"B grade\")\n",
        "else:\n",
        "  print(\"C grade or below\")"
      ],
      "metadata": {
        "id": "Xr7tl4Oysx7B"
      },
      "execution_count": null,
      "outputs": []
    },
    {
      "cell_type": "markdown",
      "source": [
        "python Pass Statement"
      ],
      "metadata": {
        "id": "tFaZw_9pty2h"
      }
    },
    {
      "cell_type": "code",
      "source": [
        "#if statement cannot be empty, but if you for some reason have an if statement with no content,put in the pass statement to avoid getting an error\n",
        "a = 33\n",
        "b = 200\n",
        "\n",
        "if b > a:\n",
        "\n",
        "  # The pass statement is a null operation-nothing happens when it executes.it serves as a palceholder"
      ],
      "metadata": {
        "id": "n5oyekk4u0jf"
      },
      "execution_count": null,
      "outputs": []
    },
    {
      "cell_type": "markdown",
      "source": [
        "Pass in **Developmeent**"
      ],
      "metadata": {
        "id": "F2GPVbm3vi5g"
      }
    },
    {
      "cell_type": "code",
      "source": [
        "# This works correctly with pass\n",
        "\n",
        "score = 85\n",
        "\n",
        "if score > 90:\n",
        "  pass # This is excellent\n",
        "print(\"Score Processed\")"
      ],
      "metadata": {
        "id": "4kFzCCgpwElW",
        "colab": {
          "base_uri": "https://localhost:8080/"
        },
        "outputId": "524e9ab2-ded6-4775-c4d5-cc27bfbb49ae"
      },
      "execution_count": 19,
      "outputs": [
        {
          "output_type": "stream",
          "name": "stdout",
          "text": [
            "Score Processed\n"
          ]
        }
      ]
    },
    {
      "cell_type": "markdown",
      "source": [
        "Pass with Multiple Conditions"
      ],
      "metadata": {
        "id": "kDPbrvQnwYbp"
      }
    },
    {
      "cell_type": "code",
      "source": [
        "#You can use pass in any branch of an if_elif-else statement\n",
        "#Using pass in different branches\n",
        "\n",
        "value = 50\n",
        "if value < 0:\n",
        "  print(\"Negative value\")\n",
        "elif value == 0:\n",
        "  pass # Zero case - no action needed\n",
        "else:\n",
        "  print(\"Positive value\")"
      ],
      "metadata": {
        "id": "nnr2XqySwdsP",
        "colab": {
          "base_uri": "https://localhost:8080/"
        },
        "outputId": "5fe51403-15ff-496b-ccfc-b64d33c94a69"
      },
      "execution_count": 20,
      "outputs": [
        {
          "output_type": "stream",
          "name": "stdout",
          "text": [
            "Positive value\n"
          ]
        }
      ]
    },
    {
      "cell_type": "markdown",
      "source": [
        "Pass in Other Contexts"
      ],
      "metadata": {
        "id": "zM83zkLgxEgL"
      }
    },
    {
      "cell_type": "code",
      "source": [
        "# While we focus on pass with if Statement here, it's also commonly used with loops,functions,and classes\n",
        "#Using pass with functions\n",
        "\n",
        "def calculate_discount(price):\n",
        "  pass # TODO : Implement discount logic\n",
        "\n",
        "  # Function exists but doesn't do anything yet"
      ],
      "metadata": {
        "id": "sYn3S9CkxKUo"
      },
      "execution_count": 21,
      "outputs": []
    }
  ]
}