{
  "cells": [
    {
      "cell_type": "markdown",
      "metadata": {
        "id": "view-in-github",
        "colab_type": "text"
      },
      "source": [
        "<a href=\"https://colab.research.google.com/github/christinsunil1115-cmd/assignment/blob/main/PythonFundas.ipynb\" target=\"_parent\"><img src=\"https://colab.research.google.com/assets/colab-badge.svg\" alt=\"Open In Colab\"/></a>"
      ]
    },
    {
      "cell_type": "markdown",
      "id": "68bb4f03-1302-4d14-856e-06b8540de4d3",
      "metadata": {
        "id": "68bb4f03-1302-4d14-856e-06b8540de4d3"
      },
      "source": [
        "## Python Fundamentals"
      ]
    },
    {
      "cell_type": "code",
      "execution_count": null,
      "id": "166b388e-c8f3-4b70-8ad1-00ce0ea25bb3",
      "metadata": {
        "id": "166b388e-c8f3-4b70-8ad1-00ce0ea25bb3"
      },
      "outputs": [],
      "source": [
        " # Single line comment\n",
        "val1  = 10\n",
        "val1 = 10"
      ]
    },
    {
      "cell_type": "code",
      "execution_count": null,
      "id": "53620e7c-2642-45bd-a721-dd16ec296c94",
      "metadata": {
        "id": "53620e7c-2642-45bd-a721-dd16ec296c94"
      },
      "outputs": [],
      "source": [
        "# Multiple\n",
        "# line\n",
        "# comment\n",
        "val1  = 10"
      ]
    },
    {
      "cell_type": "code",
      "execution_count": null,
      "id": "adb15c90-cb2e-435c-816a-b7fd205c950f",
      "metadata": {
        "id": "adb15c90-cb2e-435c-816a-b7fd205c950f"
      },
      "outputs": [],
      "source": [
        "\"\"\"\n",
        " Multiple\n",
        "line\n",
        "comment\n",
        "\"\"\"\n",
        "val1  = 10"
      ]
    },
    {
      "cell_type": "markdown",
      "id": "32c6b780-68e1-4268-9341-d36ae7d58bdf",
      "metadata": {
        "id": "32c6b780-68e1-4268-9341-d36ae7d58bdf"
      },
      "source": [
        "Python Indentation"
      ]
    },
    {
      "cell_type": "code",
      "execution_count": null,
      "id": "fd054f35-5621-4828-8719-f56f4cc95ea2",
      "metadata": {
        "id": "fd054f35-5621-4828-8719-f56f4cc95ea2",
        "outputId": "a7464c64-844b-4e9b-a346-e91a89bfc414",
        "colab": {
          "base_uri": "https://localhost:8080/"
        }
      },
      "outputs": [
        {
          "output_type": "stream",
          "name": "stdout",
          "text": [
            "h\n",
            "hello world\n"
          ]
        }
      ],
      "source": [
        " print(\"h\")\n",
        " print('hello world')\n"
      ]
    },
    {
      "cell_type": "code",
      "execution_count": null,
      "id": "iXx14GOscCTJ",
      "metadata": {
        "colab": {
          "base_uri": "https://localhost:8080/"
        },
        "id": "iXx14GOscCTJ",
        "outputId": "e7177ed3-87f3-454e-8376-3b6521a35900"
      },
      "outputs": [
        {
          "name": "stdout",
          "output_type": "stream",
          "text": [
            "Python 3.12.11\n"
          ]
        }
      ],
      "source": [
        "!python --version"
      ]
    },
    {
      "cell_type": "code",
      "source": [],
      "metadata": {
        "id": "_0sIqkVfggiq"
      },
      "id": "_0sIqkVfggiq",
      "execution_count": null,
      "outputs": []
    },
    {
      "cell_type": "code",
      "execution_count": null,
      "id": "b0a7b8c5-a2d7-49f5-aeac-32c372260ee2",
      "metadata": {
        "id": "b0a7b8c5-a2d7-49f5-aeac-32c372260ee2",
        "outputId": "c0cf9d01-e7e3-4285-807e-e9ad70f6548f",
        "colab": {
          "base_uri": "https://localhost:8080/"
        }
      },
      "outputs": [
        {
          "output_type": "stream",
          "name": "stdout",
          "text": [
            "10\n"
          ]
        }
      ],
      "source": [
        "val1 = 10  # Integer data type\n",
        "print(val1)"
      ]
    },
    {
      "cell_type": "code",
      "execution_count": null,
      "id": "41962b31-c645-45f4-a2e8-d33072a52518",
      "metadata": {
        "colab": {
          "background_save": true
        },
        "id": "41962b31-c645-45f4-a2e8-d33072a52518",
        "outputId": "c2bc6fa7-4bb9-4ec8-bd0c-ee78addd2e68"
      },
      "outputs": [
        {
          "name": "stdout",
          "output_type": "stream",
          "text": [
            "92.78\n"
          ]
        }
      ],
      "source": [
        "val2 = 92.78 # Float data type\n",
        "print(val2)"
      ]
    },
    {
      "cell_type": "code",
      "execution_count": null,
      "id": "3db200d5-1f64-48b8-9597-6d7c90465636",
      "metadata": {
        "colab": {
          "background_save": true
        },
        "id": "3db200d5-1f64-48b8-9597-6d7c90465636",
        "outputId": "ddb2c514-3c5b-4bf6-8437-569b668702da"
      },
      "outputs": [
        {
          "name": "stdout",
          "output_type": "stream",
          "text": [
            "(25+10j)\n"
          ]
        }
      ],
      "source": [
        "val3 = 25 + 10j # Complex data type\n",
        "print(val3)"
      ]
    },
    {
      "cell_type": "code",
      "source": [
        "val1 = 25 + 10j # complex data type\n",
        "print(val1)"
      ],
      "metadata": {
        "colab": {
          "base_uri": "https://localhost:8080/"
        },
        "id": "sLdNZANdRzzQ",
        "outputId": "8b03df6b-6e66-4bf8-b822-e04711146904"
      },
      "id": "sLdNZANdRzzQ",
      "execution_count": null,
      "outputs": [
        {
          "output_type": "stream",
          "name": "stdout",
          "text": [
            "(25+10j)\n"
          ]
        }
      ]
    },
    {
      "cell_type": "markdown",
      "id": "95a3616e-2cd9-4425-ba36-c518ce04f584",
      "metadata": {
        "id": "95a3616e-2cd9-4425-ba36-c518ce04f584"
      },
      "source": [
        "##### String\n"
      ]
    },
    {
      "cell_type": "code",
      "execution_count": null,
      "id": "21de5161-a1b4-47df-a536-fbb43a06e853",
      "metadata": {
        "colab": {
          "background_save": true
        },
        "id": "21de5161-a1b4-47df-a536-fbb43a06e853",
        "outputId": "22d65d98-5cda-4ff6-9827-0998aa5c42f8"
      },
      "outputs": [
        {
          "name": "stdout",
          "output_type": "stream",
          "text": [
            "HELLO PYTHON\n"
          ]
        }
      ],
      "source": [
        "str1 = \"HELLO PYTHON\"\n",
        "print(str1)"
      ]
    },
    {
      "cell_type": "code",
      "source": [
        "str1 = 'hello python'\n",
        "print(str1)"
      ],
      "metadata": {
        "colab": {
          "base_uri": "https://localhost:8080/"
        },
        "id": "qvVav9yfSSKQ",
        "outputId": "71e6a4ec-4ff9-4a2d-80f8-425982d521d2"
      },
      "id": "qvVav9yfSSKQ",
      "execution_count": null,
      "outputs": [
        {
          "output_type": "stream",
          "name": "stdout",
          "text": [
            "hello python\n"
          ]
        }
      ]
    },
    {
      "cell_type": "code",
      "execution_count": null,
      "id": "c6da5b6b-9a0b-4f15-af46-0d6afb861c97",
      "metadata": {
        "colab": {
          "background_save": true
        },
        "id": "c6da5b6b-9a0b-4f15-af46-0d6afb861c97",
        "outputId": "9e6ba55b-6314-40e9-e07e-3afc4597f10f"
      },
      "outputs": [
        {
          "name": "stdout",
          "output_type": "stream",
          "text": [
            "Hello World\n"
          ]
        }
      ],
      "source": [
        "mystr = 'Hello World' # Define string using single quotes\n",
        "print(mystr)"
      ]
    },
    {
      "cell_type": "code",
      "execution_count": null,
      "id": "291ecd02-5c59-4c39-af01-95fd54520257",
      "metadata": {
        "colab": {
          "background_save": true
        },
        "id": "291ecd02-5c59-4c39-af01-95fd54520257",
        "outputId": "6708d72f-c780-420f-9d7c-9acaf4ff1391"
      },
      "outputs": [
        {
          "name": "stdout",
          "output_type": "stream",
          "text": [
            "Hello World\n"
          ]
        }
      ],
      "source": [
        "mystr = \"Hello World\" # Define string using double quotes\n",
        "print(mystr)"
      ]
    },
    {
      "cell_type": "code",
      "execution_count": null,
      "id": "1094d415-1756-489f-b90b-6570bc87e491",
      "metadata": {
        "colab": {
          "background_save": true
        },
        "id": "1094d415-1756-489f-b90b-6570bc87e491",
        "outputId": "f532c816-9430-4373-e180-d38d1677db1c"
      },
      "outputs": [
        {
          "name": "stdout",
          "output_type": "stream",
          "text": [
            "Hello\n",
            "            World \n"
          ]
        }
      ],
      "source": [
        "# Define string using triple quotes\n",
        "mystr = '''Hello\n",
        "            World '''\n",
        "print(mystr)"
      ]
    },
    {
      "cell_type": "code",
      "source": [
        "mystr = ''' hello\n",
        "            world'''\n",
        "print(mystr)"
      ],
      "metadata": {
        "colab": {
          "base_uri": "https://localhost:8080/"
        },
        "id": "vivGeTccSoSf",
        "outputId": "5847e7b8-bf38-4607-ba44-d2ec0d6eeab1"
      },
      "id": "vivGeTccSoSf",
      "execution_count": null,
      "outputs": [
        {
          "output_type": "stream",
          "name": "stdout",
          "text": [
            " hello \n",
            "            world\n"
          ]
        }
      ]
    },
    {
      "cell_type": "code",
      "execution_count": null,
      "id": "eba2ac60-535b-47bc-86c9-41a58d1cb5e2",
      "metadata": {
        "colab": {
          "background_save": true
        },
        "id": "eba2ac60-535b-47bc-86c9-41a58d1cb5e2",
        "outputId": "045a9d65-ac43-4a6d-b9ce-e9562f6ae954"
      },
      "outputs": [
        {
          "name": "stdout",
          "output_type": "stream",
          "text": [
            "This is\n",
            "    my sentence\n"
          ]
        }
      ],
      "source": [
        "sentence = '''This is\n",
        "    my sentence'''\n",
        "print(sentence)"
      ]
    },
    {
      "cell_type": "code",
      "execution_count": null,
      "id": "e1d37ec0-7d7d-472f-a7f3-f534642ee8f0",
      "metadata": {
        "colab": {
          "background_save": true,
          "base_uri": "https://localhost:8080/"
        },
        "id": "e1d37ec0-7d7d-472f-a7f3-f534642ee8f0",
        "outputId": "73104011-27f2-4b18-85c5-a127c4c9ce0f"
      },
      "outputs": [
        {
          "name": "stdout",
          "output_type": "stream",
          "text": [
            "Happy Monday Everyone\n"
          ]
        }
      ],
      "source": [
        "mystr = ('Happy '\n",
        " 'Monday '\n",
        " 'Everyone')\n",
        "print(mystr)"
      ]
    },
    {
      "cell_type": "code",
      "source": [
        "mystr2 = 'python '\n",
        "mystr2 = mystr2*8\n",
        "print(mystr2)\n",
        "print(len(mystr2))"
      ],
      "metadata": {
        "colab": {
          "base_uri": "https://localhost:8080/"
        },
        "id": "lSlZs8Q1S1GL",
        "outputId": "7df3f277-7d0a-43f7-d9c9-a45d0ccd885f"
      },
      "id": "lSlZs8Q1S1GL",
      "execution_count": null,
      "outputs": [
        {
          "output_type": "stream",
          "name": "stdout",
          "text": [
            "python python python python python python python python \n",
            "56\n"
          ]
        }
      ]
    },
    {
      "cell_type": "code",
      "execution_count": null,
      "id": "530b7a40-c423-4621-ae25-0c928d02a305",
      "metadata": {
        "colab": {
          "background_save": true
        },
        "id": "530b7a40-c423-4621-ae25-0c928d02a305",
        "outputId": "8338d3c4-19a5-4bf9-bf5d-adfe8ad2fab0"
      },
      "outputs": [
        {
          "data": {
            "text/plain": [
              "35"
            ]
          },
          "execution_count": 15,
          "metadata": {},
          "output_type": "execute_result"
        }
      ],
      "source": [
        "len(mystr2) # Length of string"
      ]
    },
    {
      "cell_type": "markdown",
      "id": "b2a599b3-95f8-4600-9d8b-f41fbd7ba955",
      "metadata": {
        "id": "b2a599b3-95f8-4600-9d8b-f41fbd7ba955"
      },
      "source": [
        "##### Boolean"
      ]
    },
    {
      "cell_type": "code",
      "execution_count": null,
      "id": "1b959ee2-9a29-4e79-884f-597a3321166c",
      "metadata": {
        "colab": {
          "background_save": true
        },
        "id": "1b959ee2-9a29-4e79-884f-597a3321166c"
      },
      "outputs": [],
      "source": [
        "bool1 = True"
      ]
    },
    {
      "cell_type": "code",
      "execution_count": null,
      "id": "21ec45ba-3432-4b8b-bfbb-fa6fa08cd996",
      "metadata": {
        "colab": {
          "background_save": true
        },
        "id": "21ec45ba-3432-4b8b-bfbb-fa6fa08cd996"
      },
      "outputs": [],
      "source": [
        "bool2 = False"
      ]
    },
    {
      "cell_type": "code",
      "execution_count": null,
      "id": "dc36a399-59d5-4767-8475-3f4cdea9d009",
      "metadata": {
        "colab": {
          "background_save": true
        },
        "id": "dc36a399-59d5-4767-8475-3f4cdea9d009",
        "outputId": "57a71e82-6fe6-4282-adea-e4aeb204b72a"
      },
      "outputs": [
        {
          "data": {
            "text/plain": [
              "True"
            ]
          },
          "execution_count": 18,
          "metadata": {},
          "output_type": "execute_result"
        }
      ],
      "source": [
        "bool1"
      ]
    },
    {
      "cell_type": "code",
      "execution_count": null,
      "id": "2de9873c-662b-4f0b-a726-bccbf1edad21",
      "metadata": {
        "colab": {
          "background_save": true,
          "base_uri": "https://localhost:8080/"
        },
        "id": "2de9873c-662b-4f0b-a726-bccbf1edad21",
        "outputId": "392a07b9-91e9-4889-fc42-56bb3c8374a4"
      },
      "outputs": [
        {
          "data": {
            "text/plain": [
              "False"
            ]
          },
          "execution_count": 19,
          "metadata": {},
          "output_type": "execute_result"
        }
      ],
      "source": [
        "bool(0)"
      ]
    },
    {
      "cell_type": "code",
      "execution_count": null,
      "id": "36368e8c-146e-43a4-b524-6feb1996e8c3",
      "metadata": {
        "colab": {
          "background_save": true
        },
        "id": "36368e8c-146e-43a4-b524-6feb1996e8c3",
        "outputId": "d042e691-a9b8-4f70-f805-4f3d978315e7"
      },
      "outputs": [
        {
          "data": {
            "text/plain": [
              "False"
            ]
          },
          "execution_count": 20,
          "metadata": {},
          "output_type": "execute_result"
        }
      ],
      "source": [
        "bool(None)"
      ]
    },
    {
      "cell_type": "code",
      "execution_count": null,
      "id": "13ff76cf-bdd1-4357-9deb-1654dd13f442",
      "metadata": {
        "colab": {
          "background_save": true
        },
        "id": "13ff76cf-bdd1-4357-9deb-1654dd13f442",
        "outputId": "971aba13-0805-4da2-c64b-e9c88ffcf805"
      },
      "outputs": [
        {
          "data": {
            "text/plain": [
              "False"
            ]
          },
          "execution_count": 21,
          "metadata": {},
          "output_type": "execute_result"
        }
      ],
      "source": [
        "bool (False)"
      ]
    },
    {
      "cell_type": "code",
      "execution_count": null,
      "id": "b5c4fbac-8ff7-451d-b058-0950dc6f6af3",
      "metadata": {
        "colab": {
          "background_save": true
        },
        "id": "b5c4fbac-8ff7-451d-b058-0950dc6f6af3",
        "outputId": "0c1265a4-ee15-4553-901b-9baea21f0958"
      },
      "outputs": [
        {
          "data": {
            "text/plain": [
              "str"
            ]
          },
          "execution_count": 22,
          "metadata": {},
          "output_type": "execute_result"
        }
      ],
      "source": [
        "type(mystr)"
      ]
    },
    {
      "cell_type": "code",
      "execution_count": null,
      "id": "c09f107b-00f1-4eec-9b33-1d6319e313d4",
      "metadata": {
        "colab": {
          "background_save": true
        },
        "id": "c09f107b-00f1-4eec-9b33-1d6319e313d4",
        "outputId": "4e49448e-927c-44b8-9ffc-21697a2bc925"
      },
      "outputs": [
        {
          "data": {
            "text/plain": [
              "bool"
            ]
          },
          "execution_count": 23,
          "metadata": {},
          "output_type": "execute_result"
        }
      ],
      "source": [
        "type(bool1)"
      ]
    },
    {
      "cell_type": "code",
      "execution_count": null,
      "id": "eb933c32-da13-4ef8-80a6-a101ca6eeadd",
      "metadata": {
        "colab": {
          "background_save": true
        },
        "id": "eb933c32-da13-4ef8-80a6-a101ca6eeadd",
        "outputId": "6a75b4de-c972-4742-e0ac-63b28a330cdb"
      },
      "outputs": [
        {
          "data": {
            "text/plain": [
              "complex"
            ]
          },
          "execution_count": 24,
          "metadata": {},
          "output_type": "execute_result"
        }
      ],
      "source": [
        "type(val3)"
      ]
    },
    {
      "cell_type": "code",
      "execution_count": null,
      "id": "3cd6c2a8-de60-4a96-b341-656fe8486cd0",
      "metadata": {
        "id": "3cd6c2a8-de60-4a96-b341-656fe8486cd0",
        "outputId": "50323a25-5ae2-414e-d9f8-20356c41945d"
      },
      "outputs": [
        {
          "name": "stdout",
          "output_type": "stream",
          "text": [
            "\n",
            "Here is a list of the Python keywords.  Enter any keyword to get more help.\n",
            "\n",
            "False               class               from                or\n",
            "None                continue            global              pass\n",
            "True                def                 if                  raise\n",
            "and                 del                 import              return\n",
            "as                  elif                in                  try\n",
            "assert              else                is                  while\n",
            "async               except              lambda              with\n",
            "await               finally             nonlocal            yield\n",
            "break               for                 not                 \n",
            "\n"
          ]
        }
      ],
      "source": [
        " help('keywords')"
      ]
    },
    {
      "cell_type": "code",
      "execution_count": null,
      "id": "8f193b9f-0009-49c3-aa46-a950da6f2bc9",
      "metadata": {
        "id": "8f193b9f-0009-49c3-aa46-a950da6f2bc9",
        "outputId": "55890825-cb92-4cc0-be3f-21f18e5cbb81"
      },
      "outputs": [
        {
          "data": {
            "text/plain": [
              "3.3333333333333335"
            ]
          },
          "execution_count": 54,
          "metadata": {},
          "output_type": "execute_result"
        }
      ],
      "source": [
        "10/3"
      ]
    },
    {
      "cell_type": "code",
      "execution_count": null,
      "id": "67f158bc-979b-45d7-b221-c56ad0bdf4ae",
      "metadata": {
        "colab": {
          "base_uri": "https://localhost:8080/"
        },
        "id": "67f158bc-979b-45d7-b221-c56ad0bdf4ae",
        "outputId": "09eaf968-808d-45f8-e5c3-79e8d6ad02d7"
      },
      "outputs": [
        {
          "name": "stdout",
          "output_type": "stream",
          "text": [
            "5\n",
            "a + b =  5\n",
            "a - b =  1\n",
            "a * b =  6\n",
            "a / b =  1.5\n",
            "a % b =  1\n",
            "a // b =  1\n",
            "a ** b =  9\n"
          ]
        }
      ],
      "source": [
        "a = 3 # a is a variable name and 3 is an integer data type\n",
        "b = 2 # b is a variable name and 3 is an integer data type\n",
        "\n",
        "# Arithmetic operations and assigning the result to a variable\n",
        "total = a + b\n",
        "diff = a - b\n",
        "product = a * b\n",
        "division = a / b\n",
        "remainder = a % b\n",
        "floor_division = a // b\n",
        "exponential = a ** b\n",
        "\n",
        "# I should have used sum instead of total but sum is a built in function - try to avoid overriding built-in functions\n",
        "\n",
        "print(total) # if you do not label your print with some string, you never know where the result is coming from\n",
        "print('a + b = ', total)\n",
        "print('a - b = ', diff)\n",
        "print('a * b = ', product)\n",
        "print('a / b = ', division)\n",
        "print('a % b = ', remainder)\n",
        "print('a // b = ', floor_division)\n",
        "print('a ** b = ', exponential)"
      ]
    },
    {
      "cell_type": "code",
      "execution_count": null,
      "id": "cc2b353a-cfab-4312-9580-420b2f9fe1d9",
      "metadata": {
        "id": "cc2b353a-cfab-4312-9580-420b2f9fe1d9"
      },
      "outputs": [],
      "source": []
    },
    {
      "cell_type": "code",
      "execution_count": null,
      "id": "c2f5af68-f152-4d6d-90ef-68bcd1327a0d",
      "metadata": {
        "id": "c2f5af68-f152-4d6d-90ef-68bcd1327a0d",
        "outputId": "513c82ec-f7d8-4b5a-d3b2-297a90c29b9b"
      },
      "outputs": [
        {
          "name": "stdout",
          "output_type": "stream",
          "text": [
            "Area of rectangle: 200\n"
          ]
        }
      ],
      "source": [
        "# Calculating area of a rectangle\n",
        "length = 10\n",
        "width = 20\n",
        "area_of_rectangle = length * width\n",
        "print('Area of rectangle:', area_of_rectangle)"
      ]
    },
    {
      "cell_type": "code",
      "source": [
        "radius = int(input(\"Enter the radius :\"))\n",
        "area_of_circle = 3.14 * radius ** 2\n",
        "print('Arae of circle :',area_of_circle)"
      ],
      "metadata": {
        "colab": {
          "base_uri": "https://localhost:8080/"
        },
        "id": "HoTaezO7msiT",
        "outputId": "0237058c-2c4b-4fe9-aafb-1d8261af5b5c"
      },
      "id": "HoTaezO7msiT",
      "execution_count": null,
      "outputs": [
        {
          "output_type": "stream",
          "name": "stdout",
          "text": [
            "Enter the radius :55\n",
            "Arae of circle : 9498.5\n"
          ]
        }
      ]
    },
    {
      "cell_type": "code",
      "execution_count": null,
      "id": "b1e47582-06e9-4061-a559-e58e1f65effe",
      "metadata": {
        "id": "b1e47582-06e9-4061-a559-e58e1f65effe"
      },
      "outputs": [],
      "source": [
        "a=input()"
      ]
    },
    {
      "cell_type": "code",
      "execution_count": null,
      "id": "a198d66e-18c4-41a4-a4ee-23d68862ceba",
      "metadata": {
        "id": "a198d66e-18c4-41a4-a4ee-23d68862ceba"
      },
      "outputs": [],
      "source": [
        "type(a)"
      ]
    },
    {
      "cell_type": "code",
      "execution_count": null,
      "id": "9044a3ba-426b-4d55-9676-489789755d46",
      "metadata": {
        "id": "9044a3ba-426b-4d55-9676-489789755d46"
      },
      "outputs": [],
      "source": [
        "a=int(a)"
      ]
    },
    {
      "cell_type": "code",
      "execution_count": null,
      "id": "8c7059ea-16bc-4ed4-b2e6-91730384402f",
      "metadata": {
        "id": "8c7059ea-16bc-4ed4-b2e6-91730384402f"
      },
      "outputs": [],
      "source": [
        "type(a)"
      ]
    },
    {
      "cell_type": "code",
      "execution_count": null,
      "id": "56a4259c-746c-4490-87e5-b11a9bf9b2e1",
      "metadata": {
        "id": "56a4259c-746c-4490-87e5-b11a9bf9b2e1"
      },
      "outputs": [],
      "source": [
        "num1 = int(input())\n",
        "num2 = int(input())\n",
        "print(num1)\n",
        "print(num2)\n",
        "\n",
        "print(num1 + num2)"
      ]
    },
    {
      "cell_type": "code",
      "execution_count": null,
      "id": "90bab892-fe3b-4fb9-a287-0a4ca81cdb59",
      "metadata": {
        "id": "90bab892-fe3b-4fb9-a287-0a4ca81cdb59"
      },
      "outputs": [],
      "source": [
        "# Calculating area of a circle\n",
        "radius = int(input(\"Enter the radius\" ))                            # radius of a circle\n",
        "area_of_circle = 3.14 * radius ** 2         # two * sign means exponent or power\n",
        "print('Area of a circle:', area_of_circle)\n",
        "\n"
      ]
    },
    {
      "cell_type": "code",
      "execution_count": null,
      "id": "c5716b09-1d6f-4bae-84fa-046162866fdf",
      "metadata": {
        "id": "c5716b09-1d6f-4bae-84fa-046162866fdf",
        "outputId": "fdb1c2fb-5f1f-4419-d88c-1f66d1b324ab"
      },
      "outputs": [
        {
          "name": "stdout",
          "output_type": "stream",
          "text": [
            "True\n",
            "True\n",
            "False\n",
            "True\n",
            "True\n",
            "False\n",
            "True\n",
            "False\n",
            "True\n",
            "True\n",
            "False\n",
            "True\n",
            "True\n",
            "False\n",
            "True == True:  True\n",
            "True == False:  False\n",
            "False == False: True\n"
          ]
        }
      ],
      "source": [
        "print(3 > 2)     # True, because 3 is greater than 2\n",
        "print(3 >= 2)    # True, because 3 is greater than 2\n",
        "print(3 < 2)     # False,  because 3 is greater than 2\n",
        "print(2 < 3)     # True, because 2 is less than 3\n",
        "print(2 <= 3)    # True, because 2 is less than 3\n",
        "print(3 == 2)    # False, because 3 is not equal to 2\n",
        "print(3 != 2)    # True, because 3 is not equal to 2\n",
        "\n",
        "print(len('mango') == len('avocado'))  # False\n",
        "print(len('mango') != len('avocado'))  # True\n",
        "print(len('mango') < len('avocado'))   # True\n",
        "print(len('milk') != len('meat'))      # False\n",
        "print(len('milk') == len('meat'))      # True\n",
        "print(len('tomato') == len('potato'))  # True\n",
        "print(len('python') > len('dragon'))   # False\n",
        "\n",
        "# Comparing something gives either a True or False\n",
        "print('True == True: ', True == True)\n",
        "print('True == False: ', True == False)\n",
        "print('False == False:', False == False)\n"
      ]
    },
    {
      "cell_type": "code",
      "execution_count": null,
      "id": "347d2437-f1fa-4dd9-aec5-9cab64fed218",
      "metadata": {
        "id": "347d2437-f1fa-4dd9-aec5-9cab64fed218",
        "outputId": "4728830d-b256-4bf1-fdf6-75cc1eb2e9b9"
      },
      "outputs": [
        {
          "name": "stdout",
          "output_type": "stream",
          "text": [
            "1 is 1 True\n",
            "1 is not 2 True\n",
            "A in Asabeneh True\n",
            "B in Asabeneh False\n",
            "True\n",
            "a in an: True\n",
            "4 is 2 ** 2: True\n"
          ]
        }
      ],
      "source": [
        "print('1 is 1', 1 is 1)                   # True - because the data values are the same\n",
        "print('1 is not 2', 1 is not 2)           # True - because 1 is not 2\n",
        "print('A in Asabeneh', 'A' in 'Asabeneh') # True - A found in the string\n",
        "print('B in Asabeneh', 'B' in 'Asabeneh') # False - there is no uppercase B\n",
        "print('coding' in 'coding for all') # True - because coding for all has the word coding\n",
        "print('a in an:', 'a' in 'an')      # True\n",
        "print('4 is 2 ** 2:', 4 is 2 ** 2)   # True"
      ]
    },
    {
      "cell_type": "code",
      "execution_count": null,
      "id": "a95f5c21-848e-46f4-8819-cd9d123e6cbd",
      "metadata": {
        "id": "a95f5c21-848e-46f4-8819-cd9d123e6cbd",
        "outputId": "0abecbf5-f593-42f1-fadf-2611bf8eaa34"
      },
      "outputs": [
        {
          "name": "stdout",
          "output_type": "stream",
          "text": [
            "True\n",
            "False\n",
            "False\n",
            "True and True:  True\n",
            "True\n",
            "True\n",
            "False\n",
            "True or False: True\n",
            "False\n",
            "False\n",
            "True\n"
          ]
        }
      ],
      "source": [
        "print(3 > 2 and 4 > 3) # True - because both statements are true\n",
        "print(3 > 2 and 4 < 3) # False - because the second statement is false\n",
        "print(3 < 2 and 4 < 3) # False - because both statements are false\n",
        "print('True and True: ', True and True)\n",
        "print(3 > 2 or 4 > 3)  # True - because both statements are true\n",
        "print(3 > 2 or 4 < 3)  # True - because one of the statements is true\n",
        "print(3 < 2 or 4 < 3)  # False - because both statements are false\n",
        "print('True or False:', True or False)\n",
        "print(not 3 > 2)     # False - because 3 > 2 is true, then not True gives False\n",
        "print(not True)      # False - Negation, the not operator turns true to false\n",
        "print(not False)     # True\n"
      ]
    },
    {
      "cell_type": "code",
      "execution_count": null,
      "id": "fbf92b06-f253-4a71-85a8-96a1bbac41b0",
      "metadata": {
        "id": "fbf92b06-f253-4a71-85a8-96a1bbac41b0",
        "outputId": "f1dcad1a-d3d4-421b-89e8-817ca7f7b51b"
      },
      "outputs": [
        {
          "name": "stdout",
          "output_type": "stream",
          "text": [
            "True\n",
            "False\n"
          ]
        }
      ],
      "source": [
        "print(True)\n",
        "print(False)"
      ]
    },
    {
      "cell_type": "code",
      "execution_count": null,
      "id": "f281ff7f-d926-4ab5-9468-928e6b0a93d7",
      "metadata": {
        "id": "f281ff7f-d926-4ab5-9468-928e6b0a93d7",
        "outputId": "b2eceb7e-611a-4920-cc00-bd3c5caaa2ec"
      },
      "outputs": [
        {
          "data": {
            "text/plain": [
              "5"
            ]
          },
          "execution_count": 40,
          "metadata": {},
          "output_type": "execute_result"
        }
      ],
      "source": [
        "2*3-1"
      ]
    },
    {
      "cell_type": "code",
      "execution_count": null,
      "id": "e2817a90-ac63-422a-b0d0-9a04c53965aa",
      "metadata": {
        "id": "e2817a90-ac63-422a-b0d0-9a04c53965aa",
        "outputId": "232540db-b127-4b4d-a13a-e84e5159108f"
      },
      "outputs": [
        {
          "data": {
            "text/plain": [
              "8.0"
            ]
          },
          "execution_count": 41,
          "metadata": {},
          "output_type": "execute_result"
        }
      ],
      "source": [
        "6+4/2"
      ]
    },
    {
      "cell_type": "code",
      "source": [
        "#Write a script that prompts the user to enter base and height of the triangle and calculate an area of this triangle (area = 0.5 x b x h).\n",
        "\n",
        "#prompt the user to enter the base the of the triangle\n",
        "base = int(input(\"Enter the base : \"))\n",
        "\n",
        "#prompt the user to enter the heigth of the triangle\n",
        "heigth = int(input(\"Enter the heigth : \"))\n",
        "\n",
        "#calculate the area of the tringle\n",
        "area_of_triangle = 0.5 * base * heigth\n",
        "\n",
        "#Diplay the calculated area\n",
        "print('area of triangle : ',area_of_triangle)"
      ],
      "metadata": {
        "colab": {
          "base_uri": "https://localhost:8080/"
        },
        "id": "3TuIC51wooQI",
        "outputId": "e2da3157-26b8-44f1-a1ae-795c7c1a509c"
      },
      "id": "3TuIC51wooQI",
      "execution_count": null,
      "outputs": [
        {
          "output_type": "stream",
          "name": "stdout",
          "text": [
            "Enter the base : 5\n",
            "Enter the heigth : 6\n",
            "area of triangle :  15.0\n"
          ]
        }
      ]
    },
    {
      "cell_type": "code",
      "source": [
        "#Write a script that prompts the user to enter hours and rate per hour. Calculate pay of the person\n",
        "\n",
        "#prompt the user to enter number of hours worked\n",
        "hours = int(input(\"Enter the hours :\"))\n",
        "\n",
        "# prompt the user to enter rate per hour\n",
        "rate_per_hour = int(input(\"Enter the rate per hours :\"))\n",
        "\n",
        "# calculate the total pay\n",
        "pay_of_person = hours * rate_per_hour\n",
        "\n",
        "# Display the calculated pay\n",
        "print('pay :',pay_of_person)"
      ],
      "metadata": {
        "colab": {
          "base_uri": "https://localhost:8080/"
        },
        "id": "SCBekoNEpcL9",
        "outputId": "883bd373-d0c9-4a82-f77b-7943054cbefb"
      },
      "id": "SCBekoNEpcL9",
      "execution_count": null,
      "outputs": [
        {
          "output_type": "stream",
          "name": "stdout",
          "text": [
            "Enter the hours :10\n",
            "Enter the rate per hours :8\n",
            "pay : 80\n"
          ]
        }
      ]
    },
    {
      "cell_type": "code",
      "source": [
        "\n",
        "#Write a script that prompts the user to enter number of years. Calculate the number of seconds a person can live. Assume a person can live hundred years\n",
        "\n",
        "#prompt the user to enter their current age in years\n",
        "year =int(input(\"Enter the number of years :\"))\n",
        "\n",
        "# Maximum Life span assumption\n",
        "person =100\n",
        "\n",
        "#calculate secondsin alive to live\n",
        "seconds_in_alive = person - year\n",
        "\n",
        "# the nds a person can liveNumber of seconds in one year(365)\n",
        "the_number_of_seconds =  365 *24 *60 *60\n",
        "\n",
        "#calculate alive seco\n",
        "alive = seconds_in_alive  * the_number_of_seconds\n",
        "\n",
        "#Diplay the result\n",
        "print('number of seconds :',alive, 'alive',year)"
      ],
      "metadata": {
        "colab": {
          "base_uri": "https://localhost:8080/"
        },
        "id": "-5zpsO4MqI7W",
        "outputId": "73c8a8d0-4037-4c71-8050-7d23ab4be3fe"
      },
      "id": "-5zpsO4MqI7W",
      "execution_count": null,
      "outputs": [
        {
          "output_type": "stream",
          "name": "stdout",
          "text": [
            "Enter the number of years :25\n",
            "number of seconds : 2365200000 alive 25\n"
          ]
        }
      ]
    }
  ],
  "metadata": {
    "colab": {
      "provenance": [],
      "include_colab_link": true
    },
    "kernelspec": {
      "display_name": "Python 3 (ipykernel)",
      "language": "python",
      "name": "python3"
    },
    "language_info": {
      "codemirror_mode": {
        "name": "ipython",
        "version": 3
      },
      "file_extension": ".py",
      "mimetype": "text/x-python",
      "name": "python",
      "nbconvert_exporter": "python",
      "pygments_lexer": "ipython3",
      "version": "3.12.7"
    }
  },
  "nbformat": 4,
  "nbformat_minor": 5
}