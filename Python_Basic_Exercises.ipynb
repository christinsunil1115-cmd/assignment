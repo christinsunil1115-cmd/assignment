{
  "nbformat": 4,
  "nbformat_minor": 0,
  "metadata": {
    "colab": {
      "provenance": []
    },
    "kernelspec": {
      "name": "python3",
      "display_name": "Python 3"
    },
    "language_info": {
      "name": "python"
    }
  },
  "cells": [
    {
      "cell_type": "markdown",
      "source": [
        "# **Python Basic Exercises**"
      ],
      "metadata": {
        "id": "ysi7Q1QD745Y"
      }
    },
    {
      "cell_type": "code",
      "execution_count": null,
      "metadata": {
        "id": "qE0Sp3TN7wEN"
      },
      "outputs": [],
      "source": [
        "#1. Check the data type of 4 - 4j\n",
        "type(4-4j)\n"
      ]
    },
    {
      "cell_type": "code",
      "source": [
        "#2. Find an Euclidian distance between (2, 3) and (10, 8)\n",
        "import math\n",
        "x1=2\n",
        "y1=3\n",
        "x2=10\n",
        "y2=8\n",
        "eu=math.sqrt((x2-x1)**2+(y2-y1)**2)\n",
        "print(round(eu,2))"
      ],
      "metadata": {
        "id": "8ELh-nl177UW"
      },
      "execution_count": null,
      "outputs": []
    },
    {
      "cell_type": "code",
      "source": [
        "#3. Input the name and age from a user and store the values in variables\n",
        "name=input(\"Enter your name :\")\n",
        "age=int(input(\"Enter your age :\"))\n"
      ],
      "metadata": {
        "id": "ePuqlBHc77Q6"
      },
      "execution_count": null,
      "outputs": []
    },
    {
      "cell_type": "code",
      "source": [
        "#4. Declare a variable is_married and assign a value to it\n",
        "is_marrired=\"true\"\n",
        "print(is_marrired)"
      ],
      "metadata": {
        "id": "QzgNxTAt77OV"
      },
      "execution_count": null,
      "outputs": []
    },
    {
      "cell_type": "code",
      "source": [
        "#5. Declare a variable is_true and assign a value to it\n",
        "is_true=\"true\"\n",
        "print(is_true)"
      ],
      "metadata": {
        "id": "aC0a-jPT77Lv"
      },
      "execution_count": null,
      "outputs": []
    },
    {
      "cell_type": "code",
      "source": [
        "#6. Declare a variable is_light_on and assign a value to it\n",
        "is_light=\"false\"\n",
        "print(is_light)"
      ],
      "metadata": {
        "id": "E2yMjt4V77JG"
      },
      "execution_count": null,
      "outputs": []
    },
    {
      "cell_type": "code",
      "source": [
        "#7. Declare a variable first_name and store your name in it\n",
        "#Using the len() built-in function, find the length of your first name\n",
        "first_name=\"Luffy\"\n",
        "len(first_name)"
      ],
      "metadata": {
        "id": "ZLvrA8rX77Gg"
      },
      "execution_count": null,
      "outputs": []
    },
    {
      "cell_type": "code",
      "source": [
        "#8. Compare the length of your first name and your last name\n",
        "frist_name=\"Lu\"\n",
        "second_name=\"Luf\"\n",
        "print(frist_name==second_name)\n"
      ],
      "metadata": {
        "id": "23IIF_E577EG"
      },
      "execution_count": null,
      "outputs": []
    },
    {
      "cell_type": "code",
      "source": [
        "#9. Declare 5 as num_one and 4 as num_two\n",
        "num_one=2\n",
        "num_two=4\n",
        "c=num_one*5\n",
        "d=num_two*4\n",
        "print(c ,\"and\", d)"
      ],
      "metadata": {
        "id": "VpJ9hVIi77BT"
      },
      "execution_count": null,
      "outputs": []
    },
    {
      "cell_type": "code",
      "source": [
        "#10. Add num_one and num_two and assign the value to a variable total\n",
        "a=5\n",
        "b=10\n",
        "c=a+b\n",
        "print(c)"
      ],
      "metadata": {
        "id": "3--n-zs-76-r"
      },
      "execution_count": null,
      "outputs": []
    },
    {
      "cell_type": "code",
      "source": [
        "#11. Subtract num_two from num_one and assign the value to a variable diff\n",
        "a=5\n",
        "b=10\n",
        "c=a-b\n",
        "print(c)"
      ],
      "metadata": {
        "id": "WV0ji4tz7679"
      },
      "execution_count": null,
      "outputs": []
    },
    {
      "cell_type": "code",
      "source": [
        "#12. Multiply num_two and num_one and assign the value to a variable product\n",
        "a=5\n",
        "b=10\n",
        "c=a*b\n",
        "print(c)"
      ],
      "metadata": {
        "id": "KBlwXQZO765X"
      },
      "execution_count": null,
      "outputs": []
    },
    {
      "cell_type": "code",
      "source": [
        "#13. Divide num_one by num_two and assign the value to a variable division\n",
        "a=5\n",
        "b=10\n",
        "c=a/b\n",
        "print(c)"
      ],
      "metadata": {
        "id": "o0gK6a22762y"
      },
      "execution_count": null,
      "outputs": []
    },
    {
      "cell_type": "code",
      "source": [
        "#14. Use modulus division to find num_two divided by num_one and assign the value\n",
        "# to a variable remainder\n",
        "a=5\n",
        "b=10\n",
        "c=a%b\n",
        "print(c)"
      ],
      "metadata": {
        "id": "zrn9Du1B760F"
      },
      "execution_count": null,
      "outputs": []
    },
    {
      "cell_type": "code",
      "source": [
        "#15. Calculate num_one to the power of num_two and assign the value to a variable exp\n",
        "num_one=2\n",
        "num_two=num_one**2\n",
        "print(num_two)"
      ],
      "metadata": {
        "id": "EB2tEwLR76xe"
      },
      "execution_count": null,
      "outputs": []
    },
    {
      "cell_type": "code",
      "source": [
        "#16.Find floor division of num_one by num_two and assign the value to a variable floor_division\n",
        "a=5\n",
        "b=10\n",
        "c=a//b\n",
        "print(c)"
      ],
      "metadata": {
        "id": "NvhhFFXT76uz"
      },
      "execution_count": null,
      "outputs": []
    },
    {
      "cell_type": "code",
      "source": [
        "#17\n",
        "#1. Declare your age as integer variable\n",
        "#2. Declare your height as a float variable\n",
        "#3. Declare a variable that store a complex number\n",
        "age=25\n",
        "height=160\n",
        "num=(4+5j)\n",
        "print(age ,height,num)"
      ],
      "metadata": {
        "id": "9gRxSi6e76sJ"
      },
      "execution_count": null,
      "outputs": []
    },
    {
      "cell_type": "code",
      "source": [
        "#18. Write a script that prompts the user to enter\n",
        "#side a, side b, and side c of the triangle.\n",
        "#Calculate the perimeter of the triangle (perimeter = a + b + c).\n",
        "side_a = int(input(\"Enter side a: \"))\n",
        "side_b = int(input(\"Enter side b: \"))\n",
        "side_c = int(input(\"Enter side c: \"))\n",
        "\n",
        "perimeter = side_a + side_b + side_c\n",
        "print(\"Perimeter of the triangle:\", perimeter)\n",
        "\n"
      ],
      "metadata": {
        "id": "0EXArCTF76p0"
      },
      "execution_count": null,
      "outputs": []
    },
    {
      "cell_type": "code",
      "source": [
        "#19.Get length and width of a rectangle using prompt.\n",
        "#Calculate its area (area = length x width) and perimeter (perimeter = 2 x (length + width))\n",
        "length=int(input(\"Enter length:\"))\n",
        "width=int(input(\"Enter width:\"))\n",
        "area=length*width\n",
        "per=2*(length*width)\n",
        "print(area)\n",
        "print(per)"
      ],
      "metadata": {
        "id": "PXTVUBzx76nX"
      },
      "execution_count": null,
      "outputs": []
    },
    {
      "cell_type": "code",
      "source": [
        "#20. Calculate the slope, x-intercept and y-intercept of y = 2x -2\n",
        "x=int(input(\"Enter x:\"))\n",
        "y=2*x-2\n",
        "print(y)"
      ],
      "metadata": {
        "id": "zKHTxI3s76km"
      },
      "execution_count": null,
      "outputs": []
    },
    {
      "cell_type": "code",
      "source": [
        "#21. Slope is (m = y2-y1/x2-x1).\n",
        "#Find the slope and Euclidean distance between\n",
        "#point (2, 2) and point (6,10)\n",
        "import math\n",
        "x1=2\n",
        "y1=2\n",
        "x2=6\n",
        "y2=10\n",
        "m = (y2-y1)/(x2-x1)\n",
        "eu=math.sqrt((x2-x1)**2+(y2-y1)**2)\n",
        "print(m)\n",
        "print(round(eu,2))"
      ],
      "metadata": {
        "id": "8yMz6ROS76h3"
      },
      "execution_count": null,
      "outputs": []
    },
    {
      "cell_type": "code",
      "source": [
        "#22. Compare the slopes in previous tasks\n",
        "m=5.0\n",
        "eu=4.0\n",
        "print(m==eu)"
      ],
      "metadata": {
        "id": "Ox2I4rDw76fG"
      },
      "execution_count": null,
      "outputs": []
    },
    {
      "cell_type": "code",
      "source": [
        "#23. Calculate the value of y (y = x^2 + 6x + 9).\n",
        "#Try to use different x values and\n",
        "#figure out at what x value y is going to be 0.\n",
        "x=-3\n",
        "y = x**2 + 6*x+9\n",
        "print(y)"
      ],
      "metadata": {
        "id": "2twZlJ8g76cv"
      },
      "execution_count": null,
      "outputs": []
    },
    {
      "cell_type": "code",
      "source": [
        "#24. Use and operator to check if 'on' is found in both 'python' and 'dragon'\n",
        "a=\"python\"\n",
        "b=\"dragon\"\n",
        "if \"on\" in a and \"on\"in b:\n",
        "  print(\"on in both\")\n",
        "else:\n",
        "  print(\"not found\")"
      ],
      "metadata": {
        "id": "WMWdXC3o76Z1"
      },
      "execution_count": null,
      "outputs": []
    },
    {
      "cell_type": "code",
      "source": [
        "#25. Find the length of the text python and convert the value to float and\n",
        "#convert it to string\n",
        "text=\"Monkey D Luffy\"\n",
        "length=len(text)\n",
        "fl=float(length)\n",
        "string=str(fl)\n",
        "print(\"length is\",length)\n",
        "print(\"float is\",fl)\n",
        "print(\"string is\",string)"
      ],
      "metadata": {
        "id": "ysszTGY276Xa"
      },
      "execution_count": null,
      "outputs": []
    },
    {
      "cell_type": "code",
      "source": [
        "#26. I hope this course is not full of jargon.\n",
        "#Use in operator to check if jargon is in the sentence.\n",
        "text=\"I hope this course is not full of jargon.\"\n",
        "if \"jargon\" in text:\n",
        "  print(\"yes\")\n",
        "else:\n",
        "  print(\"no\")"
      ],
      "metadata": {
        "id": "3miS8AyK76Uy"
      },
      "execution_count": null,
      "outputs": []
    },
    {
      "cell_type": "code",
      "source": [
        "#27. Even numbers are divisible by 2 and the remainder is zero.\n",
        "#How do you check if a number is even or not using python?\n",
        "value=int(input(\"enter a value:\"))\n",
        "if value%2==0:\n",
        "  print(\"it is divisible by 2\")\n",
        "else:\n",
        "  print(\"it is not divisible by 2\")"
      ],
      "metadata": {
        "id": "0o4CQFrJ76SF"
      },
      "execution_count": null,
      "outputs": []
    },
    {
      "cell_type": "code",
      "source": [
        "#28. Check if the floor division of 7 by 3 is equal to the int converted value of 2.7.\n",
        "a=(7//3)\n",
        "b=2.7\n",
        "if a==b:\n",
        "  print(\"Same\")\n",
        "else:\n",
        "  print(\"Not same\")\n",
        "\n"
      ],
      "metadata": {
        "id": "zwzBoGUC76Po"
      },
      "execution_count": null,
      "outputs": []
    },
    {
      "cell_type": "code",
      "source": [
        "#29. Check if type of '10' is equal to type of 10\n",
        "if type(10)==10:\n",
        "  print(\"true\")\n",
        "else:\n",
        "  print(\"false\")"
      ],
      "metadata": {
        "id": "e50WtG2S76NN"
      },
      "execution_count": null,
      "outputs": []
    },
    {
      "cell_type": "code",
      "source": [
        "#30. Check if int('9.8') is equal to 10\n",
        "a=9.8\n",
        "if a==10:\n",
        "  print(\"True\")\n",
        "else:\n",
        "  print(\"False\")"
      ],
      "metadata": {
        "id": "wUMftlzI76K2"
      },
      "execution_count": null,
      "outputs": []
    },
    {
      "cell_type": "code",
      "source": [
        "#31. Write a code which gives grade to students according to theirs scores:\n",
        "#80-100, A\n",
        "#70-89, B\n",
        "#60-69, C\n",
        "#50-59, D\n",
        "#0-49, F\n",
        "mark=int(input(\"enter a mark:\"))\n",
        "if mark>=80 and mark<=100:\n",
        "  print(\"A\")\n",
        "elif mark>=70 and mark<=79:\n",
        "   print(\"B\")\n",
        "elif mark>=60 and mark<=69:\n",
        "  print(\"C\")\n",
        "elif mark>=50 and mark<=59:\n",
        "    print(\"D\")\n",
        "else:\n",
        "  print(\"F\")\n"
      ],
      "metadata": {
        "id": "CPUDnBDL76IQ"
      },
      "execution_count": null,
      "outputs": []
    },
    {
      "cell_type": "code",
      "source": [
        "#32.Check if the season is Autumn, Winter, Spring or Summer. If the user input is:\n",
        "#September, October or November, the season is Autumn. December, January\n",
        "#or February, the season is Winter. March, April or May, the season is Spring\n",
        "#June, July or August, the season is Summer\n",
        "season=input(\"Enter Season :\").capitalize()\n",
        "response = [\n",
        "    [\"September\", \"October\", \"November\"],   # Autumn\n",
        "    [\"December\", \"January\", \"February\"],    # Winter\n",
        "    [\"March\", \"April\", \"May\"],              # Spring\n",
        "    [\"June\", \"July\", \"August\"]              # Summer\n",
        "]\n",
        "if season in response[0]:\n",
        "  print(\"Autumn\")\n",
        "elif season in response[1]:\n",
        "  print(\"Winter\")\n",
        "elif season in response[2]:\n",
        "  print(\"Spring\")\n",
        "elif season in response[3]:\n",
        "  print(\"Summer\")\n",
        "else:\n",
        "  print(\"not found\")\n"
      ],
      "metadata": {
        "id": "DkAN5Xzt76F3"
      },
      "execution_count": null,
      "outputs": []
    }
  ]
}